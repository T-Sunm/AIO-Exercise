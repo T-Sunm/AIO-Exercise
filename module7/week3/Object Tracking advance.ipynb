{
 "cells": [
  {
   "cell_type": "markdown",
   "metadata": {},
   "source": [
    "# Version optimized\n",
    "Phiên bản này được tối ưu hóa bằng cách sử dụng batching và cải thiện hiệu suất xử lý."
   ]
  },
  {
   "cell_type": "code",
   "execution_count": null,
   "metadata": {},
   "outputs": [
    {
     "name": "stdout",
     "output_type": "stream",
     "text": [
      "Collecting loguru\n",
      "  Downloading loguru-0.7.3-py3-none-any.whl.metadata (22 kB)\n",
      "Requirement already satisfied: colorama>=0.3.4 in d:\\asus\\ungdung\\miniconda\\workspace\\envs\\aioex\\lib\\site-packages (from loguru) (0.4.6)\n",
      "Collecting win32-setctime>=1.0.0 (from loguru)\n",
      "  Downloading win32_setctime-1.2.0-py3-none-any.whl.metadata (2.4 kB)\n",
      "Downloading loguru-0.7.3-py3-none-any.whl (61 kB)\n",
      "Downloading win32_setctime-1.2.0-py3-none-any.whl (4.1 kB)\n",
      "Installing collected packages: win32-setctime, loguru\n",
      "Successfully installed loguru-0.7.3 win32-setctime-1.2.0\n"
     ]
    }
   ],
   "source": [
    "# Loguru tự động ghi lại traceback (dấu vết lỗi) mà không cần cấu hình thêm\n",
    "# ! pip install loguru"
   ]
  },
  {
   "cell_type": "code",
   "execution_count": 7,
   "metadata": {},
   "outputs": [
    {
     "name": "stdout",
     "output_type": "stream",
     "text": [
      "Requirement already satisfied: opencv-python in d:\\asus\\ungdung\\miniconda\\workspace\\envs\\aioex\\lib\\site-packages (4.10.0.84)\n",
      "Collecting opencv-contrib-python\n",
      "  Downloading opencv_contrib_python-4.11.0.86-cp37-abi3-win_amd64.whl.metadata (20 kB)\n",
      "Requirement already satisfied: numpy>=1.21.2 in d:\\asus\\ungdung\\miniconda\\workspace\\envs\\aioex\\lib\\site-packages (from opencv-python) (1.26.3)\n",
      "Downloading opencv_contrib_python-4.11.0.86-cp37-abi3-win_amd64.whl (46.2 MB)\n",
      "   ---------------------------------------- 0.0/46.2 MB ? eta -:--:--\n",
      "   ---------------------------------------- 0.3/46.2 MB ? eta -:--:--\n",
      "   - -------------------------------------- 1.6/46.2 MB 7.0 MB/s eta 0:00:07\n",
      "   -- ------------------------------------- 3.1/46.2 MB 6.4 MB/s eta 0:00:07\n",
      "   ---- ----------------------------------- 4.7/46.2 MB 6.8 MB/s eta 0:00:07\n",
      "   ----- ---------------------------------- 6.8/46.2 MB 7.6 MB/s eta 0:00:06\n",
      "   ------- -------------------------------- 9.2/46.2 MB 8.2 MB/s eta 0:00:05\n",
      "   --------- ------------------------------ 11.3/46.2 MB 8.5 MB/s eta 0:00:05\n",
      "   ----------- ---------------------------- 13.6/46.2 MB 8.9 MB/s eta 0:00:04\n",
      "   ------------- -------------------------- 15.7/46.2 MB 9.1 MB/s eta 0:00:04\n",
      "   --------------- ------------------------ 18.1/46.2 MB 9.4 MB/s eta 0:00:04\n",
      "   ----------------- ---------------------- 20.4/46.2 MB 9.5 MB/s eta 0:00:03\n",
      "   ----------------- ---------------------- 20.4/46.2 MB 9.5 MB/s eta 0:00:03\n",
      "   ------------------ --------------------- 21.8/46.2 MB 8.6 MB/s eta 0:00:03\n",
      "   ------------------- -------------------- 22.0/46.2 MB 8.1 MB/s eta 0:00:03\n",
      "   ------------------- -------------------- 22.3/46.2 MB 7.8 MB/s eta 0:00:04\n",
      "   ------------------- -------------------- 22.8/46.2 MB 7.3 MB/s eta 0:00:04\n",
      "   ------------------- -------------------- 23.1/46.2 MB 7.0 MB/s eta 0:00:04\n",
      "   -------------------- ------------------- 23.3/46.2 MB 6.7 MB/s eta 0:00:04\n",
      "   -------------------- ------------------- 23.6/46.2 MB 6.2 MB/s eta 0:00:04\n",
      "   -------------------- ------------------- 23.6/46.2 MB 6.2 MB/s eta 0:00:04\n",
      "   -------------------- ------------------- 23.9/46.2 MB 5.9 MB/s eta 0:00:04\n",
      "   -------------------- ------------------- 24.1/46.2 MB 5.5 MB/s eta 0:00:05\n",
      "   --------------------- ------------------ 24.4/46.2 MB 5.3 MB/s eta 0:00:05\n",
      "   --------------------- ------------------ 24.6/46.2 MB 5.1 MB/s eta 0:00:05\n",
      "   --------------------- ------------------ 24.9/46.2 MB 4.9 MB/s eta 0:00:05\n",
      "   --------------------- ------------------ 24.9/46.2 MB 4.9 MB/s eta 0:00:05\n",
      "   --------------------- ------------------ 25.2/46.2 MB 4.7 MB/s eta 0:00:05\n",
      "   ---------------------- ----------------- 25.4/46.2 MB 4.6 MB/s eta 0:00:05\n",
      "   ---------------------- ----------------- 25.7/46.2 MB 4.5 MB/s eta 0:00:05\n",
      "   ---------------------- ----------------- 26.0/46.2 MB 4.3 MB/s eta 0:00:05\n",
      "   ---------------------- ----------------- 26.2/46.2 MB 4.2 MB/s eta 0:00:05\n",
      "   ----------------------- ---------------- 26.7/46.2 MB 4.1 MB/s eta 0:00:05\n",
      "   ----------------------- ---------------- 27.0/46.2 MB 4.0 MB/s eta 0:00:05\n",
      "   ----------------------- ---------------- 27.3/46.2 MB 3.9 MB/s eta 0:00:05\n",
      "   ----------------------- ---------------- 27.5/46.2 MB 3.9 MB/s eta 0:00:05\n",
      "   ----------------------- ---------------- 27.5/46.2 MB 3.9 MB/s eta 0:00:05\n",
      "   ------------------------ --------------- 27.8/46.2 MB 3.7 MB/s eta 0:00:05\n",
      "   ------------------------ --------------- 28.0/46.2 MB 3.6 MB/s eta 0:00:05\n",
      "   ------------------------ --------------- 28.3/46.2 MB 3.5 MB/s eta 0:00:06\n",
      "   ------------------------ --------------- 28.6/46.2 MB 3.4 MB/s eta 0:00:06\n",
      "   ------------------------ --------------- 28.6/46.2 MB 3.4 MB/s eta 0:00:06\n",
      "   ------------------------ --------------- 28.8/46.2 MB 3.4 MB/s eta 0:00:06\n",
      "   ------------------------- -------------- 29.1/46.2 MB 3.3 MB/s eta 0:00:06\n",
      "   ------------------------- -------------- 29.4/46.2 MB 3.2 MB/s eta 0:00:06\n",
      "   ------------------------- -------------- 29.6/46.2 MB 3.2 MB/s eta 0:00:06\n",
      "   ------------------------- -------------- 29.9/46.2 MB 3.1 MB/s eta 0:00:06\n",
      "   ------------------------- -------------- 29.9/46.2 MB 3.1 MB/s eta 0:00:06\n",
      "   -------------------------- ------------- 30.1/46.2 MB 3.1 MB/s eta 0:00:06\n",
      "   -------------------------- ------------- 30.4/46.2 MB 3.0 MB/s eta 0:00:06\n",
      "   -------------------------- ------------- 30.7/46.2 MB 2.9 MB/s eta 0:00:06\n",
      "   -------------------------- ------------- 30.7/46.2 MB 2.9 MB/s eta 0:00:06\n",
      "   -------------------------- ------------- 30.9/46.2 MB 2.9 MB/s eta 0:00:06\n",
      "   --------------------------- ------------ 31.2/46.2 MB 2.8 MB/s eta 0:00:06\n",
      "   --------------------------- ------------ 31.2/46.2 MB 2.8 MB/s eta 0:00:06\n",
      "   --------------------------- ------------ 31.5/46.2 MB 2.8 MB/s eta 0:00:06\n",
      "   --------------------------- ------------ 31.7/46.2 MB 2.7 MB/s eta 0:00:06\n",
      "   --------------------------- ------------ 31.7/46.2 MB 2.7 MB/s eta 0:00:06\n",
      "   --------------------------- ------------ 32.2/46.2 MB 2.7 MB/s eta 0:00:06\n",
      "   ---------------------------- ----------- 32.5/46.2 MB 2.7 MB/s eta 0:00:06\n",
      "   ---------------------------- ----------- 32.8/46.2 MB 2.6 MB/s eta 0:00:06\n",
      "   ---------------------------- ----------- 33.0/46.2 MB 2.6 MB/s eta 0:00:06\n",
      "   ----------------------------- ---------- 33.6/46.2 MB 2.6 MB/s eta 0:00:05\n",
      "   ----------------------------- ---------- 33.8/46.2 MB 2.6 MB/s eta 0:00:05\n",
      "   ----------------------------- ---------- 34.3/46.2 MB 2.6 MB/s eta 0:00:05\n",
      "   ----------------------------- ---------- 34.6/46.2 MB 2.6 MB/s eta 0:00:05\n",
      "   ------------------------------ --------- 35.1/46.2 MB 2.6 MB/s eta 0:00:05\n",
      "   ------------------------------ --------- 35.4/46.2 MB 2.5 MB/s eta 0:00:05\n",
      "   ------------------------------- -------- 35.9/46.2 MB 2.5 MB/s eta 0:00:05\n",
      "   ------------------------------- -------- 36.2/46.2 MB 2.5 MB/s eta 0:00:04\n",
      "   ------------------------------- -------- 36.7/46.2 MB 2.5 MB/s eta 0:00:04\n",
      "   -------------------------------- ------- 37.2/46.2 MB 2.5 MB/s eta 0:00:04\n",
      "   -------------------------------- ------- 37.5/46.2 MB 2.5 MB/s eta 0:00:04\n",
      "   -------------------------------- ------- 38.0/46.2 MB 2.5 MB/s eta 0:00:04\n",
      "   --------------------------------- ------ 38.5/46.2 MB 2.5 MB/s eta 0:00:04\n",
      "   --------------------------------- ------ 39.1/46.2 MB 2.5 MB/s eta 0:00:03\n",
      "   ---------------------------------- ----- 39.6/46.2 MB 2.5 MB/s eta 0:00:03\n",
      "   ---------------------------------- ----- 40.1/46.2 MB 2.5 MB/s eta 0:00:03\n",
      "   ----------------------------------- ---- 40.9/46.2 MB 2.5 MB/s eta 0:00:03\n",
      "   ----------------------------------- ---- 41.4/46.2 MB 2.5 MB/s eta 0:00:02\n",
      "   ------------------------------------ --- 42.2/46.2 MB 2.5 MB/s eta 0:00:02\n",
      "   ------------------------------------- -- 43.0/46.2 MB 2.5 MB/s eta 0:00:02\n",
      "   ------------------------------------- -- 43.0/46.2 MB 2.5 MB/s eta 0:00:02\n",
      "   ------------------------------------- -- 43.5/46.2 MB 2.5 MB/s eta 0:00:02\n",
      "   ------------------------------------- -- 43.8/46.2 MB 2.5 MB/s eta 0:00:01\n",
      "   -------------------------------------- - 44.0/46.2 MB 2.5 MB/s eta 0:00:01\n",
      "   -------------------------------------- - 44.3/46.2 MB 2.5 MB/s eta 0:00:01\n",
      "   -------------------------------------- - 44.6/46.2 MB 2.5 MB/s eta 0:00:01\n",
      "   -------------------------------------- - 44.8/46.2 MB 2.4 MB/s eta 0:00:01\n",
      "   -------------------------------------- - 44.8/46.2 MB 2.4 MB/s eta 0:00:01\n",
      "   ---------------------------------------  45.1/46.2 MB 2.4 MB/s eta 0:00:01\n",
      "   ---------------------------------------  45.4/46.2 MB 2.4 MB/s eta 0:00:01\n",
      "   ---------------------------------------  45.6/46.2 MB 2.4 MB/s eta 0:00:01\n",
      "   ---------------------------------------  45.9/46.2 MB 2.4 MB/s eta 0:00:01\n",
      "   ---------------------------------------  46.1/46.2 MB 2.4 MB/s eta 0:00:01\n",
      "   ---------------------------------------- 46.2/46.2 MB 2.3 MB/s eta 0:00:00\n",
      "Installing collected packages: opencv-contrib-python\n",
      "Successfully installed opencv-contrib-python-4.11.0.86\n"
     ]
    }
   ],
   "source": [
    "# ! pip install opencv-python opencv-contrib-python"
   ]
  },
  {
   "cell_type": "code",
   "execution_count": 5,
   "metadata": {},
   "outputs": [],
   "source": [
    "import argparse\n",
    "from collections import defaultdict\n",
    "import cv2\n",
    "import numpy as np\n",
    "from tqdm import tqdm\n",
    "from ultralytics import YOLO\n",
    "from loguru import logger"
   ]
  },
  {
   "cell_type": "markdown",
   "metadata": {},
   "source": [
    "## Định nghĩa cấu hình và khởi tạo video"
   ]
  },
  {
   "cell_type": "code",
   "execution_count": null,
   "metadata": {},
   "outputs": [],
   "source": [
    "def load_config():\n",
    "    return {\n",
    "        \"model_path\": \"yolo11l.pt\",\n",
    "        \"track_history_length\": 120,\n",
    "        \"batch_size\": 64,\n",
    "        \"line_thickness\": 4,\n",
    "        \"track_color\": [230, 230, 230]\n",
    "    }\n",
    "\n",
    "def initialize_video(video_path):\n",
    "    cap = cv2.VideoCapture(video_path)\n",
    "    # get property\n",
    "    width = int(cap.get(cv2.CAP_PROP_FRAME_WIDTH | 3))\n",
    "    height = int(cap.get(cv2.CAP_PROP_FRAME_HEIGHT | 4))\n",
    "    fps = int(cap.get(cv2.CAP_PROP_FPS))\n",
    "\n",
    "    size = (width, height)\n",
    "    fourcc = cv2.VideoWriter_fourcc(*'MP4V')\n",
    "    file_name = video_path.split(\"/\")[-1].split(\".\")[0]\n",
    "    output_path = f\"./data/output/{file_name}_tracking.mp4\"\n",
    "\n",
    "    out = cv2.VideoWriter(output_path, fourcc, fps, size)\n",
    "\n",
    "    return cap, out, output_path"
   ]
  },
  {
   "cell_type": "markdown",
   "metadata": {},
   "source": [
    "## Cập nhật lịch sử theo dõi: Cập nhật lịch sử theo dõi và loại bỏ các track cũ."
   ]
  },
  {
   "cell_type": "code",
   "execution_count": null,
   "metadata": {},
   "outputs": [],
   "source": [
    "def update_track_history(track_history, last_seen, track_ids, frame_count, batch_size, frame_idx, history_length):\n",
    "    \"\"\"Update tracking history and remove old tracks.\"\"\"\n",
    "    current_tracks = set(track_ids)\n",
    "    for track_id in list(track_history.keys()):\n",
    "        if track_id in current_tracks:\n",
    "            # Cập nhật thời điểm cuối cùng đối tượng được nhìn thấy\n",
    "            last_seen[track_id] = frame_count - (batch_size - frame_idx - 1)\n",
    "        elif frame_count - last_seen[track_id] > history_length:\n",
    "            # Xóa đối tượng nếu đã quá lâu không xuất hiện\n",
    "            del track_history[track_id]\n",
    "            del last_seen[track_id]"
   ]
  },
  {
   "cell_type": "markdown",
   "metadata": {},
   "source": [
    "## Vẽ các đường theo dõi trên frame"
   ]
  },
  {
   "cell_type": "code",
   "execution_count": null,
   "metadata": {},
   "outputs": [],
   "source": [
    "def draw_tracks(boxes, track_ids, track_history, annotated_frame, config):\n",
    "    for box, track_id in zip(boxes, track_ids):\n",
    "        x, y, w, h = box\n",
    "        track = track_history[track_id]\n",
    "        track.append((float(x), float(y)))  # x, y center point\n",
    "        # retain 120 tracks for 120 frames\n",
    "        if len(track) > config['track_history_length']:\n",
    "            track.pop(0)\n",
    "\n",
    "            # Draw the tracking lines\n",
    "        points = np.hstack(track).astype(np.int32).reshape((-1, 1, 2))\n",
    "        cv2.polylines(annotated_frame, [points], isClosed=False, color=\n",
    "            config['track_color'], thickness=config['line_thickness'])\n",
    "        \n",
    "        return annotated_frame"
   ]
  },
  {
   "cell_type": "markdown",
   "metadata": {},
   "source": [
    "## Xử lý một batch các frames"
   ]
  },
  {
   "cell_type": "code",
   "execution_count": null,
   "metadata": {},
   "outputs": [],
   "source": [
    "def process_batch (model, batch_frames, track_history, last_seen, frame_count, config):\n",
    "    \"\"\"Process a batch of frames through YOLO model\"\"\"\n",
    "    results = model.track(\n",
    "        batch_frames,\n",
    "        persist=True,\n",
    "        tracker=\"botsort.yaml\",\n",
    "        show=False,\n",
    "        verbose=False,\n",
    "        iou=0.5,\n",
    "    )\n",
    "    return results"
   ]
  },
  {
   "cell_type": "markdown",
   "metadata": {},
   "source": [
    "## Main Processing video"
   ]
  },
  {
   "cell_type": "code",
   "execution_count": null,
   "metadata": {},
   "outputs": [],
   "source": [
    "def main(video_path):\n",
    "    config = load_config()\n",
    "    model = YOLO(config['model_path'])\n",
    "    cap, out, output_path = initialize_video(video_path)\n",
    "    track_history = defaultdict(lambda : list)\n",
    "    last_seen = defaultdict(int)\n",
    "\n",
    "    total_frames = int(cap.get(cv2.CAP_PROP_FRAME_COUNT))"
   ]
  }
 ],
 "metadata": {
  "kernelspec": {
   "display_name": "AIOEx",
   "language": "python",
   "name": "python3"
  },
  "language_info": {
   "codemirror_mode": {
    "name": "ipython",
    "version": 3
   },
   "file_extension": ".py",
   "mimetype": "text/x-python",
   "name": "python",
   "nbconvert_exporter": "python",
   "pygments_lexer": "ipython3",
   "version": "3.10.15"
  }
 },
 "nbformat": 4,
 "nbformat_minor": 2
}

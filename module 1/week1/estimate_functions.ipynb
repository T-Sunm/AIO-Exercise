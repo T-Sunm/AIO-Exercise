{
 "cells": [
  {
   "cell_type": "code",
   "execution_count": 2,
   "metadata": {},
   "outputs": [],
   "source": [
    "def factorial_recursive(n):\n",
    "    if(n == 0):\n",
    "        return 1\n",
    "    else:\n",
    "        return n*factorial_recursive(n-1)"
   ]
  },
  {
   "cell_type": "code",
   "execution_count": 6,
   "metadata": {},
   "outputs": [],
   "source": [
    "def approx_sin(x,n):\n",
    "    if(n<=0):\n",
    "        print(\"n needs to be a positive integer\")\n",
    "        return\n",
    "    \n",
    "    sin_x = 0    \n",
    "    for i in range(0,n):\n",
    "        fraction = (x**(2*i+1))/factorial_recursive((2*i+1))\n",
    "        sin_x += ((-1)**i)*fraction\n",
    "    return sin_x\n",
    "def approx_cos(x,n):\n",
    "    if(n<=0):\n",
    "        print(\"n needs to be a positive integer\")\n",
    "        return\n",
    "\n",
    "    cos_x = 0\n",
    "    for i in range(0,n):\n",
    "        fraction = (x**(2*i))/factorial_recursive((2*i))\n",
    "        cos_x += ((-1)**i)*fraction\n",
    "    return cos_x\n",
    "\n",
    "def approx_sinh(x,n):\n",
    "    if(n<=0):\n",
    "        print(\"n needs to be a positive integer\")\n",
    "        return\n",
    "    \n",
    "    sinh_x = 0\n",
    "    for i in range(0,n):\n",
    "        sinh_x += (x**(2*i+1))/factorial_recursive((2*i+1))\n",
    "    return sinh_x\n",
    "\n",
    "def approx_cosh(x,n):\n",
    "    if(n<=0):\n",
    "        print(\"n needs to be a positive integer\")\n",
    "        return\n",
    "    \n",
    "    cosh_x = 0\n",
    "    for i in range(0,n):\n",
    "        cosh_x += (x**(2*i))/factorial_recursive((2*i))\n",
    "    return cosh_x\n"
   ]
  },
  {
   "cell_type": "code",
   "execution_count": 7,
   "metadata": {},
   "outputs": [
    {
     "name": "stdout",
     "output_type": "stream",
     "text": [
      "0.001592652393160744\n",
      "-0.9999987352210833\n",
      "11.530292029865986\n",
      "11.573574824666185\n"
     ]
    }
   ],
   "source": [
    "print(approx_sin( x =3.14 , n =10))\n",
    "print(approx_cos( x =3.14 , n =10))\n",
    "print(approx_sinh( x =3.14 , n =10))\n",
    "print(approx_cosh( x =3.14 , n =10))"
   ]
  }
 ],
 "metadata": {
  "kernelspec": {
   "display_name": "40daysPython_env",
   "language": "python",
   "name": "python3"
  },
  "language_info": {
   "codemirror_mode": {
    "name": "ipython",
    "version": 3
   },
   "file_extension": ".py",
   "mimetype": "text/x-python",
   "name": "python",
   "nbconvert_exporter": "python",
   "pygments_lexer": "ipython3",
   "version": "3.10.13"
  }
 },
 "nbformat": 4,
 "nbformat_minor": 2
}

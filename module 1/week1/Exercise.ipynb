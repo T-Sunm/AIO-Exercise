{
 "cells": [
  {
   "cell_type": "code",
   "execution_count": 7,
   "metadata": {},
   "outputs": [],
   "source": [
    "import math"
   ]
  },
  {
   "cell_type": "code",
   "execution_count": 1,
   "metadata": {},
   "outputs": [
    {
     "name": "stdout",
     "output_type": "stream",
     "text": [
      "(Print single variable ( var1 ): str_var1\n",
      "Print more than one variables : var1 =str_var1 , var2 =3 , var3 =15.5\n"
     ]
    }
   ],
   "source": [
    "#Examples print\n",
    "var1 = 'str_var1'\n",
    "var2 = 3\n",
    "var3 = 15.5\n",
    "\n",
    "print('(Print single variable ( var1 ):', var1)\n",
    "print(f'Print more than one variables : var1 ={ var1 } , var2 ={ var2 } , var3 ={ var3 }')\n"
   ]
  },
  {
   "cell_type": "code",
   "execution_count": 15,
   "metadata": {},
   "outputs": [
    {
     "name": "stdout",
     "output_type": "stream",
     "text": [
      "precision is 0.4\n",
      "recall is 0.3333333333333333\n",
      "f1 - score is 0.3636363636363636\n",
      "tp must be int\n",
      "fp must be int\n",
      "fn must be int\n",
      "fn must be greater than zero\n",
      "tp must be int\n"
     ]
    }
   ],
   "source": [
    "def exercise1(tp,fp,fn):\n",
    "    for var,name in zip([tp, fp, fn], [\"tp\", \"fp\", \"fn\"]):\n",
    "        if(type(var) is not int):\n",
    "            print(f'{name} must be int')\n",
    "            return\n",
    "        elif(var <= 0):\n",
    "            print(f\"{name} must be greater than zero\")\n",
    "            return\n",
    "    precision = tp/(tp+fp)\n",
    "    recall = tp/(tp+fn)\n",
    "    f1_score = 2 * ((precision*recall)/(precision + recall))\n",
    "\n",
    "    print(f\"precision is {precision}\")\n",
    "    print(f\"recall is {recall}\")\n",
    "    print(f\"f1 - score is {f1_score}\")\n",
    "    return\n",
    "\n",
    "exercise1(tp=2,fp=3,fn=4)\n",
    "exercise1 ( tp ='a', fp =3 , fn =4)\n",
    "exercise1 ( tp =2 , fp ='a', fn =4)\n",
    "exercise1 ( tp =2 , fp =3 , fn ='a')\n",
    "exercise1 ( tp =2 , fp =3 , fn =0)\n",
    "exercise1 ( tp =2.1 , fp =3 , fn =0)"
   ]
  },
  {
   "cell_type": "code",
   "execution_count": 10,
   "metadata": {},
   "outputs": [
    {
     "name": "stdout",
     "output_type": "stream",
     "text": [
      "Input x = 1.5\n",
      "Input activation Function ( sigmoid | relu | elu ) : sigmoid\n",
      "sigmoid: f(1.5) = 0.8175744761936437\n",
      "x must be a number\n",
      "Input x = 1.5\n",
      "Input activation Function ( sigmoid | relu | elu ) : belu\n",
      "belu is not supportted\n"
     ]
    }
   ],
   "source": [
    "def is_number(n):\n",
    "    try:\n",
    "        float(n)\n",
    "    except ValueError:\n",
    "        return False\n",
    "    return True\n",
    "\n",
    "def sigmoid(x):\n",
    "    ans = 1/(1+ math.e**(-x))\n",
    "    return ans\n",
    "\n",
    "def relu(x):\n",
    "    if x <= 0 :\n",
    "        return 0\n",
    "    else:\n",
    "        return x\n",
    "def elu(x):\n",
    "    if x <= 0 :\n",
    "        ans = 0.01*(math.e**x -1)\n",
    "        return ans\n",
    "    else:\n",
    "        return x\n",
    "\n",
    "\n",
    "def exercise2():\n",
    "    x = input(\"Input x = \")\n",
    "    if is_number(x) == False:\n",
    "        print('x must be a number')\n",
    "        return\n",
    "    activation_function = input(\"Input activation Function ( sigmoid | relu | elu ) : \")\n",
    "    x = float(x)\n",
    "    print(f\"Input x = {x}\")\n",
    "    print(f'Input activation Function ( sigmoid | relu | elu ) : {activation_function}')\n",
    "    if activation_function == 'sigmoid':\n",
    "        print(f\"{activation_function}: f({x}) = {sigmoid(x)}\")\n",
    "    elif activation_function == 'relu':\n",
    "        print(f\"{activation_function}: f({x}) = {relu(x)}\")\n",
    "    elif activation_function == 'elu':\n",
    "        print(f\"{activation_function}: f({x}) = {elu(x)}\")\n",
    "    else:\n",
    "        print(f\"{activation_function} is not supportted\")\n",
    "    \n",
    "exercise2()\n",
    "exercise2()\n",
    "exercise2()"
   ]
  }
 ],
 "metadata": {
  "kernelspec": {
   "display_name": "40daysPython_env",
   "language": "python",
   "name": "python3"
  },
  "language_info": {
   "codemirror_mode": {
    "name": "ipython",
    "version": 3
   },
   "file_extension": ".py",
   "mimetype": "text/x-python",
   "name": "python",
   "nbconvert_exporter": "python",
   "pygments_lexer": "ipython3",
   "version": "3.10.13"
  }
 },
 "nbformat": 4,
 "nbformat_minor": 2
}

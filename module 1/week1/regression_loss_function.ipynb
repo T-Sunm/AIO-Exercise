{
 "cells": [
  {
   "cell_type": "code",
   "execution_count": 2,
   "metadata": {},
   "outputs": [
    {
     "name": "stdout",
     "output_type": "stream",
     "text": [
      "Input x = 5\n",
      "Input loss name : RMSE\n",
      "loss name: MSE, sample: 0,pred: 8.71912982815051, target: 3.704042719085534, loss: 25.151098711509707\n",
      "loss name: MSE, sample: 1,pred: 0.31309939671795295, target: 5.9367175543912944, loss: 31.62508118331331\n",
      "loss name: MSE, sample: 2,pred: 0.4459514444648627, target: 5.029929320751917, loss: 21.012853170289173\n",
      "loss name: MSE, sample: 3,pred: 3.7847956193512644, target: 1.1934820064002716, loss: 6.714906240665127\n",
      "loss name: MSE, sample: 4,pred: 8.391255608229969, target: 1.8305820526656313, loss: 43.0424375026812\n",
      "final MSE: 2.9791178968447665\n",
      "number of samples must be an integer number\n"
     ]
    }
   ],
   "source": [
    "import math\n",
    "import random\n",
    "\n",
    "\n",
    "def MAE(n):\n",
    "    final_mae = 0\n",
    "    for i in range(0,n):\n",
    "        target_i = random.uniform(0,10)\n",
    "        predict_i = random.uniform(0,10)\n",
    "\n",
    "        loss = abs(target_i - predict_i)\n",
    "        final_mae += loss\n",
    "        print(f\"loss name: MAE, sample: {i},pred: {predict_i}, target: {target_i}, loss: {loss}\")\n",
    "    final_mae = final_mae/n\n",
    "    print(f\"final MAE: {final_mae}\")\n",
    "\n",
    "def MSE(n):\n",
    "    final_mse = 0\n",
    "    for i in range(0,n):\n",
    "        target_i = random.uniform(0,10)\n",
    "        predict_i = random.uniform(0,10)\n",
    "\n",
    "        loss = (target_i - predict_i)**2\n",
    "        final_mse += loss\n",
    "        print(f\"loss name: MSE, sample: {i},pred: {predict_i}, target: {target_i}, loss: {loss}\")\n",
    "    final_mse = final_mse/n\n",
    "    print(f\"final MSE: {final_mse}\")\n",
    "    \n",
    "\n",
    "def RMSE(n):\n",
    "    final_rmse = 0\n",
    "    for i in range(0,n):\n",
    "        target_i = random.uniform(0,10)\n",
    "        predict_i = random.uniform(0,10)\n",
    "\n",
    "        loss = (target_i - predict_i)**2\n",
    "        final_rmse += loss\n",
    "        print(f\"loss name: MSE, sample: {i},pred: {predict_i}, target: {target_i}, loss: {loss}\")    \n",
    "    final_rmse = math.sqrt(final_rmse/n)\n",
    "    print(f\"final MSE: {final_rmse}\")\n",
    "\n",
    "\n",
    "def exercise3():\n",
    "    n = input(\"Input number of samples ( integer number ) which are generated : \")\n",
    "    if n.isnumeric() == False:\n",
    "        print('number of samples must be an integer number')\n",
    "        return\n",
    "    \n",
    "    lost_name = input(\"Input loss name : \")\n",
    "    n = int(n)\n",
    "    print(f\"Input x = {n}\")\n",
    "    print(f'Input loss name : {lost_name}')\n",
    "    if lost_name == 'MAE':\n",
    "        MAE(n)\n",
    "    elif lost_name == 'MSE':\n",
    "        MSE(n)  \n",
    "    elif lost_name == 'RMSE':\n",
    "        RMSE(n)\n",
    "    else:\n",
    "        print(f\"{lost_name} is not supportted\")\n",
    "    \n",
    "exercise3()\n",
    "exercise3()"
   ]
  }
 ],
 "metadata": {
  "kernelspec": {
   "display_name": "40daysPython_env",
   "language": "python",
   "name": "python3"
  },
  "language_info": {
   "codemirror_mode": {
    "name": "ipython",
    "version": 3
   },
   "file_extension": ".py",
   "mimetype": "text/x-python",
   "name": "python",
   "nbconvert_exporter": "python",
   "pygments_lexer": "ipython3",
   "version": "3.10.13"
  }
 },
 "nbformat": 4,
 "nbformat_minor": 2
}

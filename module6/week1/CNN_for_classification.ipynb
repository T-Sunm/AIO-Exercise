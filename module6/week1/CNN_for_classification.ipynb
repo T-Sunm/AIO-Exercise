{
 "cells": [
  {
   "cell_type": "code",
   "execution_count": 13,
   "metadata": {
    "_kg_hide-output": true,
    "execution": {
     "iopub.execute_input": "2024-12-10T13:32:39.157645Z",
     "iopub.status.busy": "2024-12-10T13:32:39.157292Z",
     "iopub.status.idle": "2024-12-10T13:32:39.161354Z",
     "shell.execute_reply": "2024-12-10T13:32:39.160463Z",
     "shell.execute_reply.started": "2024-12-10T13:32:39.157618Z"
    },
    "trusted": true
   },
   "outputs": [],
   "source": [
    "# ! git clone https://github.com/congnghia0609/ntc-scv.git\n",
    "# ! unzip ./ntc-scv/data/data_test.zip -d ./data\n",
    "# ! unzip ./ntc-scv/data/data_train.zip -d ./data\n",
    "# ! rm -rf ./ntc-scv"
   ]
  },
  {
   "cell_type": "code",
   "execution_count": 14,
   "metadata": {
    "execution": {
     "iopub.execute_input": "2024-12-10T13:32:39.164184Z",
     "iopub.status.busy": "2024-12-10T13:32:39.163796Z",
     "iopub.status.idle": "2024-12-10T13:32:39.181018Z",
     "shell.execute_reply": "2024-12-10T13:32:39.180217Z",
     "shell.execute_reply.started": "2024-12-10T13:32:39.164137Z"
    },
    "trusted": true
   },
   "outputs": [],
   "source": [
    "# ! pip install langid\n",
    "# ! pip install -q torchtext"
   ]
  },
  {
   "cell_type": "code",
   "execution_count": 15,
   "metadata": {
    "execution": {
     "iopub.execute_input": "2024-12-10T13:32:39.182839Z",
     "iopub.status.busy": "2024-12-10T13:32:39.182552Z",
     "iopub.status.idle": "2024-12-10T13:32:39.192374Z",
     "shell.execute_reply": "2024-12-10T13:32:39.191495Z",
     "shell.execute_reply.started": "2024-12-10T13:32:39.182812Z"
    },
    "trusted": true
   },
   "outputs": [],
   "source": [
    "import os\n",
    "import random\n",
    "import numpy as np\n",
    "import pandas as pd\n",
    "\n",
    "import torch\n",
    "import torch.nn as nn\n",
    "import torch.optim as optim\n",
    "import torch.nn.functional as F\n",
    "import torch.utils.data as data\n",
    "\n",
    "\n",
    "from torchsummary import summary\n",
    "\n",
    "import matplotlib.pyplot as plt\n",
    "from PIL import Image\n",
    "\n",
    "import string\n",
    "import re"
   ]
  },
  {
   "cell_type": "code",
   "execution_count": 22,
   "metadata": {
    "execution": {
     "iopub.execute_input": "2024-12-10T13:32:39.193799Z",
     "iopub.status.busy": "2024-12-10T13:32:39.193471Z",
     "iopub.status.idle": "2024-12-10T13:32:39.446481Z",
     "shell.execute_reply": "2024-12-10T13:32:39.444699Z",
     "shell.execute_reply.started": "2024-12-10T13:32:39.193759Z"
    },
    "trusted": true
   },
   "outputs": [],
   "source": [
    "def load_data_from_path(folder_path):\n",
    "    examples = []\n",
    "    for label in os.listdir(folder_path):\n",
    "        full_path = os.path.join(folder_path, label)\n",
    "        for file_name in os.listdir(full_path):\n",
    "            file_path = os.path.join(full_path, file_name)\n",
    "            with open(file_path, \"r\", encoding=\"utf-8\") as f:\n",
    "                lines = f.readlines()\n",
    "                sentence = \" \".join(lines)\n",
    "                if label == \"neg\":\n",
    "                    label = 0\n",
    "                if label == \"pos\":\n",
    "                    label = 1\n",
    "                data = {\n",
    "                    'sentence': sentence,\n",
    "                    'label': label\n",
    "                }\n",
    "                examples.append(data)\n",
    "    return pd.DataFrame(examples)\n",
    "\n",
    "folder_paths = {\n",
    "    'train': './data/ntc-scv/data_train/train',\n",
    "    'valid': './data/ntc-scv/data_train/test',\n",
    "    'test': './data/ntc-scv/test'\n",
    "}\n",
    "\n",
    "train_df = load_data_from_path(folder_paths['train'])\n",
    "valid_df = load_data_from_path(folder_paths['valid'])\n",
    "test_df = load_data_from_path(folder_paths['test'])"
   ]
  },
  {
   "cell_type": "markdown",
   "metadata": {},
   "source": [
    "- set: Thao tác kiểm tra sự tồn tại của phần tử trong set (sử dụng in) rất nhanh, với độ phức tạp thời gian trung bình là O(1).\n",
    "- list: Thao tác kiểm tra sự tồn tại của phần tử trong list có độ phức tạp thời gian O(n), vì phải kiểm tra từng phần tử một."
   ]
  },
  {
   "cell_type": "code",
   "execution_count": 23,
   "metadata": {
    "execution": {
     "iopub.status.busy": "2024-12-10T13:32:39.447319Z",
     "iopub.status.idle": "2024-12-10T13:32:39.447591Z",
     "shell.execute_reply": "2024-12-10T13:32:39.447471Z",
     "shell.execute_reply.started": "2024-12-10T13:32:39.447457Z"
    },
    "trusted": true
   },
   "outputs": [],
   "source": [
    "from langid.langid import LanguageIdentifier, model\n",
    "\n",
    "def identify_vn(df):\n",
    "    identifier = LanguageIdentifier.from_modelstring(model, norm_probs=True)\n",
    "    not_vi_idx = set()\n",
    "    THRESHOLD = 0.9\n",
    "    for idx, row in df.iterrows():\n",
    "        score = identifier.classify(row[\"sentence\"])\n",
    "        if score[0] != \"vi\" or (score[0] == \"vi\" and score[1] <= THRESHOLD):\n",
    "            not_vi_idx.add(idx)\n",
    "    vi_df = df[~df.index.isin(not_vi_idx)]\n",
    "    not_vi_df = df[df.index.isin(not_vi_idx)]\n",
    "    return vi_df, not_vi_df\n",
    "\n",
    "train_df_vi, train_df_other = identify_vn(train_df)"
   ]
  },
  {
   "cell_type": "markdown",
   "metadata": {},
   "source": [
    "url_pattern = re.compile(r'https?://\\S+\\s+')\n",
    "- https?: Tìm kiếm \"http\" hoặc \"https\". Dấu hỏi ? có nghĩa là \"0 hoặc 1 lần\" (tức là \"s\" có thể có hoặc không).\n",
    "- ://: Tìm kiếm chuỗi \"://\", cần có trong URL.\n",
    "- \\S+: Tìm kiếm một hoặc nhiều ký tự không phải là khoảng trắng (đây là phần miền của URL, ví dụ: \"www.example.com\").\n",
    "- \\s+: Tìm kiếm một hoặc nhiều ký tự trắng sau URL (dùng để đảm bảo có khoảng trắng sau URL).\n",
    "\n",
    "html_pattern = re.compile(r'<[^<>\\s]+>')\n",
    "- <: Tìm kiếm dấu < trong thẻ HTML.\n",
    "- [^<>\\s]+: Đây là phần quan trọng:\n",
    "     - [^<>\\s] có nghĩa là bất kỳ ký tự nào không phải là dấu <, dấu >, hoặc khoảng trắng.\n",
    "     - Dấu + có nghĩa là lặp lại một hoặc nhiều lần ký tự này.\n",
    "- \\>: Tìm kiếm dấu > trong thẻ HTML."
   ]
  },
  {
   "cell_type": "code",
   "execution_count": 24,
   "metadata": {
    "execution": {
     "iopub.status.busy": "2024-12-10T13:32:39.449264Z",
     "iopub.status.idle": "2024-12-10T13:32:39.449584Z",
     "shell.execute_reply": "2024-12-10T13:32:39.449455Z",
     "shell.execute_reply.started": "2024-12-10T13:32:39.449438Z"
    },
    "trusted": true
   },
   "outputs": [],
   "source": [
    "def preprocess_text(text) :\n",
    "    # remove link\n",
    "    url_pattern = re.compile(r'https?://\\S+\\s+')\n",
    "    text = url_pattern.sub(\" \", text)\n",
    "\n",
    "    # remove html\n",
    "    html_pattern = re.compile(r'<[^<>\\s]+>') \n",
    "    text = html_pattern.sub(\" \", text)\n",
    "\n",
    "    # remove punctual\n",
    "    translator = str.maketrans(' ', ' ', string.punctuation)\n",
    "    text = text.translate(translator)\n",
    "\n",
    "    emoji_pattern = re.compile(\n",
    "        r\"[\" \n",
    "        u\"\\U0001F600-\\U0001F64F\"  # emoticons\n",
    "        u\"\\U0001F300-\\U0001F5FF\"  # symbols & pictographs\n",
    "        u\"\\U0001F680-\\U0001F6FF\"  # transport & map symbols\n",
    "        u\"\\U0001F1E0-\\U0001F1FF\"  # flags (iOS)\n",
    "        u\"\\U0001F1F2-\\U0001F1F4\"  # Macau flag\n",
    "        u\"\\U0001F1E6-\\U0001F1FF\"  # flags\n",
    "        u\"\\U0001F600-\\U0001F64F\"\n",
    "        u\"\\U00002702-\\U000027B0\"\n",
    "        u\"\\U000024C2-\\U0001F251\"\n",
    "        u\"\\U0001f926-\\U0001f937\"\n",
    "        u\"\\U0001F1F2\"\n",
    "        u\"\\U0001F1F4\"\n",
    "        u\"\\U0001F620\"\n",
    "        u\"\\u200d\"\n",
    "        u\"\\u2640-\\u2642\"\n",
    "        \"]+\", flags=re.UNICODE\n",
    "    )\n",
    "    \n",
    "    text = emoji_pattern.sub(r\" \", text)\n",
    "\n",
    "    return text.lower()\n",
    "\n"
   ]
  },
  {
   "cell_type": "code",
   "execution_count": 25,
   "metadata": {
    "execution": {
     "iopub.status.busy": "2024-12-10T13:32:39.450788Z",
     "iopub.status.idle": "2024-12-10T13:32:39.451096Z",
     "shell.execute_reply": "2024-12-10T13:32:39.450968Z",
     "shell.execute_reply.started": "2024-12-10T13:32:39.450952Z"
    },
    "trusted": true
   },
   "outputs": [],
   "source": [
    "train_df_vi = train_df_vi.copy()\n",
    "train_df_vi['preprocess_sentence'] = [preprocess_text(row['sentence']) for index, row in train_df_vi.iterrows()]\n",
    "\n",
    "valid_df = valid_df.copy()\n",
    "valid_df['preprocess_sentence'] = [preprocess_text(row['sentence']) for index, row in valid_df.iterrows()]\n",
    "\n",
    "test_df = test_df.copy()\n",
    "test_df['preprocess_sentence'] = [preprocess_text(row['sentence']) for index, row in test_df.iterrows()]\n"
   ]
  },
  {
   "cell_type": "code",
   "execution_count": 26,
   "metadata": {
    "execution": {
     "iopub.status.busy": "2024-12-10T13:32:39.452194Z",
     "iopub.status.idle": "2024-12-10T13:32:39.452485Z",
     "shell.execute_reply": "2024-12-10T13:32:39.452361Z",
     "shell.execute_reply.started": "2024-12-10T13:32:39.452345Z"
    },
    "trusted": true
   },
   "outputs": [
    {
     "data": {
      "text/plain": [
       "'the cats toys are scattered everywhere'"
      ]
     },
     "execution_count": 26,
     "metadata": {},
     "output_type": "execute_result"
    }
   ],
   "source": [
    "INPUT_TEXT = \"The cat's toys are scattered everywhere!\"\n",
    "INPUT_TEXT = preprocess_text(INPUT_TEXT)\n",
    "INPUT_TEXT"
   ]
  },
  {
   "cell_type": "markdown",
   "metadata": {},
   "source": [
    "## 3. Biểu diễn văn bản thành vector"
   ]
  },
  {
   "cell_type": "code",
   "execution_count": 27,
   "metadata": {
    "execution": {
     "iopub.status.busy": "2024-12-10T13:32:39.454093Z",
     "iopub.status.idle": "2024-12-10T13:32:39.454393Z",
     "shell.execute_reply": "2024-12-10T13:32:39.454267Z",
     "shell.execute_reply.started": "2024-12-10T13:32:39.454252Z"
    },
    "trusted": true
   },
   "outputs": [],
   "source": [
    "from torchtext.data.utils import get_tokenizer\n",
    "from torchtext.vocab import build_vocab_from_iterator\n",
    "from torchtext.data.functional import to_map_style_dataset\n",
    "from torch.nn.utils.rnn import pad_sequence\n",
    "import torch"
   ]
  },
  {
   "cell_type": "markdown",
   "metadata": {},
   "source": [
    "#### Xây vocabulary"
   ]
  },
  {
   "cell_type": "markdown",
   "metadata": {},
   "source": [
    "- \\<pad>: Dùng để đệm các câu sao cho tất cả các câu đều có độ dài đồng nhất khi đưa vào mô hình.\n",
    "- \\<unk>: Dùng để thay thế các từ không có trong từ vựng khi mô hình gặp phải chúng trong quá trình dự đoán hoặc huấn luyện."
   ]
  },
  {
   "cell_type": "code",
   "execution_count": 28,
   "metadata": {
    "execution": {
     "iopub.status.busy": "2024-12-10T13:32:39.455276Z",
     "iopub.status.idle": "2024-12-10T13:32:39.455565Z",
     "shell.execute_reply": "2024-12-10T13:32:39.455441Z",
     "shell.execute_reply.started": "2024-12-10T13:32:39.455425Z"
    },
    "trusted": true
   },
   "outputs": [],
   "source": [
    "tokenizer = get_tokenizer(\"basic_english\")\n",
    "\n",
    "# create iter dataset\n",
    "def yield_tokens(sentences, tokenizer):\n",
    "    for sentence in sentences:\n",
    "        yield tokenizer(sentence)\n",
    "\n",
    "# build vocabulary\n",
    "vocab_size = 10000\n",
    "vocabulary = build_vocab_from_iterator(\n",
    "    yield_tokens(train_df_vi['preprocess_sentence'], tokenizer),\n",
    "    max_tokens=vocab_size,\n",
    "    specials=[\"<pad>\", \"<unk>\"]\n",
    ")\n",
    "vocabulary.set_default_index(vocabulary[\"<unk>\"])"
   ]
  },
  {
   "cell_type": "code",
   "execution_count": 29,
   "metadata": {
    "execution": {
     "iopub.status.busy": "2024-12-10T13:32:39.456425Z",
     "iopub.status.idle": "2024-12-10T13:32:39.456746Z",
     "shell.execute_reply": "2024-12-10T13:32:39.456592Z",
     "shell.execute_reply.started": "2024-12-10T13:32:39.456577Z"
    },
    "trusted": true
   },
   "outputs": [
    {
     "name": "stdout",
     "output_type": "stream",
     "text": [
      "encoding pad: 0\n",
      "encoding unknownword: 1\n",
      "encoding hello: 9732\n"
     ]
    }
   ],
   "source": [
    "print(\"encoding pad:\",vocabulary['<pad>'])\n",
    "print(\"encoding unknownword:\",vocabulary['unknownword'])\n",
    "print(\"encoding hello:\", vocabulary['hello'])"
   ]
  },
  {
   "cell_type": "markdown",
   "metadata": {},
   "source": [
    "#### Encoding text"
   ]
  },
  {
   "cell_type": "code",
   "execution_count": 45,
   "metadata": {
    "execution": {
     "iopub.status.busy": "2024-12-10T13:32:39.459083Z",
     "iopub.status.idle": "2024-12-10T13:32:39.459388Z",
     "shell.execute_reply": "2024-12-10T13:32:39.459263Z",
     "shell.execute_reply.started": "2024-12-10T13:32:39.459246Z"
    },
    "trusted": true
   },
   "outputs": [],
   "source": [
    "def prepare_dataset(df):\n",
    "    for index, row in df.iterrows():\n",
    "        sentence = row['preprocess_sentence']\n",
    "        encoded_sentence = vocabulary(tokenizer(sentence))\n",
    "        label = row['label']\n",
    "        # xài yield giúp tiết kiệm bộ nhớ nhưng kh truy xuất qua chỉ mục được\n",
    "        yield encoded_sentence, label\n",
    "\n",
    "train_dataset = prepare_dataset(train_df_vi)\n",
    "# to_map_style_dataset dùng để chuyển từ yield sang list\n",
    "train_dataset = to_map_style_dataset(train_dataset)\n",
    "\n",
    "valid_dataset = prepare_dataset(valid_df)\n",
    "valid_dataset = to_map_style_dataset(valid_dataset)\n",
    "\n",
    "test_dataset = prepare_dataset(test_df)\n",
    "test_dataset = to_map_style_dataset(test_dataset)"
   ]
  },
  {
   "cell_type": "markdown",
   "metadata": {},
   "source": [
    "## Xây dựng dataset"
   ]
  },
  {
   "cell_type": "code",
   "execution_count": 46,
   "metadata": {
    "execution": {
     "iopub.status.busy": "2024-12-10T13:32:39.460816Z",
     "iopub.status.idle": "2024-12-10T13:32:39.461133Z",
     "shell.execute_reply": "2024-12-10T13:32:39.461005Z",
     "shell.execute_reply.started": "2024-12-10T13:32:39.460989Z"
    },
    "trusted": true
   },
   "outputs": [],
   "source": [
    "from torch.utils.data import DataLoader"
   ]
  },
  {
   "cell_type": "markdown",
   "metadata": {},
   "source": [
    "hiện tại các encoding text đang có độ dài chưa bằng nhau , cần xử lý trước khi xây dataset"
   ]
  },
  {
   "cell_type": "code",
   "execution_count": null,
   "metadata": {
    "execution": {
     "iopub.status.busy": "2024-12-10T13:32:39.462276Z",
     "iopub.status.idle": "2024-12-10T13:32:39.462565Z",
     "shell.execute_reply": "2024-12-10T13:32:39.462441Z",
     "shell.execute_reply.started": "2024-12-10T13:32:39.462425Z"
    },
    "trusted": true
   },
   "outputs": [],
   "source": [
    "def collate_batch(batch):\n",
    "    inputs, labels = zip(*batch)\n",
    "    labels = torch.tensor(labels)\n",
    "    \n",
    "    inputs = [torch.tensor(input, dtype=torch.long) for input in inputs]\n",
    "\n",
    "    # Đảm bảo mỗi phần tử trong inputs là tensor\n",
    "    padded_inputs = pad_sequence(inputs, padding_value=vocabulary['<pad>'])\n",
    "    \n",
    "    return (padded_inputs, labels)\n",
    "\n",
    "batch_size = 128\n",
    "train_dataloader = DataLoader(\n",
    "    train_dataset,\n",
    "    batch_size=batch_size,\n",
    "    shuffle=True,\n",
    "    collate_fn=collate_batch,\n",
    ")\n",
    "valid_dataloader = DataLoader(\n",
    "    valid_dataset,\n",
    "    batch_size=batch_size,\n",
    "    shuffle=False,\n",
    "    collate_fn=collate_batch,\n",
    ")\n",
    "\n",
    "text_dataloader = DataLoader(\n",
    "    test_dataset,\n",
    "    batch_size=batch_size,\n",
    "    shuffle=False,\n",
    "    collate_fn=collate_batch,\n",
    ")"
   ]
  },
  {
   "cell_type": "code",
   "execution_count": 50,
   "metadata": {},
   "outputs": [
    {
     "name": "stdout",
     "output_type": "stream",
     "text": [
      "Inputs: tensor([[   2,   37,   60,  ...,   94,    2,    2],\n",
      "        [   6,   17,  420,  ...,   10,    8,   25],\n",
      "        [4293,  516,  210,  ...,  140,  905,  801],\n",
      "        ...,\n",
      "        [   0,    0,    0,  ...,    0,    0,    0],\n",
      "        [   0,    0,    0,  ...,    0,    0,    0],\n",
      "        [   0,    0,    0,  ...,    0,    0,    0]])\n",
      "Labels: tensor([1, 0, 0, 1, 0, 1, 0, 1, 0, 0, 0, 0, 0, 0, 1, 1, 1, 1, 1, 1, 1, 0, 0, 1,\n",
      "        0, 0, 1, 0, 1, 0, 0, 0, 0, 1, 0, 0, 0, 0, 1, 1, 1, 1, 1, 1, 0, 0, 0, 1,\n",
      "        1, 1, 0, 1, 1, 1, 1, 1, 1, 1, 0, 1, 1, 0, 1, 1, 1, 1, 0, 1, 1, 0, 1, 1,\n",
      "        0, 1, 1, 0, 0, 1, 1, 0, 1, 0, 1, 1, 0, 0, 0, 1, 0, 1, 0, 1, 1, 0, 0, 1,\n",
      "        1, 0, 0, 1, 0, 1, 1, 0, 0, 0, 1, 0, 1, 0, 0, 1, 0, 1, 1, 1, 1, 1, 0, 1,\n",
      "        1, 1, 0, 0, 1, 1, 1, 0])\n"
     ]
    }
   ],
   "source": [
    "# Tạo iterator từ DataLoader\n",
    "train_iterator = iter(train_dataloader)\n",
    "\n",
    "# Lấy một batch từ iterator\n",
    "batch = next(train_iterator)\n",
    "\n",
    "# Giả sử batch chứa inputs và labels\n",
    "inputs, labels = batch\n",
    "\n",
    "# Kiểm tra kết quả\n",
    "print(\"Inputs:\", inputs)\n",
    "print(\"Labels:\", labels)"
   ]
  },
  {
   "cell_type": "code",
   "execution_count": null,
   "metadata": {
    "execution": {
     "iopub.status.busy": "2024-12-10T13:32:39.463476Z",
     "iopub.status.idle": "2024-12-10T13:32:39.463810Z",
     "shell.execute_reply": "2024-12-10T13:32:39.463645Z",
     "shell.execute_reply.started": "2024-12-10T13:32:39.463629Z"
    },
    "trusted": true
   },
   "outputs": [],
   "source": [
    "import torch.nn as nn\n",
    "class TextCNN(nn.Module):\n",
    "    def __init__(\n",
    "        self,\n",
    "        vocab_size, embedding_dim, kernel_sizes, num_filters, num_classes):\n",
    "        super(TextCNN, self).__init__()\n",
    "\n",
    "        self.vocab_size = vocab_size\n",
    "        self.embedding_dim = embedding_dim\n",
    "        self.kernel_sizes = kernel_sizes\n",
    "        self.num_filters = num_filters\n",
    "        self.num_classes = num_classes\n",
    "        self.embedding = nn.Embedding(vocab_size, embedding_dim, padding_idx=0)\n",
    "        self.conv = nn.ModuleList([\n",
    "            nn.Conv1d(\n",
    "                in_channels=embedding_dim,\n",
    "                out_channels=num_filters,\n",
    "                kernel_size=k,\n",
    "                stride=1\n",
    "            ) for k in kernel_sizes])\n",
    "        self.fc = nn.Linear(len(kernel_sizes) * num_filters, num_classes)\n",
    "\n",
    "    def forward(self, x):\n",
    "        # x shape: seq_len * batch_size -> x.T = batch_size * seq_len\n",
    "        # after embedding: [Batch size * Sequence * Embeddim] -> transpose(1, 2) [Batch size * Embeddim * Sequence]\n",
    "        # Embedding phải ở chiều cột mới tích chập đúng với ConV1D\n",
    "        x = self.embedding(x.T).transpose(1, 2)\n",
    "        x = [F.relu(conv(x)) for conv in self.conv]\n",
    "        x = [F.max_pool1d(c, c.size(-1)).squeeze(dim=-1) for c in x]\n",
    "        x = torch.cat(x, dim=1)\n",
    "        x = self.fc(x)\n",
    "        return x"
   ]
  },
  {
   "cell_type": "code",
   "execution_count": 52,
   "metadata": {
    "execution": {
     "iopub.status.busy": "2024-12-10T13:32:39.465252Z",
     "iopub.status.idle": "2024-12-10T13:32:39.465547Z",
     "shell.execute_reply": "2024-12-10T13:32:39.465422Z",
     "shell.execute_reply.started": "2024-12-10T13:32:39.465406Z"
    },
    "trusted": true
   },
   "outputs": [],
   "source": [
    "vocab_size = len(vocabulary)\n",
    "embedding_dim = 100\n",
    "\n",
    "model = TextCNN(\n",
    "    vocab_size=vocab_size,\n",
    "    embedding_dim=embedding_dim,\n",
    "    kernel_sizes=[3, 4, 5],\n",
    "    num_filters=100,\n",
    "    num_classes=2\n",
    ")"
   ]
  },
  {
   "cell_type": "code",
   "execution_count": 53,
   "metadata": {
    "execution": {
     "iopub.status.busy": "2024-12-10T13:32:39.466623Z",
     "iopub.status.idle": "2024-12-10T13:32:39.467007Z",
     "shell.execute_reply": "2024-12-10T13:32:39.466857Z",
     "shell.execute_reply.started": "2024-12-10T13:32:39.466838Z"
    },
    "trusted": true
   },
   "outputs": [],
   "source": [
    "import time\n",
    "\n",
    "def train(model, optimizer, criterion, train_dataloader, device, epoch=0, log_interval=50):\n",
    "    model.train()\n",
    "    total_acc, total_count = 0, 0\n",
    "    losses = []\n",
    "    start_time = time.time()\n",
    "\n",
    "    for idx, (inputs, labels) in enumerate(train_dataloader):\n",
    "        inputs = inputs.to(device)\n",
    "        labels = labels.to(device)\n",
    "\n",
    "        # zero grad\n",
    "        optimizer.zero_grad()\n",
    "\n",
    "        # predictions\n",
    "        predictions = model(inputs)\n",
    "\n",
    "        # compute loss\n",
    "        loss = criterion(predictions, labels)\n",
    "        losses.append(loss.item())\n",
    "\n",
    "        # backward\n",
    "        loss.backward()\n",
    "        optimizer.step()\n",
    "        total_acc += (predictions.argmax(1) == labels).sum().item()\n",
    "        total_count += labels.size(0)\n",
    "        if idx % log_interval == 0 and idx > 0:\n",
    "            elapsed = time.time() - start_time\n",
    "            print(\n",
    "                \"| epoch {:3d} | {:5d}/{:5d} batches \"\n",
    "                \"| accuracy {:8.3f}\".format(\n",
    "                    epoch, idx, len(train_dataloader), total_acc / total_count\n",
    "                )\n",
    "            )\n",
    "            total_acc, total_count = 0, 0\n",
    "            start_time = time.time()\n",
    "\n",
    "    epoch_acc = total_acc / total_count\n",
    "    epoch_loss = sum(losses) / len(losses)\n",
    "    return epoch_acc, epoch_loss"
   ]
  },
  {
   "cell_type": "code",
   "execution_count": 54,
   "metadata": {
    "execution": {
     "iopub.status.busy": "2024-12-10T13:32:39.468024Z",
     "iopub.status.idle": "2024-12-10T13:32:39.468315Z",
     "shell.execute_reply": "2024-12-10T13:32:39.468190Z",
     "shell.execute_reply.started": "2024-12-10T13:32:39.468174Z"
    },
    "trusted": true
   },
   "outputs": [],
   "source": [
    "def evaluate(model, criterion, valid_dataloader, device):\n",
    "    model.eval()\n",
    "    total_acc, total_count = 0, 0\n",
    "    losses = []\n",
    "\n",
    "    with torch.no_grad():\n",
    "        for idx, (inputs, labels) in enumerate(valid_dataloader):\n",
    "            inputs = inputs.to(device)\n",
    "            labels = labels.to(device)\n",
    "            # predictions\n",
    "            predictions = model(inputs)\n",
    "\n",
    "            # compute loss\n",
    "            loss = criterion(predictions, labels)\n",
    "            losses.append(loss.item())\n",
    "\n",
    "            total_acc += (predictions.argmax(1) == labels).sum().item()\n",
    "            total_count += labels.size(0)\n",
    "\n",
    "    epoch_acc = total_acc / total_count\n",
    "    epoch_loss = sum(losses) / len(losses)\n",
    "    return epoch_acc, epoch_loss"
   ]
  },
  {
   "cell_type": "code",
   "execution_count": 55,
   "metadata": {
    "execution": {
     "iopub.status.busy": "2024-12-10T13:32:39.469116Z",
     "iopub.status.idle": "2024-12-10T13:32:39.469418Z",
     "shell.execute_reply": "2024-12-10T13:32:39.469286Z",
     "shell.execute_reply.started": "2024-12-10T13:32:39.469270Z"
    },
    "trusted": true
   },
   "outputs": [
    {
     "name": "stdout",
     "output_type": "stream",
     "text": [
      "| epoch   1 |    50/  233 batches | accuracy    0.742\n",
      "| epoch   1 |   100/  233 batches | accuracy    0.838\n",
      "| epoch   1 |   150/  233 batches | accuracy    0.845\n",
      "| epoch   1 |   200/  233 batches | accuracy    0.871\n",
      "-----------------------------------------------------------\n",
      "| End of epoch   1 | Time: 85.34s | Train Accuracy    0.869 | Train Loss    0.390 | Valid Accuracy    0.872 | Valid Loss    0.319 \n",
      "-----------------------------------------------------------\n",
      "| epoch   2 |    50/  233 batches | accuracy    0.919\n",
      "| epoch   2 |   100/  233 batches | accuracy    0.915\n",
      "| epoch   2 |   150/  233 batches | accuracy    0.907\n",
      "| epoch   2 |   200/  233 batches | accuracy    0.916\n",
      "-----------------------------------------------------------\n",
      "| End of epoch   2 | Time: 85.98s | Train Accuracy    0.911 | Train Loss    0.234 | Valid Accuracy    0.875 | Valid Loss    0.311 \n",
      "-----------------------------------------------------------\n",
      "| epoch   3 |    50/  233 batches | accuracy    0.960\n",
      "| epoch   3 |   100/  233 batches | accuracy    0.955\n",
      "| epoch   3 |   150/  233 batches | accuracy    0.956\n",
      "| epoch   3 |   200/  233 batches | accuracy    0.952\n",
      "-----------------------------------------------------------\n",
      "| End of epoch   3 | Time: 82.68s | Train Accuracy    0.958 | Train Loss    0.144 | Valid Accuracy    0.880 | Valid Loss    0.302 \n",
      "-----------------------------------------------------------\n",
      "| epoch   4 |    50/  233 batches | accuracy    0.990\n",
      "| epoch   4 |   100/  233 batches | accuracy    0.987\n",
      "| epoch   4 |   150/  233 batches | accuracy    0.986\n",
      "| epoch   4 |   200/  233 batches | accuracy    0.985\n",
      "-----------------------------------------------------------\n",
      "| End of epoch   4 | Time: 85.34s | Train Accuracy    0.978 | Train Loss    0.072 | Valid Accuracy    0.878 | Valid Loss    0.316 \n",
      "-----------------------------------------------------------\n",
      "| epoch   5 |    50/  233 batches | accuracy    0.999\n",
      "| epoch   5 |   100/  233 batches | accuracy    0.998\n",
      "| epoch   5 |   150/  233 batches | accuracy    0.999\n",
      "| epoch   5 |   200/  233 batches | accuracy    0.998\n",
      "-----------------------------------------------------------\n",
      "| End of epoch   5 | Time: 84.85s | Train Accuracy    0.998 | Train Loss    0.030 | Valid Accuracy    0.881 | Valid Loss    0.343 \n",
      "-----------------------------------------------------------\n",
      "| epoch   6 |    50/  233 batches | accuracy    1.000\n",
      "| epoch   6 |   100/  233 batches | accuracy    1.000\n",
      "| epoch   6 |   150/  233 batches | accuracy    1.000\n",
      "| epoch   6 |   200/  233 batches | accuracy    1.000\n",
      "-----------------------------------------------------------\n",
      "| End of epoch   6 | Time: 84.96s | Train Accuracy    1.000 | Train Loss    0.013 | Valid Accuracy    0.880 | Valid Loss    0.360 \n",
      "-----------------------------------------------------------\n",
      "| epoch   7 |    50/  233 batches | accuracy    1.000\n",
      "| epoch   7 |   100/  233 batches | accuracy    1.000\n",
      "| epoch   7 |   150/  233 batches | accuracy    1.000\n",
      "| epoch   7 |   200/  233 batches | accuracy    1.000\n",
      "-----------------------------------------------------------\n",
      "| End of epoch   7 | Time: 87.11s | Train Accuracy    1.000 | Train Loss    0.007 | Valid Accuracy    0.881 | Valid Loss    0.380 \n",
      "-----------------------------------------------------------\n",
      "| epoch   8 |    50/  233 batches | accuracy    1.000\n",
      "| epoch   8 |   100/  233 batches | accuracy    1.000\n",
      "| epoch   8 |   150/  233 batches | accuracy    1.000\n",
      "| epoch   8 |   200/  233 batches | accuracy    1.000\n",
      "-----------------------------------------------------------\n",
      "| End of epoch   8 | Time: 81.60s | Train Accuracy    1.000 | Train Loss    0.004 | Valid Accuracy    0.880 | Valid Loss    0.395 \n",
      "-----------------------------------------------------------\n",
      "| epoch   9 |    50/  233 batches | accuracy    1.000\n",
      "| epoch   9 |   100/  233 batches | accuracy    1.000\n",
      "| epoch   9 |   150/  233 batches | accuracy    1.000\n",
      "| epoch   9 |   200/  233 batches | accuracy    1.000\n",
      "-----------------------------------------------------------\n",
      "| End of epoch   9 | Time: 86.84s | Train Accuracy    1.000 | Train Loss    0.003 | Valid Accuracy    0.881 | Valid Loss    0.407 \n",
      "-----------------------------------------------------------\n",
      "| epoch  10 |    50/  233 batches | accuracy    1.000\n",
      "| epoch  10 |   100/  233 batches | accuracy    1.000\n",
      "| epoch  10 |   150/  233 batches | accuracy    1.000\n",
      "| epoch  10 |   200/  233 batches | accuracy    1.000\n",
      "-----------------------------------------------------------\n",
      "| End of epoch  10 | Time: 80.89s | Train Accuracy    1.000 | Train Loss    0.002 | Valid Accuracy    0.883 | Valid Loss    0.421 \n",
      "-----------------------------------------------------------\n"
     ]
    }
   ],
   "source": [
    "num_class = 2\n",
    "vocab_size = len(vocabulary)\n",
    "embedding_dim = 100\n",
    "device = torch.device(\"cuda\" if torch.cuda.is_available() else \"cpu\")\n",
    "\n",
    "model = TextCNN(\n",
    "    vocab_size=vocab_size,\n",
    "    embedding_dim=embedding_dim,\n",
    "    kernel_sizes=[3, 4, 5],\n",
    "    num_filters=100,\n",
    "    num_classes=2\n",
    ")\n",
    "model.to(device)\n",
    "\n",
    "criterion = torch.nn.CrossEntropyLoss()\n",
    "optimizer = torch.optim.Adam(model.parameters())\n",
    "\n",
    "num_epochs = 10\n",
    "save_model = './model'\n",
    "\n",
    "train_accs, train_losses = [], []\n",
    "eval_accs, eval_losses = [], []\n",
    "best_loss_eval = 100\n",
    "\n",
    "for epoch in range(1, num_epochs+1):\n",
    "    epoch_start_time = time.time()\n",
    "    # Training\n",
    "    train_acc, train_loss = train(model, optimizer, criterion, train_dataloader, device, epoch)\n",
    "    train_accs.append(train_acc)\n",
    "    train_losses.append(train_loss)\n",
    "\n",
    "    # Evaluation\n",
    "    eval_acc, eval_loss = evaluate(model, criterion, valid_dataloader, device)\n",
    "    eval_accs.append(eval_acc)\n",
    "    eval_losses.append(eval_loss)\n",
    "\n",
    "    # Save best model\n",
    "    if eval_loss < best_loss_eval:\n",
    "        torch.save(model.state_dict(), save_model + '/text_cnn_model.pt')\n",
    "\n",
    "    # Print loss, acc end epoch\n",
    "    print(\"-\" * 59)\n",
    "    print(\n",
    "        \"| End of epoch {:3d} | Time: {:5.2f}s | Train Accuracy {:8.3f} | Train Loss {:8.3f} \"\n",
    "        \"| Valid Accuracy {:8.3f} | Valid Loss {:8.3f} \".format(\n",
    "            epoch, time.time() - epoch_start_time, train_acc, train_loss, eval_acc, eval_loss\n",
    "        )\n",
    "    )\n",
    "    print(\"-\" * 59)\n",
    "\n",
    "    # Load best model\n",
    "    model.load_state_dict(torch.load(save_model + '/text_cnn_model.pt'))\n",
    "    model.eval()"
   ]
  },
  {
   "cell_type": "code",
   "execution_count": 56,
   "metadata": {
    "execution": {
     "iopub.status.busy": "2024-12-10T13:32:39.470616Z",
     "iopub.status.idle": "2024-12-10T13:32:39.470939Z",
     "shell.execute_reply": "2024-12-10T13:32:39.470806Z",
     "shell.execute_reply.started": "2024-12-10T13:32:39.470790Z"
    },
    "trusted": true
   },
   "outputs": [
    {
     "data": {
      "image/png": "[encoded data removed]",
      "text/plain": [
       "<Figure size 1200x600 with 2 Axes>"
      ]
     },
     "metadata": {},
     "output_type": "display_data"
    }
   ],
   "source": [
    "def plot_result(num_epochs, train_accs, eval_accs, train_losses, eval_losses):\n",
    "    epochs = list(range(num_epochs))\n",
    "    fig, axs = plt.subplots(nrows = 1, ncols =2 , figsize = (12,6))\n",
    "    axs[0].plot(epochs, train_accs, label = \"Training\")\n",
    "    axs[0].plot(epochs, eval_accs, label = \"Evaluation\")\n",
    "    axs[1].plot(epochs, train_losses, label = \"Training\")\n",
    "    axs[1].plot(epochs, eval_losses, label = \"Evaluation\")\n",
    "    axs[0].set_xlabel(\"Epochs\")\n",
    "    axs[1].set_xlabel(\"Epochs\")\n",
    "    axs[0].set_ylabel(\"Accuracy\")\n",
    "    axs[1].set_ylabel(\"Loss\")\n",
    "    plt.legend()\n",
    "\n",
    "plot_result(num_epochs, train_accs, eval_accs, train_losses, eval_losses)"
   ]
  },
  {
   "cell_type": "markdown",
   "metadata": {},
   "source": [
    "## Using Dropout for TextCNN"
   ]
  },
  {
   "cell_type": "code",
   "execution_count": 57,
   "metadata": {},
   "outputs": [],
   "source": [
    "import torch.nn as nn\n",
    "class TextCNN(nn.Module):\n",
    "    def __init__(\n",
    "            self,\n",
    "            vocab_size, embedding_dim, kernel_sizes,d_prob, num_filters, num_classes):\n",
    "        super(TextCNN, self).__init__()\n",
    "\n",
    "        self.vocab_size = vocab_size\n",
    "        self.embedding_dim = embedding_dim\n",
    "        self.kernel_sizes = kernel_sizes\n",
    "        self.num_filters = num_filters\n",
    "        self.num_classes = num_classes\n",
    "        self.embedding = nn.Embedding(vocab_size, embedding_dim, padding_idx=0)\n",
    "        self.conv = nn.ModuleList([\n",
    "            nn.Conv1d(\n",
    "                in_channels=embedding_dim,\n",
    "                out_channels=num_filters,\n",
    "                kernel_size=k,\n",
    "                stride=1\n",
    "            ) for k in kernel_sizes])\n",
    "        self.dropout = nn.Dropout(d_prob)\n",
    "        self.fc = nn.Linear(len(kernel_sizes) * num_filters, num_classes)\n",
    "\n",
    "    def forward(self, x):\n",
    "        # x shape: seq_len * batch_size -> x.T = batch_size * seq_len\n",
    "        # after embedding:\n",
    "        x = self.embedding(x.T).transpose(1, 2)\n",
    "        x = [F.relu(conv(x)) for conv in self.conv]\n",
    "        x = [F.max_pool1d(c, c.size(-1)).squeeze(dim=-1) for c in x]\n",
    "        x = torch.cat(x, dim=1)\n",
    "        x = self.dropout(x)\n",
    "        x = self.fc(x)\n",
    "        return x"
   ]
  },
  {
   "cell_type": "code",
   "execution_count": 1,
   "metadata": {},
   "outputs": [
    {
     "ename": "NameError",
     "evalue": "name 'vocabulary' is not defined",
     "output_type": "error",
     "traceback": [
      "\u001b[1;31m---------------------------------------------------------------------------\u001b[0m",
      "\u001b[1;31mNameError\u001b[0m                                 Traceback (most recent call last)",
      "Cell \u001b[1;32mIn[1], line 2\u001b[0m\n\u001b[0;32m      1\u001b[0m num_class \u001b[38;5;241m=\u001b[39m \u001b[38;5;241m2\u001b[39m\n\u001b[1;32m----> 2\u001b[0m vocab_size \u001b[38;5;241m=\u001b[39m \u001b[38;5;28mlen\u001b[39m(\u001b[43mvocabulary\u001b[49m)\n\u001b[0;32m      3\u001b[0m embedding_dim \u001b[38;5;241m=\u001b[39m \u001b[38;5;241m100\u001b[39m\n\u001b[0;32m      4\u001b[0m device \u001b[38;5;241m=\u001b[39m torch\u001b[38;5;241m.\u001b[39mdevice(\u001b[38;5;124m\"\u001b[39m\u001b[38;5;124mcuda\u001b[39m\u001b[38;5;124m\"\u001b[39m \u001b[38;5;28;01mif\u001b[39;00m torch\u001b[38;5;241m.\u001b[39mcuda\u001b[38;5;241m.\u001b[39mis_available() \u001b[38;5;28;01melse\u001b[39;00m \u001b[38;5;124m\"\u001b[39m\u001b[38;5;124mcpu\u001b[39m\u001b[38;5;124m\"\u001b[39m)\n",
      "\u001b[1;31mNameError\u001b[0m: name 'vocabulary' is not defined"
     ]
    }
   ],
   "source": [
    "num_class = 2\n",
    "vocab_size = len(vocabulary)\n",
    "embedding_dim = 100\n",
    "device = torch.device(\"cuda\" if torch.cuda.is_available() else \"cpu\")\n",
    "\n",
    "model = TextCNN(\n",
    "    vocab_size=vocab_size,\n",
    "    embedding_dim=embedding_dim,\n",
    "    kernel_sizes=[3, 4, 5],\n",
    "    d_prob=0.5,\n",
    "    num_filters=100,\n",
    "    num_classes=2\n",
    ")\n",
    "model.to(device)\n",
    "\n",
    "criterion = torch.nn.CrossEntropyLoss()\n",
    "optimizer = torch.optim.Adam(model.parameters())\n",
    "\n",
    "num_epochs = 10\n",
    "save_model = './model'\n",
    "\n",
    "train_accs, train_losses = [], []\n",
    "eval_accs, eval_losses = [], []\n",
    "best_loss_eval = 100\n",
    "\n",
    "for epoch in range(1, num_epochs + 1):\n",
    "    epoch_start_time = time.time()\n",
    "    # Training\n",
    "    train_acc, train_loss = train(\n",
    "        model, optimizer, criterion, train_dataloader, device, epoch)\n",
    "    train_accs.append(train_acc)\n",
    "    train_losses.append(train_loss)\n",
    "\n",
    "    # Evaluation\n",
    "    eval_acc, eval_loss = evaluate(model, criterion, valid_dataloader, device)\n",
    "    eval_accs.append(eval_acc)\n",
    "    eval_losses.append(eval_loss)\n",
    "\n",
    "    # Save best model\n",
    "    if eval_loss < best_loss_eval:\n",
    "        torch.save(model.state_dict(), save_model + '/text_cnn_model_with_batch_norm.pt')\n",
    "\n",
    "    # Print loss, acc end epoch\n",
    "    print(\"-\" * 59)\n",
    "    print(\n",
    "        \"| End of epoch {:3d} | Time: {:5.2f}s | Train Accuracy {:8.3f} | Train Loss {:8.3f} \"\n",
    "        \"| Valid Accuracy {:8.3f} | Valid Loss {:8.3f} \".format(\n",
    "            epoch, time.time() - epoch_start_time, train_acc, train_loss, eval_acc, eval_loss\n",
    "        )\n",
    "    )\n",
    "    print(\"-\" * 59)\n",
    "\n",
    "    # Load best model\n",
    "    model.load_state_dict(torch.load(save_model + '/text_cnn_model.pt'))\n",
    "    model.eval()"
   ]
  },
  {
   "cell_type": "code",
   "execution_count": null,
   "metadata": {},
   "outputs": [],
   "source": [
    "plot_result(num_epochs, train_accs, eval_accs, train_losses, eval_losses)"
   ]
  }
 ],
 "metadata": {
  "kaggle": {
   "accelerator": "nvidiaTeslaT4",
   "dataSources": [],
   "dockerImageVersionId": 30804,
   "isGpuEnabled": true,
   "isInternetEnabled": true,
   "language": "python",
   "sourceType": "notebook"
  },
  "kernelspec": {
   "display_name": "AIOEx",
   "language": "python",
   "name": "python3"
  },
  "language_info": {
   "codemirror_mode": {
    "name": "ipython",
    "version": 3
   },
   "file_extension": ".py",
   "mimetype": "text/x-python",
   "name": "python",
   "nbconvert_exporter": "python",
   "pygments_lexer": "ipython3",
   "version": "3.10.15"
  }
 },
 "nbformat": 4,
 "nbformat_minor": 4
}

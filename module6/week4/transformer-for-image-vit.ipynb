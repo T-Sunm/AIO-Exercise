{
 "cells": [
  {
   "cell_type": "markdown",
   "id": "b448d683",
   "metadata": {
    "id": "QIs4yNczMrAU",
    "papermill": {
     "duration": 0.013023,
     "end_time": "2024-12-31T15:00:17.544735",
     "exception": false,
     "start_time": "2024-12-31T15:00:17.531712",
     "status": "completed"
    },
    "tags": []
   },
   "source": [
    "###**Load Dataset**"
   ]
  },
  {
   "cell_type": "code",
   "execution_count": 1,
   "id": "57dcbbaa",
   "metadata": {
    "execution": {
     "iopub.execute_input": "2024-12-31T15:00:17.570194Z",
     "iopub.status.busy": "2024-12-31T15:00:17.569860Z",
     "iopub.status.idle": "2024-12-31T15:00:22.729790Z",
     "shell.execute_reply": "2024-12-31T15:00:22.729075Z"
    },
    "id": "K9NCXLsWNv_M",
    "papermill": {
     "duration": 5.174177,
     "end_time": "2024-12-31T15:00:22.731441",
     "exception": false,
     "start_time": "2024-12-31T15:00:17.557264",
     "status": "completed"
    },
    "tags": []
   },
   "outputs": [],
   "source": [
    "import torch\n",
    "import torchvision.transforms as transforms\n",
    "from torch.utils.data import DataLoader, random_split\n",
    "import torch.optim as optim\n",
    "from torchvision.datasets import ImageFolder\n",
    "from torch import nn\n",
    "import math\n",
    "import os"
   ]
  },
  {
   "cell_type": "code",
   "execution_count": 2,
   "id": "cab105d6",
   "metadata": {
    "execution": {
     "iopub.execute_input": "2024-12-31T15:00:22.756548Z",
     "iopub.status.busy": "2024-12-31T15:00:22.756222Z",
     "iopub.status.idle": "2024-12-31T15:00:22.759170Z",
     "shell.execute_reply": "2024-12-31T15:00:22.758506Z"
    },
    "id": "efjNGLS-dQJg",
    "papermill": {
     "duration": 0.01669,
     "end_time": "2024-12-31T15:00:22.760469",
     "exception": false,
     "start_time": "2024-12-31T15:00:22.743779",
     "status": "completed"
    },
    "tags": []
   },
   "outputs": [],
   "source": [
    "data_patch = \"/kaggle/input/flower/flower_photos\""
   ]
  },
  {
   "cell_type": "code",
   "execution_count": 3,
   "id": "0fcae1f7",
   "metadata": {
    "execution": {
     "iopub.execute_input": "2024-12-31T15:00:22.784025Z",
     "iopub.status.busy": "2024-12-31T15:00:22.783779Z",
     "iopub.status.idle": "2024-12-31T15:00:32.776787Z",
     "shell.execute_reply": "2024-12-31T15:00:32.775975Z"
    },
    "id": "uhKZbMYhdUM1",
    "papermill": {
     "duration": 10.006527,
     "end_time": "2024-12-31T15:00:32.778536",
     "exception": false,
     "start_time": "2024-12-31T15:00:22.772009",
     "status": "completed"
    },
    "tags": []
   },
   "outputs": [],
   "source": [
    "dataset = ImageFolder(root=data_patch)"
   ]
  },
  {
   "cell_type": "code",
   "execution_count": 4,
   "id": "c3338b8b",
   "metadata": {
    "execution": {
     "iopub.execute_input": "2024-12-31T15:00:32.803987Z",
     "iopub.status.busy": "2024-12-31T15:00:32.803746Z",
     "iopub.status.idle": "2024-12-31T15:00:32.806930Z",
     "shell.execute_reply": "2024-12-31T15:00:32.806345Z"
    },
    "id": "NxIuHxkcdwUp",
    "papermill": {
     "duration": 0.016889,
     "end_time": "2024-12-31T15:00:32.808202",
     "exception": false,
     "start_time": "2024-12-31T15:00:32.791313",
     "status": "completed"
    },
    "tags": []
   },
   "outputs": [],
   "source": [
    "num_samples = len(dataset)\n",
    "classes = dataset.classes\n",
    "num_classes = len(dataset.classes)"
   ]
  },
  {
   "cell_type": "code",
   "execution_count": 5,
   "id": "c8451d73",
   "metadata": {
    "execution": {
     "iopub.execute_input": "2024-12-31T15:00:32.830770Z",
     "iopub.status.busy": "2024-12-31T15:00:32.830554Z",
     "iopub.status.idle": "2024-12-31T15:00:32.835292Z",
     "shell.execute_reply": "2024-12-31T15:00:32.834552Z"
    },
    "papermill": {
     "duration": 0.017381,
     "end_time": "2024-12-31T15:00:32.836520",
     "exception": false,
     "start_time": "2024-12-31T15:00:32.819139",
     "status": "completed"
    },
    "tags": []
   },
   "outputs": [
    {
     "data": {
      "text/plain": [
       "5"
      ]
     },
     "execution_count": 5,
     "metadata": {},
     "output_type": "execute_result"
    }
   ],
   "source": [
    "num_classes"
   ]
  },
  {
   "cell_type": "code",
   "execution_count": 6,
   "id": "9ac82b8d",
   "metadata": {
    "execution": {
     "iopub.execute_input": "2024-12-31T15:00:32.859172Z",
     "iopub.status.busy": "2024-12-31T15:00:32.858951Z",
     "iopub.status.idle": "2024-12-31T15:00:32.862187Z",
     "shell.execute_reply": "2024-12-31T15:00:32.861461Z"
    },
    "id": "9r9yAIXgdXe8",
    "papermill": {
     "duration": 0.015864,
     "end_time": "2024-12-31T15:00:32.863377",
     "exception": false,
     "start_time": "2024-12-31T15:00:32.847513",
     "status": "completed"
    },
    "tags": []
   },
   "outputs": [],
   "source": [
    "TRAIN_RATIO, VALID_RATIO = 0.8, 0.1\n",
    "\n",
    "n_train_examples = int(num_samples * TRAIN_RATIO)\n",
    "n_valid_examples = int(num_samples * VALID_RATIO)\n",
    "n_test_examples = num_samples - n_train_examples - n_valid_examples"
   ]
  },
  {
   "cell_type": "code",
   "execution_count": 7,
   "id": "baaee198",
   "metadata": {
    "execution": {
     "iopub.execute_input": "2024-12-31T15:00:32.886798Z",
     "iopub.status.busy": "2024-12-31T15:00:32.886510Z",
     "iopub.status.idle": "2024-12-31T15:00:32.915645Z",
     "shell.execute_reply": "2024-12-31T15:00:32.914874Z"
    },
    "id": "xGO-N92UduMd",
    "papermill": {
     "duration": 0.041874,
     "end_time": "2024-12-31T15:00:32.916856",
     "exception": false,
     "start_time": "2024-12-31T15:00:32.874982",
     "status": "completed"
    },
    "tags": []
   },
   "outputs": [],
   "source": [
    "train_dataset, valid_dataset, test_dataset = random_split(\n",
    "    dataset,\n",
    "    [n_train_examples, n_valid_examples, n_test_examples]\n",
    ")"
   ]
  },
  {
   "cell_type": "markdown",
   "id": "cc91d503",
   "metadata": {
    "id": "Ezc-YlUIoTQV",
    "papermill": {
     "duration": 0.010802,
     "end_time": "2024-12-31T15:00:32.938747",
     "exception": false,
     "start_time": "2024-12-31T15:00:32.927945",
     "status": "completed"
    },
    "tags": []
   },
   "source": [
    "###**Preprocessing**"
   ]
  },
  {
   "cell_type": "code",
   "execution_count": 8,
   "id": "e605d5dd",
   "metadata": {
    "execution": {
     "iopub.execute_input": "2024-12-31T15:00:32.961541Z",
     "iopub.status.busy": "2024-12-31T15:00:32.961314Z",
     "iopub.status.idle": "2024-12-31T15:00:32.965763Z",
     "shell.execute_reply": "2024-12-31T15:00:32.964927Z"
    },
    "id": "vfoHFRl3d9Dz",
    "papermill": {
     "duration": 0.017162,
     "end_time": "2024-12-31T15:00:32.966949",
     "exception": false,
     "start_time": "2024-12-31T15:00:32.949787",
     "status": "completed"
    },
    "tags": []
   },
   "outputs": [],
   "source": [
    "# resize + convert to tensor\n",
    "IMG_SIZE = 224\n",
    "\n",
    "train_transforms = transforms.Compose([\n",
    "    transforms.Resize((IMG_SIZE, IMG_SIZE)),\n",
    "    transforms.RandomHorizontalFlip(),\n",
    "    transforms.RandomRotation(0.2),\n",
    "    transforms.ToTensor(),\n",
    "    transforms.Normalize([0.5, 0.5, 0.5], [0.5, 0.5, 0.5])\n",
    "])\n",
    "\n",
    "test_transforms = transforms.Compose([\n",
    "    transforms.Resize((IMG_SIZE, IMG_SIZE)),\n",
    "    transforms.ToTensor(),\n",
    "    transforms.Normalize([0.5, 0.5, 0.5], [0.5, 0.5, 0.5])\n",
    "])"
   ]
  },
  {
   "cell_type": "code",
   "execution_count": 9,
   "id": "731dc537",
   "metadata": {
    "execution": {
     "iopub.execute_input": "2024-12-31T15:00:32.989659Z",
     "iopub.status.busy": "2024-12-31T15:00:32.989457Z",
     "iopub.status.idle": "2024-12-31T15:00:32.992678Z",
     "shell.execute_reply": "2024-12-31T15:00:32.991907Z"
    },
    "id": "4ZQF1_s7eLX9",
    "papermill": {
     "duration": 0.01572,
     "end_time": "2024-12-31T15:00:32.993840",
     "exception": false,
     "start_time": "2024-12-31T15:00:32.978120",
     "status": "completed"
    },
    "tags": []
   },
   "outputs": [],
   "source": [
    "train_dataset.dataset.transform = train_transforms\n",
    "valid_dataset.dataset.transform = test_transforms\n",
    "test_dataset.dataset.transform = test_transforms"
   ]
  },
  {
   "cell_type": "markdown",
   "id": "794f958b",
   "metadata": {
    "id": "ZqYzCCFlogdw",
    "papermill": {
     "duration": 0.010889,
     "end_time": "2024-12-31T15:00:33.016211",
     "exception": false,
     "start_time": "2024-12-31T15:00:33.005322",
     "status": "completed"
    },
    "tags": []
   },
   "source": [
    "###**Dataloader**"
   ]
  },
  {
   "cell_type": "code",
   "execution_count": 10,
   "id": "02bbb028",
   "metadata": {
    "execution": {
     "iopub.execute_input": "2024-12-31T15:00:33.039011Z",
     "iopub.status.busy": "2024-12-31T15:00:33.038817Z",
     "iopub.status.idle": "2024-12-31T15:00:33.042499Z",
     "shell.execute_reply": "2024-12-31T15:00:33.041885Z"
    },
    "id": "QktT-Sz5eNY0",
    "papermill": {
     "duration": 0.016477,
     "end_time": "2024-12-31T15:00:33.043735",
     "exception": false,
     "start_time": "2024-12-31T15:00:33.027258",
     "status": "completed"
    },
    "tags": []
   },
   "outputs": [],
   "source": [
    "BATCH_SIZE = 512\n",
    "\n",
    "train_loader = DataLoader(\n",
    "    train_dataset,\n",
    "    shuffle=True,\n",
    "    batch_size=BATCH_SIZE\n",
    ")\n",
    "\n",
    "val_loader = DataLoader(\n",
    "    valid_dataset,\n",
    "    batch_size=BATCH_SIZE\n",
    ")\n",
    "\n",
    "test_loader = DataLoader(\n",
    "    test_dataset,\n",
    "    batch_size=BATCH_SIZE\n",
    ")"
   ]
  },
  {
   "cell_type": "markdown",
   "id": "ec8c79e1",
   "metadata": {
    "id": "ozuMx9DComUH",
    "papermill": {
     "duration": 0.010753,
     "end_time": "2024-12-31T15:00:33.065454",
     "exception": false,
     "start_time": "2024-12-31T15:00:33.054701",
     "status": "completed"
    },
    "tags": []
   },
   "source": [
    "###**Modeling**"
   ]
  },
  {
   "cell_type": "code",
   "execution_count": 11,
   "id": "395726d5",
   "metadata": {
    "execution": {
     "iopub.execute_input": "2024-12-31T15:00:33.088617Z",
     "iopub.status.busy": "2024-12-31T15:00:33.088380Z",
     "iopub.status.idle": "2024-12-31T15:00:33.095820Z",
     "shell.execute_reply": "2024-12-31T15:00:33.095044Z"
    },
    "id": "fKQ15ackSHGL",
    "papermill": {
     "duration": 0.020734,
     "end_time": "2024-12-31T15:00:33.097118",
     "exception": false,
     "start_time": "2024-12-31T15:00:33.076384",
     "status": "completed"
    },
    "tags": []
   },
   "outputs": [],
   "source": [
    "class TransformerEncoder(nn.Module):\n",
    "    def __init__ (self, embed_dim, num_heads, ff_dim, dropout=0.1):\n",
    "        super().__init__()\n",
    "        self.attn = nn.MultiheadAttention(\n",
    "            embed_dim = embed_dim,\n",
    "            num_heads = num_heads,\n",
    "            batch_first = True\n",
    "        )\n",
    "        self.ffn = nn.Sequential(\n",
    "            nn.Linear(in_features=embed_dim, out_features = ff_dim, bias = True),\n",
    "            nn.ReLU(),\n",
    "            nn.Linear(in_features=ff_dim, out_features = embed_dim, bias = True)\n",
    "        )\n",
    "        self.layernorm_1 = nn.LayerNorm(normalized_shape = embed_dim, eps = 1e-6)\n",
    "        self.layernorm_2 = nn.LayerNorm(normalized_shape = embed_dim, eps = 1e-6)\n",
    "        self.dropout_1 = nn.Dropout(p = dropout)\n",
    "        self.dropout_2 = nn.Dropout(p = dropout)\n",
    "    \n",
    "    def forward(self, query , key , value):\n",
    "        attn_output, _ = self.attn(query , key , value)    \n",
    "        attn_output = self.dropout_1(attn_output)\n",
    "        out_1 = self.layernorm_1(attn_output + query)\n",
    "\n",
    "        ffn_output = self.ffn(out_1)\n",
    "        ffn_output = self.dropout_2(ffn_output)\n",
    "        output = self.layernorm_2(out_1 + ffn_output)\n",
    "\n",
    "        return output\n",
    "\n",
    "class PatchPositionEmbedding(nn.Module):\n",
    "    def __init__(self, image_size=224, embed_dim=512, patch_size=16, device='cpu'):\n",
    "        super().__init__()\n",
    "        self.conv1 = nn.Conv2d(in_channels=3, out_channels=embed_dim, kernel_size=patch_size, stride=patch_size, bias=False)\n",
    "        scale = embed_dim ** -0.5\n",
    "        self.positional_embedding = nn.Parameter(scale * torch.randn((image_size // patch_size) ** 2, embed_dim))\n",
    "        self.device = device\n",
    "\n",
    "    def forward(self, x):\n",
    "        x = self.conv1(x)  # shape = [*, width, grid, grid]\n",
    "        x = x.reshape(x.shape[0], x.shape[1], -1)  # shape = [*, width, grid ** 2]\n",
    "        x = x.permute(0, 2, 1)  # shape = [*, grid ** 2, width]\n",
    "\n",
    "        x = x + self.positional_embedding.to(self.device)\n",
    "        return x\n"
   ]
  },
  {
   "cell_type": "code",
   "execution_count": 12,
   "id": "1413d820",
   "metadata": {
    "execution": {
     "iopub.execute_input": "2024-12-31T15:00:33.120516Z",
     "iopub.status.busy": "2024-12-31T15:00:33.120292Z",
     "iopub.status.idle": "2024-12-31T15:00:33.125573Z",
     "shell.execute_reply": "2024-12-31T15:00:33.124846Z"
    },
    "id": "swYkm_22o4J1",
    "papermill": {
     "duration": 0.01855,
     "end_time": "2024-12-31T15:00:33.126820",
     "exception": false,
     "start_time": "2024-12-31T15:00:33.108270",
     "status": "completed"
    },
    "tags": []
   },
   "outputs": [],
   "source": [
    "class VisionTransformerCls(nn.Module):\n",
    "    def __init__(self, image_size, embed_dim, num_heads, ff_dim,\n",
    "                 dropout=0.1, device='cpu', num_classes=10, patch_size=16):\n",
    "        super().__init__()\n",
    "        self.embd_layer = PatchPositionEmbedding(\n",
    "            image_size=image_size, embed_dim=embed_dim, patch_size=patch_size, device=device\n",
    "        )\n",
    "        self.transformer_layer = TransformerEncoder(\n",
    "            embed_dim, num_heads, ff_dim, dropout\n",
    "        )\n",
    "        # self.pooling = nn.AvgPool1d(kernel_size=max_length)\n",
    "        self.fc1 = nn.Linear(in_features=embed_dim, out_features=20)\n",
    "        self.fc2 = nn.Linear(in_features=20, out_features=num_classes)\n",
    "        self.dropout = nn.Dropout(p=dropout)\n",
    "        self.relu = nn.ReLU()\n",
    "\n",
    "    def forward(self, x):\n",
    "        output = self.embd_layer(x)\n",
    "        output = self.transformer_layer(output, output, output)\n",
    "        output = output[:, 0, :]\n",
    "        output = self.dropout(output)\n",
    "        output = self.fc1(output)\n",
    "        output = self.dropout(output)\n",
    "        output = self.fc2(output)\n",
    "        return output\n"
   ]
  },
  {
   "cell_type": "code",
   "execution_count": 13,
   "id": "000deff5",
   "metadata": {
    "execution": {
     "iopub.execute_input": "2024-12-31T15:00:33.149572Z",
     "iopub.status.busy": "2024-12-31T15:00:33.149378Z",
     "iopub.status.idle": "2024-12-31T15:00:33.152397Z",
     "shell.execute_reply": "2024-12-31T15:00:33.151770Z"
    },
    "id": "37RUXC7CTzjV",
    "papermill": {
     "duration": 0.015662,
     "end_time": "2024-12-31T15:00:33.153540",
     "exception": false,
     "start_time": "2024-12-31T15:00:33.137878",
     "status": "completed"
    },
    "tags": []
   },
   "outputs": [],
   "source": [
    "image_size=224\n",
    "embed_dim = 512\n",
    "num_heads = 4\n",
    "ff_dim = 128\n",
    "dropout=0.1"
   ]
  },
  {
   "cell_type": "code",
   "execution_count": 14,
   "id": "0083a96f",
   "metadata": {
    "execution": {
     "iopub.execute_input": "2024-12-31T15:00:33.176381Z",
     "iopub.status.busy": "2024-12-31T15:00:33.176164Z",
     "iopub.status.idle": "2024-12-31T15:00:33.251894Z",
     "shell.execute_reply": "2024-12-31T15:00:33.251201Z"
    },
    "id": "76rHnmS7T8Hx",
    "papermill": {
     "duration": 0.088799,
     "end_time": "2024-12-31T15:00:33.253241",
     "exception": false,
     "start_time": "2024-12-31T15:00:33.164442",
     "status": "completed"
    },
    "tags": []
   },
   "outputs": [],
   "source": [
    "device = torch.device('cuda' if torch.cuda.is_available() else 'cpu')"
   ]
  },
  {
   "cell_type": "code",
   "execution_count": 15,
   "id": "80601c9d",
   "metadata": {
    "execution": {
     "iopub.execute_input": "2024-12-31T15:00:33.277178Z",
     "iopub.status.busy": "2024-12-31T15:00:33.276923Z",
     "iopub.status.idle": "2024-12-31T15:00:33.340922Z",
     "shell.execute_reply": "2024-12-31T15:00:33.340367Z"
    },
    "id": "8jcR2bi7T1wt",
    "papermill": {
     "duration": 0.076983,
     "end_time": "2024-12-31T15:00:33.342158",
     "exception": false,
     "start_time": "2024-12-31T15:00:33.265175",
     "status": "completed"
    },
    "tags": []
   },
   "outputs": [],
   "source": [
    "model = VisionTransformerCls(\n",
    "    image_size=224, embed_dim=512, num_heads=num_heads, ff_dim=ff_dim, dropout=dropout, num_classes=num_classes, device=device\n",
    ")"
   ]
  },
  {
   "cell_type": "code",
   "execution_count": 16,
   "id": "32481e4e",
   "metadata": {
    "execution": {
     "iopub.execute_input": "2024-12-31T15:00:33.364954Z",
     "iopub.status.busy": "2024-12-31T15:00:33.364730Z",
     "iopub.status.idle": "2024-12-31T15:00:33.596956Z",
     "shell.execute_reply": "2024-12-31T15:00:33.596065Z"
    },
    "id": "jA3CHHbDUUwd",
    "outputId": "c390cab6-7286-4fb9-b007-8976d248ffbf",
    "papermill": {
     "duration": 0.245399,
     "end_time": "2024-12-31T15:00:33.598528",
     "exception": false,
     "start_time": "2024-12-31T15:00:33.353129",
     "status": "completed"
    },
    "tags": []
   },
   "outputs": [
    {
     "data": {
      "text/plain": [
       "VisionTransformerCls(\n",
       "  (embd_layer): PatchPositionEmbedding(\n",
       "    (conv1): Conv2d(3, 512, kernel_size=(16, 16), stride=(16, 16), bias=False)\n",
       "  )\n",
       "  (transformer_layer): TransformerEncoder(\n",
       "    (attn): MultiheadAttention(\n",
       "      (out_proj): NonDynamicallyQuantizableLinear(in_features=512, out_features=512, bias=True)\n",
       "    )\n",
       "    (ffn): Sequential(\n",
       "      (0): Linear(in_features=512, out_features=128, bias=True)\n",
       "      (1): ReLU()\n",
       "      (2): Linear(in_features=128, out_features=512, bias=True)\n",
       "    )\n",
       "    (layernorm_1): LayerNorm((512,), eps=1e-06, elementwise_affine=True)\n",
       "    (layernorm_2): LayerNorm((512,), eps=1e-06, elementwise_affine=True)\n",
       "    (dropout_1): Dropout(p=0.1, inplace=False)\n",
       "    (dropout_2): Dropout(p=0.1, inplace=False)\n",
       "  )\n",
       "  (fc1): Linear(in_features=512, out_features=20, bias=True)\n",
       "  (fc2): Linear(in_features=20, out_features=5, bias=True)\n",
       "  (dropout): Dropout(p=0.1, inplace=False)\n",
       "  (relu): ReLU()\n",
       ")"
      ]
     },
     "execution_count": 16,
     "metadata": {},
     "output_type": "execute_result"
    }
   ],
   "source": [
    "model.to(device)"
   ]
  },
  {
   "cell_type": "code",
   "execution_count": 17,
   "id": "b76baae1",
   "metadata": {
    "execution": {
     "iopub.execute_input": "2024-12-31T15:00:33.623189Z",
     "iopub.status.busy": "2024-12-31T15:00:33.622895Z",
     "iopub.status.idle": "2024-12-31T15:00:38.422774Z",
     "shell.execute_reply": "2024-12-31T15:00:38.421911Z"
    },
    "id": "yeilSbUSUAIa",
    "papermill": {
     "duration": 4.813691,
     "end_time": "2024-12-31T15:00:38.424534",
     "exception": false,
     "start_time": "2024-12-31T15:00:33.610843",
     "status": "completed"
    },
    "tags": []
   },
   "outputs": [],
   "source": [
    "input, label = next(iter(train_loader))"
   ]
  },
  {
   "cell_type": "code",
   "execution_count": 18,
   "id": "221931d9",
   "metadata": {
    "execution": {
     "iopub.execute_input": "2024-12-31T15:00:38.451421Z",
     "iopub.status.busy": "2024-12-31T15:00:38.451158Z",
     "iopub.status.idle": "2024-12-31T15:00:38.547486Z",
     "shell.execute_reply": "2024-12-31T15:00:38.546832Z"
    },
    "id": "Mf-aH-xbUFg6",
    "papermill": {
     "duration": 0.111163,
     "end_time": "2024-12-31T15:00:38.548859",
     "exception": false,
     "start_time": "2024-12-31T15:00:38.437696",
     "status": "completed"
    },
    "tags": []
   },
   "outputs": [],
   "source": [
    "input = input.to(device)"
   ]
  },
  {
   "cell_type": "code",
   "execution_count": 19,
   "id": "ad94437c",
   "metadata": {
    "execution": {
     "iopub.execute_input": "2024-12-31T15:00:38.572139Z",
     "iopub.status.busy": "2024-12-31T15:00:38.571872Z",
     "iopub.status.idle": "2024-12-31T15:00:38.584047Z",
     "shell.execute_reply": "2024-12-31T15:00:38.583361Z"
    },
    "id": "MAdsMw70UIlx",
    "outputId": "5aacecab-c531-42bb-badf-d88a33aecc50",
    "papermill": {
     "duration": 0.025024,
     "end_time": "2024-12-31T15:00:38.585386",
     "exception": false,
     "start_time": "2024-12-31T15:00:38.560362",
     "status": "completed"
    },
    "tags": []
   },
   "outputs": [
    {
     "data": {
      "text/plain": [
       "tensor([2, 2, 3, 4, 1, 2, 1, 1, 2, 3, 4, 2, 3, 3, 3, 4, 2, 3, 4, 0, 3, 1, 2, 0,\n",
       "        4, 1, 3, 2, 3, 4, 3, 0, 1, 3, 4, 1, 2, 3, 0, 3, 2, 2, 0, 1, 1, 3, 4, 3,\n",
       "        1, 0, 1, 1, 2, 4, 1, 1, 4, 0, 1, 1, 4, 1, 0, 2, 4, 3, 2, 2, 4, 4, 4, 2,\n",
       "        3, 0, 3, 4, 0, 0, 3, 3, 0, 2, 2, 0, 1, 2, 3, 2, 3, 1, 1, 1, 1, 1, 1, 1,\n",
       "        2, 1, 1, 0, 3, 2, 4, 1, 1, 4, 3, 1, 2, 1, 4, 4, 2, 1, 3, 0, 1, 2, 3, 4,\n",
       "        3, 1, 3, 4, 4, 4, 4, 1, 3, 4, 0, 0, 2, 1, 4, 3, 4, 1, 2, 4, 2, 4, 1, 2,\n",
       "        4, 3, 4, 2, 2, 3, 2, 0, 1, 4, 0, 3, 0, 4, 4, 3, 0, 1, 0, 0, 1, 1, 1, 3,\n",
       "        3, 2, 1, 4, 3, 0, 2, 4, 0, 1, 0, 4, 4, 0, 3, 3, 4, 0, 3, 0, 0, 0, 4, 2,\n",
       "        2, 4, 1, 0, 2, 4, 4, 1, 1, 4, 1, 1, 2, 1, 3, 0, 3, 0, 0, 4, 3, 3, 0, 0,\n",
       "        0, 4, 3, 2, 1, 1, 4, 3, 1, 1, 2, 3, 4, 2, 3, 0, 1, 0, 1, 1, 0, 2, 4, 0,\n",
       "        4, 3, 0, 0, 3, 3, 4, 1, 4, 4, 4, 2, 3, 3, 2, 4, 2, 2, 4, 2, 0, 0, 3, 2,\n",
       "        4, 2, 2, 1, 4, 0, 1, 3, 2, 1, 1, 2, 3, 2, 4, 1, 2, 4, 1, 4, 3, 2, 3, 0,\n",
       "        1, 0, 2, 2, 1, 2, 0, 3, 0, 2, 3, 1, 2, 2, 2, 4, 1, 3, 0, 3, 3, 0, 1, 0,\n",
       "        1, 4, 4, 1, 3, 0, 4, 2, 0, 1, 1, 0, 2, 3, 1, 1, 4, 4, 1, 3, 1, 3, 4, 1,\n",
       "        4, 3, 0, 4, 4, 3, 2, 0, 3, 0, 0, 1, 3, 3, 1, 2, 2, 4, 3, 1, 1, 1, 0, 3,\n",
       "        2, 2, 0, 2, 3, 1, 1, 4, 4, 0, 1, 0, 2, 3, 3, 1, 1, 0, 1, 3, 4, 3, 2, 2,\n",
       "        1, 3, 0, 0, 2, 2, 3, 3, 1, 4, 2, 0, 1, 4, 3, 0, 2, 2, 4, 0, 0, 0, 1, 2,\n",
       "        2, 0, 3, 1, 4, 4, 4, 1, 0, 1, 3, 2, 3, 3, 3, 3, 4, 4, 2, 4, 4, 1, 4, 4,\n",
       "        2, 2, 3, 2, 2, 4, 1, 0, 1, 1, 3, 0, 3, 2, 1, 4, 4, 1, 1, 3, 4, 2, 0, 4,\n",
       "        2, 4, 2, 4, 1, 0, 2, 0, 1, 4, 0, 1, 2, 0, 4, 4, 1, 4, 3, 1, 2, 3, 0, 3,\n",
       "        2, 3, 4, 3, 3, 0, 2, 1, 4, 3, 4, 2, 3, 2, 0, 0, 2, 3, 1, 4, 1, 4, 4, 4,\n",
       "        2, 3, 2, 2, 1, 3, 4, 1])"
      ]
     },
     "execution_count": 19,
     "metadata": {},
     "output_type": "execute_result"
    }
   ],
   "source": [
    "label"
   ]
  },
  {
   "cell_type": "code",
   "execution_count": 20,
   "id": "3f40d6f7",
   "metadata": {
    "execution": {
     "iopub.execute_input": "2024-12-31T15:00:38.609142Z",
     "iopub.status.busy": "2024-12-31T15:00:38.608895Z",
     "iopub.status.idle": "2024-12-31T15:00:39.442263Z",
     "shell.execute_reply": "2024-12-31T15:00:39.441590Z"
    },
    "id": "t556suiHUMBy",
    "papermill": {
     "duration": 0.846973,
     "end_time": "2024-12-31T15:00:39.443876",
     "exception": false,
     "start_time": "2024-12-31T15:00:38.596903",
     "status": "completed"
    },
    "tags": []
   },
   "outputs": [],
   "source": [
    "predictions = model(input)"
   ]
  },
  {
   "cell_type": "code",
   "execution_count": 21,
   "id": "6c324729",
   "metadata": {
    "execution": {
     "iopub.execute_input": "2024-12-31T15:00:39.469076Z",
     "iopub.status.busy": "2024-12-31T15:00:39.468829Z",
     "iopub.status.idle": "2024-12-31T15:00:39.680003Z",
     "shell.execute_reply": "2024-12-31T15:00:39.679103Z"
    },
    "id": "8OmlfGEjUQR5",
    "outputId": "3596a66d-73a6-4105-eefe-c4fe675154d6",
    "papermill": {
     "duration": 0.224472,
     "end_time": "2024-12-31T15:00:39.681381",
     "exception": false,
     "start_time": "2024-12-31T15:00:39.456909",
     "status": "completed"
    },
    "tags": []
   },
   "outputs": [
    {
     "data": {
      "text/plain": [
       "tensor([[-0.0712, -0.0450, -0.4631,  0.4641, -0.2508],\n",
       "        [ 0.3158, -0.1731,  0.6986, -0.3745,  0.0805],\n",
       "        [-0.0580, -0.2239, -0.0463,  0.2438,  0.1799],\n",
       "        ...,\n",
       "        [-0.0208,  0.5172,  0.2299, -0.6506,  0.6554],\n",
       "        [ 0.5062, -0.4043,  0.1209, -0.4201,  0.4628],\n",
       "        [-0.3904,  0.0184, -0.4500, -0.0122,  0.0576]], device='cuda:0',\n",
       "       grad_fn=<AddmmBackward0>)"
      ]
     },
     "execution_count": 21,
     "metadata": {},
     "output_type": "execute_result"
    }
   ],
   "source": [
    "predictions"
   ]
  },
  {
   "cell_type": "markdown",
   "id": "202e7407",
   "metadata": {
    "id": "v96J3PSfK7Bj",
    "papermill": {
     "duration": 0.011116,
     "end_time": "2024-12-31T15:00:39.704532",
     "exception": false,
     "start_time": "2024-12-31T15:00:39.693416",
     "status": "completed"
    },
    "tags": []
   },
   "source": [
    "##**Trainer**"
   ]
  },
  {
   "cell_type": "code",
   "execution_count": 22,
   "id": "2a3df8ed",
   "metadata": {
    "execution": {
     "iopub.execute_input": "2024-12-31T15:00:39.727972Z",
     "iopub.status.busy": "2024-12-31T15:00:39.727723Z",
     "iopub.status.idle": "2024-12-31T15:00:39.733515Z",
     "shell.execute_reply": "2024-12-31T15:00:39.732842Z"
    },
    "id": "YJzKQ_jvK8wY",
    "papermill": {
     "duration": 0.019095,
     "end_time": "2024-12-31T15:00:39.734778",
     "exception": false,
     "start_time": "2024-12-31T15:00:39.715683",
     "status": "completed"
    },
    "tags": []
   },
   "outputs": [],
   "source": [
    "import time\n",
    "\n",
    "def train_epoch(model, optimizer, criterion, train_dataloader, device, epoch=0, log_interval=50):\n",
    "    model.train()\n",
    "    total_acc, total_count = 0, 0\n",
    "    losses = []\n",
    "    start_time = time.time()\n",
    "\n",
    "    for idx, (inputs, labels) in enumerate(train_dataloader):\n",
    "        inputs = inputs.to(device)\n",
    "        labels = labels.to(device)\n",
    "\n",
    "        optimizer.zero_grad()\n",
    "\n",
    "        predictions = model(inputs)\n",
    "\n",
    "        # compute loss\n",
    "        loss = criterion(predictions, labels)\n",
    "        losses.append(loss.item())\n",
    "\n",
    "        # backward\n",
    "        loss.backward()\n",
    "        optimizer.step()\n",
    "        total_acc += (predictions.argmax(1) == labels).sum().item()\n",
    "        total_count += labels.size(0)\n",
    "        if idx % log_interval == 0 and idx > 0:\n",
    "            elapsed = time.time() - start_time\n",
    "            print(\n",
    "                \"| epoch {:3d} | {:5d}/{:5d} batches \"\n",
    "                \"| accuracy {:8.3f}\".format(\n",
    "                    epoch, idx, len(train_dataloader), total_acc / total_count\n",
    "                )\n",
    "            )\n",
    "            total_acc, total_count = 0, 0\n",
    "            start_time = time.time()\n",
    "\n",
    "    epoch_acc = total_acc / total_count\n",
    "    epoch_loss = sum(losses) / len(losses)\n",
    "    return epoch_acc, epoch_loss"
   ]
  },
  {
   "cell_type": "code",
   "execution_count": 23,
   "id": "43149f55",
   "metadata": {
    "execution": {
     "iopub.execute_input": "2024-12-31T15:00:39.758765Z",
     "iopub.status.busy": "2024-12-31T15:00:39.758555Z",
     "iopub.status.idle": "2024-12-31T15:00:39.762897Z",
     "shell.execute_reply": "2024-12-31T15:00:39.762300Z"
    },
    "id": "UlHN2aMqLEKb",
    "papermill": {
     "duration": 0.017782,
     "end_time": "2024-12-31T15:00:39.764132",
     "exception": false,
     "start_time": "2024-12-31T15:00:39.746350",
     "status": "completed"
    },
    "tags": []
   },
   "outputs": [],
   "source": [
    "def evaluate_epoch(model, criterion, valid_dataloader, device):\n",
    "    model.eval()\n",
    "    total_acc, total_count = 0, 0\n",
    "    losses = []\n",
    "\n",
    "    with torch.no_grad():\n",
    "        for idx, (inputs, labels) in enumerate(valid_dataloader):\n",
    "            inputs = inputs.to(device)\n",
    "            labels = labels.to(device)\n",
    "\n",
    "            predictions = model(inputs)\n",
    "\n",
    "            loss = criterion(predictions, labels)\n",
    "            losses.append(loss.item())\n",
    "\n",
    "            total_acc += (predictions.argmax(1) == labels).sum().item()\n",
    "            total_count += labels.size(0)\n",
    "\n",
    "    epoch_acc = total_acc / total_count\n",
    "    epoch_loss = sum(losses) / len(losses)\n",
    "    return epoch_acc, epoch_loss"
   ]
  },
  {
   "cell_type": "code",
   "execution_count": 24,
   "id": "fa3d55bb",
   "metadata": {
    "execution": {
     "iopub.execute_input": "2024-12-31T15:00:39.787544Z",
     "iopub.status.busy": "2024-12-31T15:00:39.787313Z",
     "iopub.status.idle": "2024-12-31T15:00:39.792845Z",
     "shell.execute_reply": "2024-12-31T15:00:39.792241Z"
    },
    "id": "wIpbt6snLGxM",
    "papermill": {
     "duration": 0.018757,
     "end_time": "2024-12-31T15:00:39.794143",
     "exception": false,
     "start_time": "2024-12-31T15:00:39.775386",
     "status": "completed"
    },
    "tags": []
   },
   "outputs": [],
   "source": [
    "def train(model, model_name, save_model, optimizer, criterion, train_dataloader, valid_dataloader, num_epochs, device):\n",
    "    train_accs, train_losses = [], []\n",
    "    eval_accs, eval_losses = [], []\n",
    "    best_loss_eval = 100\n",
    "    times = []\n",
    "    for epoch in range(1, num_epochs+1):\n",
    "        epoch_start_time = time.time()\n",
    "        # Training\n",
    "        train_acc, train_loss = train_epoch(model, optimizer, criterion, train_dataloader, device, epoch)\n",
    "        train_accs.append(train_acc)\n",
    "        train_losses.append(train_loss)\n",
    "\n",
    "        # Evaluation\n",
    "        eval_acc, eval_loss = evaluate_epoch(model, criterion, valid_dataloader, device)\n",
    "        eval_accs.append(eval_acc)\n",
    "        eval_losses.append(eval_loss)\n",
    "\n",
    "        # Save best model\n",
    "        if eval_loss < best_loss_eval:\n",
    "            torch.save(model.state_dict(), save_model + f'/{model_name}.pt')\n",
    "\n",
    "        times.append(time.time() - epoch_start_time)\n",
    "        # Print loss, acc end epoch\n",
    "        print(\"-\" * 59)\n",
    "        print(\n",
    "            \"| End of epoch {:3d} | Time: {:5.2f}s | Train Accuracy {:8.3f} | Train Loss {:8.3f} \"\n",
    "            \"| Valid Accuracy {:8.3f} | Valid Loss {:8.3f} \".format(\n",
    "                epoch, time.time() - epoch_start_time, train_acc, train_loss, eval_acc, eval_loss\n",
    "            )\n",
    "        )\n",
    "        print(\"-\" * 59)\n",
    "\n",
    "    # Load best model\n",
    "    model.load_state_dict(torch.load(save_model + f'/{model_name}.pt', weights_only=True))\n",
    "    model.eval()\n",
    "    metrics = {\n",
    "        'train_accuracy': train_accs,\n",
    "        'train_loss': train_losses,\n",
    "        'valid_accuracy': eval_accs,\n",
    "        'valid_loss': eval_losses,\n",
    "        'time': times\n",
    "    }\n",
    "    return model, metrics"
   ]
  },
  {
   "cell_type": "markdown",
   "id": "37b4ff68",
   "metadata": {
    "id": "0gdtkIt0uLt6",
    "papermill": {
     "duration": 0.011427,
     "end_time": "2024-12-31T15:00:39.817097",
     "exception": false,
     "start_time": "2024-12-31T15:00:39.805670",
     "status": "completed"
    },
    "tags": []
   },
   "source": [
    "## **Training**"
   ]
  },
  {
   "cell_type": "code",
   "execution_count": 25,
   "id": "f1e1b5d1",
   "metadata": {
    "execution": {
     "iopub.execute_input": "2024-12-31T15:00:39.847623Z",
     "iopub.status.busy": "2024-12-31T15:00:39.847261Z",
     "iopub.status.idle": "2024-12-31T15:28:08.364885Z",
     "shell.execute_reply": "2024-12-31T15:28:08.363937Z"
    },
    "id": "MjhEIQw1OpVS",
    "outputId": "cb076ffe-25e9-4a69-844e-da42737671d7",
    "papermill": {
     "duration": 1648.550266,
     "end_time": "2024-12-31T15:28:08.381968",
     "exception": false,
     "start_time": "2024-12-31T15:00:39.831702",
     "status": "completed"
    },
    "tags": []
   },
   "outputs": [
    {
     "name": "stdout",
     "output_type": "stream",
     "text": [
      "-----------------------------------------------------------\n",
      "| End of epoch   1 | Time: 28.97s | Train Accuracy    0.275 | Train Loss    1.819 | Valid Accuracy    0.292 | Valid Loss    1.580 \n",
      "-----------------------------------------------------------\n",
      "-----------------------------------------------------------\n",
      "| End of epoch   2 | Time: 17.03s | Train Accuracy    0.342 | Train Loss    1.499 | Valid Accuracy    0.346 | Valid Loss    1.432 \n",
      "-----------------------------------------------------------\n",
      "-----------------------------------------------------------\n",
      "| End of epoch   3 | Time: 16.50s | Train Accuracy    0.377 | Train Loss    1.391 | Valid Accuracy    0.417 | Valid Loss    1.324 \n",
      "-----------------------------------------------------------\n",
      "-----------------------------------------------------------\n",
      "| End of epoch   4 | Time: 16.44s | Train Accuracy    0.413 | Train Loss    1.332 | Valid Accuracy    0.436 | Valid Loss    1.256 \n",
      "-----------------------------------------------------------\n",
      "-----------------------------------------------------------\n",
      "| End of epoch   5 | Time: 15.59s | Train Accuracy    0.431 | Train Loss    1.291 | Valid Accuracy    0.482 | Valid Loss    1.204 \n",
      "-----------------------------------------------------------\n",
      "-----------------------------------------------------------\n",
      "| End of epoch   6 | Time: 16.71s | Train Accuracy    0.446 | Train Loss    1.251 | Valid Accuracy    0.531 | Valid Loss    1.163 \n",
      "-----------------------------------------------------------\n",
      "-----------------------------------------------------------\n",
      "| End of epoch   7 | Time: 16.07s | Train Accuracy    0.466 | Train Loss    1.227 | Valid Accuracy    0.520 | Valid Loss    1.152 \n",
      "-----------------------------------------------------------\n",
      "-----------------------------------------------------------\n",
      "| End of epoch   8 | Time: 15.79s | Train Accuracy    0.477 | Train Loss    1.195 | Valid Accuracy    0.529 | Valid Loss    1.128 \n",
      "-----------------------------------------------------------\n",
      "-----------------------------------------------------------\n",
      "| End of epoch   9 | Time: 15.82s | Train Accuracy    0.504 | Train Loss    1.161 | Valid Accuracy    0.531 | Valid Loss    1.078 \n",
      "-----------------------------------------------------------\n",
      "-----------------------------------------------------------\n",
      "| End of epoch  10 | Time: 16.31s | Train Accuracy    0.522 | Train Loss    1.135 | Valid Accuracy    0.556 | Valid Loss    1.074 \n",
      "-----------------------------------------------------------\n",
      "-----------------------------------------------------------\n",
      "| End of epoch  11 | Time: 15.87s | Train Accuracy    0.545 | Train Loss    1.104 | Valid Accuracy    0.572 | Valid Loss    1.065 \n",
      "-----------------------------------------------------------\n",
      "-----------------------------------------------------------\n",
      "| End of epoch  12 | Time: 16.07s | Train Accuracy    0.563 | Train Loss    1.076 | Valid Accuracy    0.572 | Valid Loss    1.038 \n",
      "-----------------------------------------------------------\n",
      "-----------------------------------------------------------\n",
      "| End of epoch  13 | Time: 16.22s | Train Accuracy    0.569 | Train Loss    1.047 | Valid Accuracy    0.575 | Valid Loss    1.036 \n",
      "-----------------------------------------------------------\n",
      "-----------------------------------------------------------\n",
      "| End of epoch  14 | Time: 16.14s | Train Accuracy    0.588 | Train Loss    1.029 | Valid Accuracy    0.583 | Valid Loss    1.035 \n",
      "-----------------------------------------------------------\n",
      "-----------------------------------------------------------\n",
      "| End of epoch  15 | Time: 16.13s | Train Accuracy    0.586 | Train Loss    1.021 | Valid Accuracy    0.599 | Valid Loss    0.990 \n",
      "-----------------------------------------------------------\n",
      "-----------------------------------------------------------\n",
      "| End of epoch  16 | Time: 16.15s | Train Accuracy    0.595 | Train Loss    0.995 | Valid Accuracy    0.572 | Valid Loss    1.002 \n",
      "-----------------------------------------------------------\n",
      "-----------------------------------------------------------\n",
      "| End of epoch  17 | Time: 16.94s | Train Accuracy    0.602 | Train Loss    0.983 | Valid Accuracy    0.567 | Valid Loss    1.028 \n",
      "-----------------------------------------------------------\n",
      "-----------------------------------------------------------\n",
      "| End of epoch  18 | Time: 16.19s | Train Accuracy    0.618 | Train Loss    0.952 | Valid Accuracy    0.610 | Valid Loss    0.973 \n",
      "-----------------------------------------------------------\n",
      "-----------------------------------------------------------\n",
      "| End of epoch  19 | Time: 16.30s | Train Accuracy    0.637 | Train Loss    0.928 | Valid Accuracy    0.624 | Valid Loss    0.972 \n",
      "-----------------------------------------------------------\n",
      "-----------------------------------------------------------\n",
      "| End of epoch  20 | Time: 15.96s | Train Accuracy    0.657 | Train Loss    0.889 | Valid Accuracy    0.621 | Valid Loss    1.021 \n",
      "-----------------------------------------------------------\n",
      "-----------------------------------------------------------\n",
      "| End of epoch  21 | Time: 16.98s | Train Accuracy    0.655 | Train Loss    0.879 | Valid Accuracy    0.632 | Valid Loss    0.957 \n",
      "-----------------------------------------------------------\n",
      "-----------------------------------------------------------\n",
      "| End of epoch  22 | Time: 16.25s | Train Accuracy    0.660 | Train Loss    0.864 | Valid Accuracy    0.624 | Valid Loss    0.959 \n",
      "-----------------------------------------------------------\n",
      "-----------------------------------------------------------\n",
      "| End of epoch  23 | Time: 16.29s | Train Accuracy    0.674 | Train Loss    0.839 | Valid Accuracy    0.621 | Valid Loss    0.945 \n",
      "-----------------------------------------------------------\n",
      "-----------------------------------------------------------\n",
      "| End of epoch  24 | Time: 16.58s | Train Accuracy    0.684 | Train Loss    0.816 | Valid Accuracy    0.599 | Valid Loss    1.026 \n",
      "-----------------------------------------------------------\n",
      "-----------------------------------------------------------\n",
      "| End of epoch  25 | Time: 16.75s | Train Accuracy    0.688 | Train Loss    0.804 | Valid Accuracy    0.608 | Valid Loss    0.997 \n",
      "-----------------------------------------------------------\n",
      "-----------------------------------------------------------\n",
      "| End of epoch  26 | Time: 16.14s | Train Accuracy    0.707 | Train Loss    0.771 | Valid Accuracy    0.643 | Valid Loss    0.920 \n",
      "-----------------------------------------------------------\n",
      "-----------------------------------------------------------\n",
      "| End of epoch  27 | Time: 16.55s | Train Accuracy    0.716 | Train Loss    0.759 | Valid Accuracy    0.594 | Valid Loss    0.969 \n",
      "-----------------------------------------------------------\n",
      "-----------------------------------------------------------\n",
      "| End of epoch  28 | Time: 16.53s | Train Accuracy    0.721 | Train Loss    0.719 | Valid Accuracy    0.632 | Valid Loss    0.938 \n",
      "-----------------------------------------------------------\n",
      "-----------------------------------------------------------\n",
      "| End of epoch  29 | Time: 16.88s | Train Accuracy    0.734 | Train Loss    0.700 | Valid Accuracy    0.635 | Valid Loss    0.963 \n",
      "-----------------------------------------------------------\n",
      "-----------------------------------------------------------\n",
      "| End of epoch  30 | Time: 16.34s | Train Accuracy    0.745 | Train Loss    0.672 | Valid Accuracy    0.649 | Valid Loss    0.942 \n",
      "-----------------------------------------------------------\n",
      "-----------------------------------------------------------\n",
      "| End of epoch  31 | Time: 16.38s | Train Accuracy    0.759 | Train Loss    0.655 | Valid Accuracy    0.676 | Valid Loss    0.945 \n",
      "-----------------------------------------------------------\n",
      "-----------------------------------------------------------\n",
      "| End of epoch  32 | Time: 16.39s | Train Accuracy    0.771 | Train Loss    0.631 | Valid Accuracy    0.619 | Valid Loss    1.044 \n",
      "-----------------------------------------------------------\n",
      "-----------------------------------------------------------\n",
      "| End of epoch  33 | Time: 16.10s | Train Accuracy    0.771 | Train Loss    0.618 | Valid Accuracy    0.621 | Valid Loss    0.956 \n",
      "-----------------------------------------------------------\n",
      "-----------------------------------------------------------\n",
      "| End of epoch  34 | Time: 16.27s | Train Accuracy    0.760 | Train Loss    0.619 | Valid Accuracy    0.624 | Valid Loss    1.095 \n",
      "-----------------------------------------------------------\n",
      "-----------------------------------------------------------\n",
      "| End of epoch  35 | Time: 16.66s | Train Accuracy    0.768 | Train Loss    0.626 | Valid Accuracy    0.613 | Valid Loss    1.056 \n",
      "-----------------------------------------------------------\n",
      "-----------------------------------------------------------\n",
      "| End of epoch  36 | Time: 16.56s | Train Accuracy    0.779 | Train Loss    0.580 | Valid Accuracy    0.624 | Valid Loss    1.030 \n",
      "-----------------------------------------------------------\n",
      "-----------------------------------------------------------\n",
      "| End of epoch  37 | Time: 16.21s | Train Accuracy    0.798 | Train Loss    0.557 | Valid Accuracy    0.624 | Valid Loss    0.973 \n",
      "-----------------------------------------------------------\n",
      "-----------------------------------------------------------\n",
      "| End of epoch  38 | Time: 16.14s | Train Accuracy    0.793 | Train Loss    0.544 | Valid Accuracy    0.640 | Valid Loss    1.069 \n",
      "-----------------------------------------------------------\n",
      "-----------------------------------------------------------\n",
      "| End of epoch  39 | Time: 16.66s | Train Accuracy    0.818 | Train Loss    0.497 | Valid Accuracy    0.632 | Valid Loss    1.037 \n",
      "-----------------------------------------------------------\n",
      "-----------------------------------------------------------\n",
      "| End of epoch  40 | Time: 16.52s | Train Accuracy    0.829 | Train Loss    0.479 | Valid Accuracy    0.657 | Valid Loss    1.058 \n",
      "-----------------------------------------------------------\n",
      "-----------------------------------------------------------\n",
      "| End of epoch  41 | Time: 16.26s | Train Accuracy    0.829 | Train Loss    0.475 | Valid Accuracy    0.638 | Valid Loss    1.225 \n",
      "-----------------------------------------------------------\n",
      "-----------------------------------------------------------\n",
      "| End of epoch  42 | Time: 16.41s | Train Accuracy    0.826 | Train Loss    0.472 | Valid Accuracy    0.591 | Valid Loss    1.239 \n",
      "-----------------------------------------------------------\n",
      "-----------------------------------------------------------\n",
      "| End of epoch  43 | Time: 16.45s | Train Accuracy    0.825 | Train Loss    0.467 | Valid Accuracy    0.613 | Valid Loss    1.209 \n",
      "-----------------------------------------------------------\n",
      "-----------------------------------------------------------\n",
      "| End of epoch  44 | Time: 16.33s | Train Accuracy    0.844 | Train Loss    0.432 | Valid Accuracy    0.654 | Valid Loss    1.187 \n",
      "-----------------------------------------------------------\n",
      "-----------------------------------------------------------\n",
      "| End of epoch  45 | Time: 16.19s | Train Accuracy    0.846 | Train Loss    0.434 | Valid Accuracy    0.643 | Valid Loss    1.167 \n",
      "-----------------------------------------------------------\n",
      "-----------------------------------------------------------\n",
      "| End of epoch  46 | Time: 16.82s | Train Accuracy    0.861 | Train Loss    0.395 | Valid Accuracy    0.589 | Valid Loss    1.368 \n",
      "-----------------------------------------------------------\n",
      "-----------------------------------------------------------\n",
      "| End of epoch  47 | Time: 16.42s | Train Accuracy    0.848 | Train Loss    0.411 | Valid Accuracy    0.621 | Valid Loss    1.201 \n",
      "-----------------------------------------------------------\n",
      "-----------------------------------------------------------\n",
      "| End of epoch  48 | Time: 16.40s | Train Accuracy    0.856 | Train Loss    0.385 | Valid Accuracy    0.662 | Valid Loss    1.213 \n",
      "-----------------------------------------------------------\n",
      "-----------------------------------------------------------\n",
      "| End of epoch  49 | Time: 16.32s | Train Accuracy    0.875 | Train Loss    0.351 | Valid Accuracy    0.629 | Valid Loss    1.251 \n",
      "-----------------------------------------------------------\n",
      "-----------------------------------------------------------\n",
      "| End of epoch  50 | Time: 17.14s | Train Accuracy    0.884 | Train Loss    0.333 | Valid Accuracy    0.608 | Valid Loss    1.341 \n",
      "-----------------------------------------------------------\n",
      "-----------------------------------------------------------\n",
      "| End of epoch  51 | Time: 16.34s | Train Accuracy    0.891 | Train Loss    0.312 | Valid Accuracy    0.608 | Valid Loss    1.395 \n",
      "-----------------------------------------------------------\n",
      "-----------------------------------------------------------\n",
      "| End of epoch  52 | Time: 16.61s | Train Accuracy    0.886 | Train Loss    0.317 | Valid Accuracy    0.624 | Valid Loss    1.457 \n",
      "-----------------------------------------------------------\n",
      "-----------------------------------------------------------\n",
      "| End of epoch  53 | Time: 16.34s | Train Accuracy    0.893 | Train Loss    0.312 | Valid Accuracy    0.619 | Valid Loss    1.407 \n",
      "-----------------------------------------------------------\n",
      "-----------------------------------------------------------\n",
      "| End of epoch  54 | Time: 16.46s | Train Accuracy    0.896 | Train Loss    0.293 | Valid Accuracy    0.624 | Valid Loss    1.397 \n",
      "-----------------------------------------------------------\n",
      "-----------------------------------------------------------\n",
      "| End of epoch  55 | Time: 16.27s | Train Accuracy    0.919 | Train Loss    0.252 | Valid Accuracy    0.621 | Valid Loss    1.390 \n",
      "-----------------------------------------------------------\n",
      "-----------------------------------------------------------\n",
      "| End of epoch  56 | Time: 16.58s | Train Accuracy    0.923 | Train Loss    0.244 | Valid Accuracy    0.632 | Valid Loss    1.475 \n",
      "-----------------------------------------------------------\n",
      "-----------------------------------------------------------\n",
      "| End of epoch  57 | Time: 16.27s | Train Accuracy    0.928 | Train Loss    0.216 | Valid Accuracy    0.619 | Valid Loss    1.531 \n",
      "-----------------------------------------------------------\n",
      "-----------------------------------------------------------\n",
      "| End of epoch  58 | Time: 16.50s | Train Accuracy    0.928 | Train Loss    0.215 | Valid Accuracy    0.616 | Valid Loss    1.569 \n",
      "-----------------------------------------------------------\n",
      "-----------------------------------------------------------\n",
      "| End of epoch  59 | Time: 16.04s | Train Accuracy    0.924 | Train Loss    0.221 | Valid Accuracy    0.619 | Valid Loss    1.590 \n",
      "-----------------------------------------------------------\n",
      "-----------------------------------------------------------\n",
      "| End of epoch  60 | Time: 16.32s | Train Accuracy    0.939 | Train Loss    0.181 | Valid Accuracy    0.619 | Valid Loss    1.639 \n",
      "-----------------------------------------------------------\n",
      "-----------------------------------------------------------\n",
      "| End of epoch  61 | Time: 16.36s | Train Accuracy    0.942 | Train Loss    0.170 | Valid Accuracy    0.602 | Valid Loss    1.688 \n",
      "-----------------------------------------------------------\n",
      "-----------------------------------------------------------\n",
      "| End of epoch  62 | Time: 16.63s | Train Accuracy    0.955 | Train Loss    0.147 | Valid Accuracy    0.621 | Valid Loss    1.692 \n",
      "-----------------------------------------------------------\n",
      "-----------------------------------------------------------\n",
      "| End of epoch  63 | Time: 16.19s | Train Accuracy    0.956 | Train Loss    0.138 | Valid Accuracy    0.627 | Valid Loss    1.721 \n",
      "-----------------------------------------------------------\n",
      "-----------------------------------------------------------\n",
      "| End of epoch  64 | Time: 16.39s | Train Accuracy    0.940 | Train Loss    0.166 | Valid Accuracy    0.605 | Valid Loss    1.887 \n",
      "-----------------------------------------------------------\n",
      "-----------------------------------------------------------\n",
      "| End of epoch  65 | Time: 16.96s | Train Accuracy    0.941 | Train Loss    0.164 | Valid Accuracy    0.619 | Valid Loss    1.858 \n",
      "-----------------------------------------------------------\n",
      "-----------------------------------------------------------\n",
      "| End of epoch  66 | Time: 16.44s | Train Accuracy    0.940 | Train Loss    0.179 | Valid Accuracy    0.599 | Valid Loss    1.951 \n",
      "-----------------------------------------------------------\n",
      "-----------------------------------------------------------\n",
      "| End of epoch  67 | Time: 16.78s | Train Accuracy    0.952 | Train Loss    0.153 | Valid Accuracy    0.610 | Valid Loss    1.985 \n",
      "-----------------------------------------------------------\n",
      "-----------------------------------------------------------\n",
      "| End of epoch  68 | Time: 16.53s | Train Accuracy    0.953 | Train Loss    0.146 | Valid Accuracy    0.621 | Valid Loss    1.811 \n",
      "-----------------------------------------------------------\n",
      "-----------------------------------------------------------\n",
      "| End of epoch  69 | Time: 16.88s | Train Accuracy    0.953 | Train Loss    0.140 | Valid Accuracy    0.610 | Valid Loss    1.903 \n",
      "-----------------------------------------------------------\n",
      "-----------------------------------------------------------\n",
      "| End of epoch  70 | Time: 16.20s | Train Accuracy    0.952 | Train Loss    0.142 | Valid Accuracy    0.597 | Valid Loss    1.937 \n",
      "-----------------------------------------------------------\n",
      "-----------------------------------------------------------\n",
      "| End of epoch  71 | Time: 16.28s | Train Accuracy    0.947 | Train Loss    0.150 | Valid Accuracy    0.616 | Valid Loss    2.109 \n",
      "-----------------------------------------------------------\n",
      "-----------------------------------------------------------\n",
      "| End of epoch  72 | Time: 16.34s | Train Accuracy    0.949 | Train Loss    0.152 | Valid Accuracy    0.586 | Valid Loss    2.144 \n",
      "-----------------------------------------------------------\n",
      "-----------------------------------------------------------\n",
      "| End of epoch  73 | Time: 16.27s | Train Accuracy    0.945 | Train Loss    0.165 | Valid Accuracy    0.616 | Valid Loss    2.002 \n",
      "-----------------------------------------------------------\n",
      "-----------------------------------------------------------\n",
      "| End of epoch  74 | Time: 16.08s | Train Accuracy    0.945 | Train Loss    0.161 | Valid Accuracy    0.597 | Valid Loss    2.231 \n",
      "-----------------------------------------------------------\n",
      "-----------------------------------------------------------\n",
      "| End of epoch  75 | Time: 16.74s | Train Accuracy    0.962 | Train Loss    0.119 | Valid Accuracy    0.621 | Valid Loss    2.176 \n",
      "-----------------------------------------------------------\n",
      "-----------------------------------------------------------\n",
      "| End of epoch  76 | Time: 16.39s | Train Accuracy    0.963 | Train Loss    0.106 | Valid Accuracy    0.635 | Valid Loss    1.965 \n",
      "-----------------------------------------------------------\n",
      "-----------------------------------------------------------\n",
      "| End of epoch  77 | Time: 16.31s | Train Accuracy    0.970 | Train Loss    0.099 | Valid Accuracy    0.624 | Valid Loss    2.088 \n",
      "-----------------------------------------------------------\n",
      "-----------------------------------------------------------\n",
      "| End of epoch  78 | Time: 16.01s | Train Accuracy    0.968 | Train Loss    0.100 | Valid Accuracy    0.624 | Valid Loss    2.059 \n",
      "-----------------------------------------------------------\n",
      "-----------------------------------------------------------\n",
      "| End of epoch  79 | Time: 16.74s | Train Accuracy    0.976 | Train Loss    0.083 | Valid Accuracy    0.635 | Valid Loss    2.103 \n",
      "-----------------------------------------------------------\n",
      "-----------------------------------------------------------\n",
      "| End of epoch  80 | Time: 16.21s | Train Accuracy    0.974 | Train Loss    0.082 | Valid Accuracy    0.608 | Valid Loss    2.196 \n",
      "-----------------------------------------------------------\n",
      "-----------------------------------------------------------\n",
      "| End of epoch  81 | Time: 16.15s | Train Accuracy    0.974 | Train Loss    0.086 | Valid Accuracy    0.616 | Valid Loss    2.189 \n",
      "-----------------------------------------------------------\n",
      "-----------------------------------------------------------\n",
      "| End of epoch  82 | Time: 16.09s | Train Accuracy    0.979 | Train Loss    0.065 | Valid Accuracy    0.613 | Valid Loss    2.225 \n",
      "-----------------------------------------------------------\n",
      "-----------------------------------------------------------\n",
      "| End of epoch  83 | Time: 16.64s | Train Accuracy    0.981 | Train Loss    0.058 | Valid Accuracy    0.599 | Valid Loss    2.311 \n",
      "-----------------------------------------------------------\n",
      "-----------------------------------------------------------\n",
      "| End of epoch  84 | Time: 15.92s | Train Accuracy    0.984 | Train Loss    0.050 | Valid Accuracy    0.624 | Valid Loss    2.293 \n",
      "-----------------------------------------------------------\n",
      "-----------------------------------------------------------\n",
      "| End of epoch  85 | Time: 16.08s | Train Accuracy    0.982 | Train Loss    0.060 | Valid Accuracy    0.616 | Valid Loss    2.515 \n",
      "-----------------------------------------------------------\n",
      "-----------------------------------------------------------\n",
      "| End of epoch  86 | Time: 16.22s | Train Accuracy    0.975 | Train Loss    0.069 | Valid Accuracy    0.621 | Valid Loss    2.567 \n",
      "-----------------------------------------------------------\n",
      "-----------------------------------------------------------\n",
      "| End of epoch  87 | Time: 16.43s | Train Accuracy    0.975 | Train Loss    0.072 | Valid Accuracy    0.575 | Valid Loss    2.474 \n",
      "-----------------------------------------------------------\n",
      "-----------------------------------------------------------\n",
      "| End of epoch  88 | Time: 16.02s | Train Accuracy    0.978 | Train Loss    0.063 | Valid Accuracy    0.599 | Valid Loss    2.402 \n",
      "-----------------------------------------------------------\n",
      "-----------------------------------------------------------\n",
      "| End of epoch  89 | Time: 16.04s | Train Accuracy    0.986 | Train Loss    0.052 | Valid Accuracy    0.608 | Valid Loss    2.487 \n",
      "-----------------------------------------------------------\n",
      "-----------------------------------------------------------\n",
      "| End of epoch  90 | Time: 16.23s | Train Accuracy    0.987 | Train Loss    0.045 | Valid Accuracy    0.599 | Valid Loss    2.403 \n",
      "-----------------------------------------------------------\n",
      "-----------------------------------------------------------\n",
      "| End of epoch  91 | Time: 16.58s | Train Accuracy    0.993 | Train Loss    0.030 | Valid Accuracy    0.638 | Valid Loss    2.399 \n",
      "-----------------------------------------------------------\n",
      "-----------------------------------------------------------\n",
      "| End of epoch  92 | Time: 15.92s | Train Accuracy    0.989 | Train Loss    0.035 | Valid Accuracy    0.619 | Valid Loss    2.612 \n",
      "-----------------------------------------------------------\n",
      "-----------------------------------------------------------\n",
      "| End of epoch  93 | Time: 16.10s | Train Accuracy    0.994 | Train Loss    0.028 | Valid Accuracy    0.616 | Valid Loss    2.510 \n",
      "-----------------------------------------------------------\n",
      "-----------------------------------------------------------\n",
      "| End of epoch  94 | Time: 16.38s | Train Accuracy    0.997 | Train Loss    0.020 | Valid Accuracy    0.640 | Valid Loss    2.499 \n",
      "-----------------------------------------------------------\n",
      "-----------------------------------------------------------\n",
      "| End of epoch  95 | Time: 16.37s | Train Accuracy    0.995 | Train Loss    0.021 | Valid Accuracy    0.605 | Valid Loss    2.680 \n",
      "-----------------------------------------------------------\n",
      "-----------------------------------------------------------\n",
      "| End of epoch  96 | Time: 16.06s | Train Accuracy    0.995 | Train Loss    0.023 | Valid Accuracy    0.608 | Valid Loss    2.606 \n",
      "-----------------------------------------------------------\n",
      "-----------------------------------------------------------\n",
      "| End of epoch  97 | Time: 16.51s | Train Accuracy    0.995 | Train Loss    0.021 | Valid Accuracy    0.602 | Valid Loss    2.682 \n",
      "-----------------------------------------------------------\n",
      "-----------------------------------------------------------\n",
      "| End of epoch  98 | Time: 16.80s | Train Accuracy    0.997 | Train Loss    0.018 | Valid Accuracy    0.608 | Valid Loss    2.714 \n",
      "-----------------------------------------------------------\n",
      "-----------------------------------------------------------\n",
      "| End of epoch  99 | Time: 16.15s | Train Accuracy    0.995 | Train Loss    0.019 | Valid Accuracy    0.610 | Valid Loss    2.793 \n",
      "-----------------------------------------------------------\n",
      "-----------------------------------------------------------\n",
      "| End of epoch 100 | Time: 16.19s | Train Accuracy    0.997 | Train Loss    0.017 | Valid Accuracy    0.629 | Valid Loss    2.712 \n",
      "-----------------------------------------------------------\n"
     ]
    }
   ],
   "source": [
    "image_size=224\n",
    "embed_dim = 512\n",
    "num_heads = 4\n",
    "ff_dim = 128\n",
    "dropout=0.1\n",
    "\n",
    "device = torch.device('cuda' if torch.cuda.is_available() else 'cpu')\n",
    "model = VisionTransformerCls(\n",
    "    image_size=224, embed_dim=512, num_heads=num_heads, ff_dim=ff_dim, dropout=dropout, num_classes=num_classes, device=device\n",
    ")\n",
    "model.to(device)\n",
    "\n",
    "criterion = torch.nn.CrossEntropyLoss()\n",
    "optimizer = optim.Adam(model.parameters(), lr=0.0005)\n",
    "\n",
    "num_epochs = 100\n",
    "save_model = './vit_flowers'\n",
    "os.makedirs(save_model, exist_ok = True)\n",
    "model_name = 'vit_flowers'\n",
    "\n",
    "model, metrics = train(\n",
    "    model, model_name, save_model, optimizer, criterion, train_loader, val_loader, num_epochs, device\n",
    ")"
   ]
  },
  {
   "cell_type": "code",
   "execution_count": 26,
   "id": "5dc9a405",
   "metadata": {
    "execution": {
     "iopub.execute_input": "2024-12-31T15:28:08.414921Z",
     "iopub.status.busy": "2024-12-31T15:28:08.414650Z",
     "iopub.status.idle": "2024-12-31T15:28:08.836094Z",
     "shell.execute_reply": "2024-12-31T15:28:08.835348Z"
    },
    "id": "8zsf6llWuvWT",
    "outputId": "349f8f47-bc5a-4ae1-907d-468915952f85",
    "papermill": {
     "duration": 0.439603,
     "end_time": "2024-12-31T15:28:08.837763",
     "exception": false,
     "start_time": "2024-12-31T15:28:08.398160",
     "status": "completed"
    },
    "tags": []
   },
   "outputs": [
    {
     "data": {
      "image/png": "[encoded data removed]",
      "text/plain": [
       "<Figure size 1200x600 with 2 Axes>"
      ]
     },
     "metadata": {},
     "output_type": "display_data"
    }
   ],
   "source": [
    "import matplotlib.pyplot as plt\n",
    "\n",
    "def plot_result(num_epochs, train_accs, eval_accs, train_losses, eval_losses):\n",
    "    epochs = list(range(num_epochs))\n",
    "    fig, axs = plt.subplots(nrows = 1, ncols =2 , figsize = (12,6))\n",
    "    axs[0].plot(epochs, train_accs, label = \"Training\")\n",
    "    axs[0].plot(epochs, eval_accs, label = \"Evaluation\")\n",
    "    axs[1].plot(epochs, train_losses, label = \"Training\")\n",
    "    axs[1].plot(epochs, eval_losses, label = \"Evaluation\")\n",
    "    axs[0].set_xlabel(\"Epochs\")\n",
    "    axs[1].set_xlabel(\"Epochs\")\n",
    "    axs[0].set_ylabel(\"Accuracy\")\n",
    "    axs[1].set_ylabel(\"Loss\")\n",
    "    plt.legend()\n",
    "\n",
    "plot_result(\n",
    "    num_epochs,\n",
    "    metrics[\"train_accuracy\"],\n",
    "    metrics[\"valid_accuracy\"],\n",
    "    metrics[\"train_loss\"],\n",
    "    metrics[\"valid_loss\"]\n",
    ")"
   ]
  },
  {
   "cell_type": "code",
   "execution_count": 27,
   "id": "6f4a37a7",
   "metadata": {
    "execution": {
     "iopub.execute_input": "2024-12-31T15:28:08.873289Z",
     "iopub.status.busy": "2024-12-31T15:28:08.873024Z",
     "iopub.status.idle": "2024-12-31T15:28:12.480137Z",
     "shell.execute_reply": "2024-12-31T15:28:12.479346Z"
    },
    "id": "V1kVbSOwuuRa",
    "outputId": "12d6d008-5fea-441c-e33a-d100baf8fd36",
    "papermill": {
     "duration": 3.625874,
     "end_time": "2024-12-31T15:28:12.481450",
     "exception": false,
     "start_time": "2024-12-31T15:28:08.855576",
     "status": "completed"
    },
    "tags": []
   },
   "outputs": [
    {
     "data": {
      "text/plain": [
       "(0.6321525885558583, 2.7153289318084717)"
      ]
     },
     "execution_count": 27,
     "metadata": {},
     "output_type": "execute_result"
    }
   ],
   "source": [
    "test_acc, test_loss = evaluate_epoch(model, criterion, test_loader, device)\n",
    "test_acc, test_loss"
   ]
  },
  {
   "cell_type": "markdown",
   "id": "b221a689",
   "metadata": {
    "id": "QLq0wXM7uxim",
    "papermill": {
     "duration": 0.016707,
     "end_time": "2024-12-31T15:28:12.515915",
     "exception": false,
     "start_time": "2024-12-31T15:28:12.499208",
     "status": "completed"
    },
    "tags": []
   },
   "source": [
    "#**Image Classification Vision Transformer Transfer Learning**"
   ]
  },
  {
   "cell_type": "code",
   "execution_count": 28,
   "id": "ed86a061",
   "metadata": {
    "execution": {
     "iopub.execute_input": "2024-12-31T15:28:12.551142Z",
     "iopub.status.busy": "2024-12-31T15:28:12.550845Z",
     "iopub.status.idle": "2024-12-31T15:28:18.156326Z",
     "shell.execute_reply": "2024-12-31T15:28:18.155324Z"
    },
    "id": "IC_QK0t9dbB_",
    "outputId": "61b9b252-1a1e-432d-946e-d77ee96514a4",
    "papermill": {
     "duration": 5.624536,
     "end_time": "2024-12-31T15:28:18.158015",
     "exception": false,
     "start_time": "2024-12-31T15:28:12.533479",
     "status": "completed"
    },
    "tags": []
   },
   "outputs": [
    {
     "name": "stdout",
     "output_type": "stream",
     "text": [
      "\u001b[2K   \u001b[90m━━━━━━━━━━━━━━━━━━━━━━━━━━━━━━━━━━━━━━━━\u001b[0m \u001b[32m84.0/84.0 kB\u001b[0m \u001b[31m2.6 MB/s\u001b[0m eta \u001b[36m0:00:00\u001b[0m\r\n",
      "\u001b[?25h"
     ]
    }
   ],
   "source": [
    "!pip install -q datasets accelerate evaluate"
   ]
  },
  {
   "cell_type": "markdown",
   "id": "347dd03e",
   "metadata": {
    "id": "7_4vYt5Ifrjj",
    "papermill": {
     "duration": 0.017469,
     "end_time": "2024-12-31T15:28:18.193421",
     "exception": false,
     "start_time": "2024-12-31T15:28:18.175952",
     "status": "completed"
    },
    "tags": []
   },
   "source": [
    "### **Modeling**"
   ]
  },
  {
   "cell_type": "code",
   "execution_count": 29,
   "id": "0fe029d9",
   "metadata": {
    "execution": {
     "iopub.execute_input": "2024-12-31T15:28:18.228332Z",
     "iopub.status.busy": "2024-12-31T15:28:18.228021Z",
     "iopub.status.idle": "2024-12-31T15:28:21.896724Z",
     "shell.execute_reply": "2024-12-31T15:28:21.896024Z"
    },
    "id": "lNISzB0IP2aN",
    "outputId": "74a7ec89-4be2-4d8f-c9b6-3da98e7c5e40",
    "papermill": {
     "duration": 3.68781,
     "end_time": "2024-12-31T15:28:21.898090",
     "exception": false,
     "start_time": "2024-12-31T15:28:18.210280",
     "status": "completed"
    },
    "tags": []
   },
   "outputs": [
    {
     "data": {
      "application/vnd.jupyter.widget-view+json": {
       "model_id": "01c15e7d8049486abd40baf0b474bf73",
       "version_major": 2,
       "version_minor": 0
      },
      "text/plain": [
       "config.json:   0%|          | 0.00/502 [00:00<?, ?B/s]"
      ]
     },
     "metadata": {},
     "output_type": "display_data"
    },
    {
     "data": {
      "application/vnd.jupyter.widget-view+json": {
       "model_id": "d0072e6fb09e4d5998c14e2c259a0988",
       "version_major": 2,
       "version_minor": 0
      },
      "text/plain": [
       "model.safetensors:   0%|          | 0.00/346M [00:00<?, ?B/s]"
      ]
     },
     "metadata": {},
     "output_type": "display_data"
    },
    {
     "name": "stderr",
     "output_type": "stream",
     "text": [
      "Some weights of ViTForImageClassification were not initialized from the model checkpoint at google/vit-base-patch16-224-in21k and are newly initialized: ['classifier.bias', 'classifier.weight']\n",
      "You should probably TRAIN this model on a down-stream task to be able to use it for predictions and inference.\n"
     ]
    },
    {
     "data": {
      "text/plain": [
       "ViTForImageClassification(\n",
       "  (vit): ViTModel(\n",
       "    (embeddings): ViTEmbeddings(\n",
       "      (patch_embeddings): ViTPatchEmbeddings(\n",
       "        (projection): Conv2d(3, 768, kernel_size=(16, 16), stride=(16, 16))\n",
       "      )\n",
       "      (dropout): Dropout(p=0.0, inplace=False)\n",
       "    )\n",
       "    (encoder): ViTEncoder(\n",
       "      (layer): ModuleList(\n",
       "        (0-11): 12 x ViTLayer(\n",
       "          (attention): ViTSdpaAttention(\n",
       "            (attention): ViTSdpaSelfAttention(\n",
       "              (query): Linear(in_features=768, out_features=768, bias=True)\n",
       "              (key): Linear(in_features=768, out_features=768, bias=True)\n",
       "              (value): Linear(in_features=768, out_features=768, bias=True)\n",
       "              (dropout): Dropout(p=0.0, inplace=False)\n",
       "            )\n",
       "            (output): ViTSelfOutput(\n",
       "              (dense): Linear(in_features=768, out_features=768, bias=True)\n",
       "              (dropout): Dropout(p=0.0, inplace=False)\n",
       "            )\n",
       "          )\n",
       "          (intermediate): ViTIntermediate(\n",
       "            (dense): Linear(in_features=768, out_features=3072, bias=True)\n",
       "            (intermediate_act_fn): GELUActivation()\n",
       "          )\n",
       "          (output): ViTOutput(\n",
       "            (dense): Linear(in_features=3072, out_features=768, bias=True)\n",
       "            (dropout): Dropout(p=0.0, inplace=False)\n",
       "          )\n",
       "          (layernorm_before): LayerNorm((768,), eps=1e-12, elementwise_affine=True)\n",
       "          (layernorm_after): LayerNorm((768,), eps=1e-12, elementwise_affine=True)\n",
       "        )\n",
       "      )\n",
       "    )\n",
       "    (layernorm): LayerNorm((768,), eps=1e-12, elementwise_affine=True)\n",
       "  )\n",
       "  (classifier): Linear(in_features=768, out_features=5, bias=True)\n",
       ")"
      ]
     },
     "execution_count": 29,
     "metadata": {},
     "output_type": "execute_result"
    }
   ],
   "source": [
    "from transformers import ViTForImageClassification\n",
    "\n",
    "id2label = {id:label for id, label in enumerate(classes)}\n",
    "label2id = {label:id for id,label in id2label.items()}\n",
    "\n",
    "model = ViTForImageClassification.from_pretrained(\n",
    "    'google/vit-base-patch16-224-in21k',\n",
    "    num_labels=num_classes,\n",
    "    id2label=id2label,\n",
    "    label2id=label2id\n",
    ")\n",
    "device = torch.device('cuda' if torch.cuda.is_available() else 'cpu')\n",
    "model.to(device)"
   ]
  },
  {
   "cell_type": "markdown",
   "id": "ceb014d9",
   "metadata": {
    "id": "J6OBkjqHj72f",
    "papermill": {
     "duration": 0.017287,
     "end_time": "2024-12-31T15:28:21.933632",
     "exception": false,
     "start_time": "2024-12-31T15:28:21.916345",
     "status": "completed"
    },
    "tags": []
   },
   "source": [
    "### **Metric**"
   ]
  },
  {
   "cell_type": "code",
   "execution_count": 30,
   "id": "e8641b33",
   "metadata": {
    "execution": {
     "iopub.execute_input": "2024-12-31T15:28:21.969253Z",
     "iopub.status.busy": "2024-12-31T15:28:21.968872Z",
     "iopub.status.idle": "2024-12-31T15:28:33.627254Z",
     "shell.execute_reply": "2024-12-31T15:28:33.626609Z"
    },
    "id": "4mqk3uNWeoef",
    "outputId": "4fa05c54-9053-4dd3-813e-70b148dc47e5",
    "papermill": {
     "duration": 11.677426,
     "end_time": "2024-12-31T15:28:33.628600",
     "exception": false,
     "start_time": "2024-12-31T15:28:21.951174",
     "status": "completed"
    },
    "tags": []
   },
   "outputs": [
    {
     "data": {
      "application/vnd.jupyter.widget-view+json": {
       "model_id": "f78538951907424889794f2a4a8229df",
       "version_major": 2,
       "version_minor": 0
      },
      "text/plain": [
       "Downloading builder script:   0%|          | 0.00/4.20k [00:00<?, ?B/s]"
      ]
     },
     "metadata": {},
     "output_type": "display_data"
    }
   ],
   "source": [
    "import numpy as np\n",
    "import evaluate\n",
    "\n",
    "metric = evaluate.load(\"accuracy\")\n",
    "\n",
    "def compute_metrics(eval_pred):\n",
    "    predictions, labels = eval_pred\n",
    "    predictions = np.argmax(predictions, axis=1)\n",
    "    return metric.compute(predictions=predictions, references=labels)"
   ]
  },
  {
   "cell_type": "markdown",
   "id": "77e782ab",
   "metadata": {
    "id": "ceO_4f8tfxtx",
    "papermill": {
     "duration": 0.017278,
     "end_time": "2024-12-31T15:28:33.664498",
     "exception": false,
     "start_time": "2024-12-31T15:28:33.647220",
     "status": "completed"
    },
    "tags": []
   },
   "source": [
    "###**Trainer**"
   ]
  },
  {
   "cell_type": "code",
   "execution_count": 31,
   "id": "945482e2",
   "metadata": {
    "execution": {
     "iopub.execute_input": "2024-12-31T15:28:33.702479Z",
     "iopub.status.busy": "2024-12-31T15:28:33.701997Z",
     "iopub.status.idle": "2024-12-31T15:28:33.836431Z",
     "shell.execute_reply": "2024-12-31T15:28:33.835627Z"
    },
    "id": "xYRsd3hbeu7j",
    "outputId": "104f2ea3-7883-4483-d3e6-00a1138a22e6",
    "papermill": {
     "duration": 0.154163,
     "end_time": "2024-12-31T15:28:33.837636",
     "exception": false,
     "start_time": "2024-12-31T15:28:33.683473",
     "status": "completed"
    },
    "tags": []
   },
   "outputs": [
    {
     "data": {
      "application/vnd.jupyter.widget-view+json": {
       "model_id": "097572fc21a3416ca2a4c50b5190e2ee",
       "version_major": 2,
       "version_minor": 0
      },
      "text/plain": [
       "preprocessor_config.json:   0%|          | 0.00/160 [00:00<?, ?B/s]"
      ]
     },
     "metadata": {},
     "output_type": "display_data"
    }
   ],
   "source": [
    "from transformers import ViTImageProcessor\n",
    "\n",
    "feature_extractor = ViTImageProcessor.from_pretrained(\"google/vit-base-patch16-224-in21k\")"
   ]
  },
  {
   "cell_type": "code",
   "execution_count": 32,
   "id": "c1450cdf",
   "metadata": {
    "execution": {
     "iopub.execute_input": "2024-12-31T15:28:33.874300Z",
     "iopub.status.busy": "2024-12-31T15:28:33.874033Z",
     "iopub.status.idle": "2024-12-31T15:28:34.491530Z",
     "shell.execute_reply": "2024-12-31T15:28:34.490595Z"
    },
    "id": "VG1bI7Tac7kb",
    "outputId": "80802cd0-f99e-4048-d510-11d646bf9c08",
    "papermill": {
     "duration": 0.637329,
     "end_time": "2024-12-31T15:28:34.492951",
     "exception": false,
     "start_time": "2024-12-31T15:28:33.855622",
     "status": "completed"
    },
    "tags": []
   },
   "outputs": [
    {
     "name": "stderr",
     "output_type": "stream",
     "text": [
      "/usr/local/lib/python3.10/dist-packages/transformers/training_args.py:1525: FutureWarning: `evaluation_strategy` is deprecated and will be removed in version 4.46 of 🤗 Transformers. Use `eval_strategy` instead\n",
      "  warnings.warn(\n"
     ]
    }
   ],
   "source": [
    "from transformers import TrainingArguments, Trainer\n",
    "\n",
    "metric_name = \"accuracy\"\n",
    "\n",
    "args = TrainingArguments(\n",
    "    f\"vit_flowers\",\n",
    "    save_strategy=\"epoch\",\n",
    "    evaluation_strategy=\"epoch\",\n",
    "    learning_rate=2e-5,\n",
    "    per_device_train_batch_size=32,\n",
    "    per_device_eval_batch_size=32,\n",
    "    num_train_epochs=10,\n",
    "    weight_decay=0.01,\n",
    "    load_best_model_at_end=True,\n",
    "    metric_for_best_model=metric_name,\n",
    "    logging_dir='logs',\n",
    "    remove_unused_columns=False,\n",
    ")"
   ]
  },
  {
   "cell_type": "code",
   "execution_count": 33,
   "id": "362b5e2d",
   "metadata": {
    "execution": {
     "iopub.execute_input": "2024-12-31T15:28:34.530949Z",
     "iopub.status.busy": "2024-12-31T15:28:34.530692Z",
     "iopub.status.idle": "2024-12-31T15:28:36.454201Z",
     "shell.execute_reply": "2024-12-31T15:28:36.453309Z"
    },
    "id": "KxsyAt5tejgi",
    "outputId": "9de411b0-45a7-4897-b660-aacdc362af1f",
    "papermill": {
     "duration": 1.943735,
     "end_time": "2024-12-31T15:28:36.455845",
     "exception": false,
     "start_time": "2024-12-31T15:28:34.512110",
     "status": "completed"
    },
    "tags": []
   },
   "outputs": [],
   "source": [
    "import torch\n",
    "\n",
    "def collate_fn(examples):\n",
    "    # example => Tuple(image, label)\n",
    "    pixel_values = torch.stack([example[0] for example in examples])\n",
    "    labels = torch.tensor([example[1] for example in examples])\n",
    "    return {\"pixel_values\": pixel_values, \"labels\": labels}\n",
    "\n",
    "\n",
    "trainer = Trainer(\n",
    "    model,\n",
    "    args,\n",
    "    train_dataset=train_dataset,\n",
    "    eval_dataset=valid_dataset,\n",
    "    data_collator=collate_fn,\n",
    "    compute_metrics=compute_metrics,\n",
    "    tokenizer=feature_extractor,\n",
    ")"
   ]
  },
  {
   "cell_type": "markdown",
   "id": "ce4ad906",
   "metadata": {
    "id": "FtLbW5eOf1jc",
    "papermill": {
     "duration": 0.017548,
     "end_time": "2024-12-31T15:28:36.492283",
     "exception": false,
     "start_time": "2024-12-31T15:28:36.474735",
     "status": "completed"
    },
    "tags": []
   },
   "source": [
    "###**Training**"
   ]
  },
  {
   "cell_type": "code",
   "execution_count": 34,
   "id": "c987a8c8",
   "metadata": {
    "execution": {
     "iopub.execute_input": "2024-12-31T15:28:36.528505Z",
     "iopub.status.busy": "2024-12-31T15:28:36.528233Z",
     "iopub.status.idle": "2024-12-31T15:28:36.542823Z",
     "shell.execute_reply": "2024-12-31T15:28:36.542141Z"
    },
    "id": "A8i-lHv01-xh",
    "outputId": "cbd32bc0-9a63-493a-beff-9630a7c7b125",
    "papermill": {
     "duration": 0.034063,
     "end_time": "2024-12-31T15:28:36.544080",
     "exception": false,
     "start_time": "2024-12-31T15:28:36.510017",
     "status": "completed"
    },
    "tags": []
   },
   "outputs": [
    {
     "data": {
      "text/html": [
       "<button onClick=\"this.nextSibling.style.display='block';this.style.display='none';\">Display W&B run</button><iframe src='https://wandb.ai/dummy/dummy/runs/y0mgpoa2?jupyter=true' style='border:none;width:100%;height:420px;display:none;'></iframe>"
      ],
      "text/plain": [
       "<wandb.sdk.wandb_run.Run at 0x77fecddf6740>"
      ]
     },
     "execution_count": 34,
     "metadata": {},
     "output_type": "execute_result"
    }
   ],
   "source": [
    "import wandb\n",
    "wandb.init(mode='disabled')"
   ]
  },
  {
   "cell_type": "code",
   "execution_count": 35,
   "id": "7d0eda62",
   "metadata": {
    "execution": {
     "iopub.execute_input": "2024-12-31T15:28:36.580991Z",
     "iopub.status.busy": "2024-12-31T15:28:36.580778Z",
     "iopub.status.idle": "2024-12-31T15:41:04.432928Z",
     "shell.execute_reply": "2024-12-31T15:41:04.432153Z"
    },
    "id": "TR_F5-zjexI6",
    "outputId": "da0e5a96-c362-4109-9f44-c2f2afb5f334",
    "papermill": {
     "duration": 747.872225,
     "end_time": "2024-12-31T15:41:04.434336",
     "exception": false,
     "start_time": "2024-12-31T15:28:36.562111",
     "status": "completed"
    },
    "tags": []
   },
   "outputs": [
    {
     "name": "stderr",
     "output_type": "stream",
     "text": [
      "\u001b[34m\u001b[1mwandb\u001b[0m: \u001b[33mWARNING\u001b[0m The `run_name` is currently set to the same value as `TrainingArguments.output_dir`. If this was not intended, please specify a different run name by setting the `TrainingArguments.run_name` parameter.\n",
      "/usr/local/lib/python3.10/dist-packages/torch/nn/parallel/_functions.py:68: UserWarning: Was asked to gather along dimension 0, but all input tensors were scalars; will instead unsqueeze and return a vector.\n",
      "  warnings.warn('Was asked to gather along dimension 0, but all '\n"
     ]
    },
    {
     "data": {
      "text/html": [
       "\n",
       "    <div>\n",
       "      \n",
       "      <progress value='460' max='460' style='width:300px; height:20px; vertical-align: middle;'></progress>\n",
       "      [460/460 12:24, Epoch 10/10]\n",
       "    </div>\n",
       "    <table border=\"1\" class=\"dataframe\">\n",
       "  <thead>\n",
       " <tr style=\"text-align: left;\">\n",
       "      <th>Epoch</th>\n",
       "      <th>Training Loss</th>\n",
       "      <th>Validation Loss</th>\n",
       "      <th>Accuracy</th>\n",
       "    </tr>\n",
       "  </thead>\n",
       "  <tbody>\n",
       "    <tr>\n",
       "      <td>1</td>\n",
       "      <td>No log</td>\n",
       "      <td>0.929082</td>\n",
       "      <td>0.942779</td>\n",
       "    </tr>\n",
       "    <tr>\n",
       "      <td>2</td>\n",
       "      <td>No log</td>\n",
       "      <td>0.465102</td>\n",
       "      <td>0.961853</td>\n",
       "    </tr>\n",
       "    <tr>\n",
       "      <td>3</td>\n",
       "      <td>No log</td>\n",
       "      <td>0.298576</td>\n",
       "      <td>0.972752</td>\n",
       "    </tr>\n",
       "    <tr>\n",
       "      <td>4</td>\n",
       "      <td>No log</td>\n",
       "      <td>0.236216</td>\n",
       "      <td>0.970027</td>\n",
       "    </tr>\n",
       "    <tr>\n",
       "      <td>5</td>\n",
       "      <td>No log</td>\n",
       "      <td>0.211627</td>\n",
       "      <td>0.967302</td>\n",
       "    </tr>\n",
       "    <tr>\n",
       "      <td>6</td>\n",
       "      <td>No log</td>\n",
       "      <td>0.193294</td>\n",
       "      <td>0.970027</td>\n",
       "    </tr>\n",
       "    <tr>\n",
       "      <td>7</td>\n",
       "      <td>No log</td>\n",
       "      <td>0.185677</td>\n",
       "      <td>0.967302</td>\n",
       "    </tr>\n",
       "    <tr>\n",
       "      <td>8</td>\n",
       "      <td>No log</td>\n",
       "      <td>0.180292</td>\n",
       "      <td>0.961853</td>\n",
       "    </tr>\n",
       "    <tr>\n",
       "      <td>9</td>\n",
       "      <td>No log</td>\n",
       "      <td>0.177396</td>\n",
       "      <td>0.964578</td>\n",
       "    </tr>\n",
       "    <tr>\n",
       "      <td>10</td>\n",
       "      <td>No log</td>\n",
       "      <td>0.176434</td>\n",
       "      <td>0.964578</td>\n",
       "    </tr>\n",
       "  </tbody>\n",
       "</table><p>"
      ],
      "text/plain": [
       "<IPython.core.display.HTML object>"
      ]
     },
     "metadata": {},
     "output_type": "display_data"
    },
    {
     "name": "stderr",
     "output_type": "stream",
     "text": [
      "/usr/local/lib/python3.10/dist-packages/torch/nn/parallel/_functions.py:68: UserWarning: Was asked to gather along dimension 0, but all input tensors were scalars; will instead unsqueeze and return a vector.\n",
      "  warnings.warn('Was asked to gather along dimension 0, but all '\n",
      "/usr/local/lib/python3.10/dist-packages/torch/nn/parallel/_functions.py:68: UserWarning: Was asked to gather along dimension 0, but all input tensors were scalars; will instead unsqueeze and return a vector.\n",
      "  warnings.warn('Was asked to gather along dimension 0, but all '\n",
      "/usr/local/lib/python3.10/dist-packages/torch/nn/parallel/_functions.py:68: UserWarning: Was asked to gather along dimension 0, but all input tensors were scalars; will instead unsqueeze and return a vector.\n",
      "  warnings.warn('Was asked to gather along dimension 0, but all '\n",
      "/usr/local/lib/python3.10/dist-packages/torch/nn/parallel/_functions.py:68: UserWarning: Was asked to gather along dimension 0, but all input tensors were scalars; will instead unsqueeze and return a vector.\n",
      "  warnings.warn('Was asked to gather along dimension 0, but all '\n",
      "/usr/local/lib/python3.10/dist-packages/torch/nn/parallel/_functions.py:68: UserWarning: Was asked to gather along dimension 0, but all input tensors were scalars; will instead unsqueeze and return a vector.\n",
      "  warnings.warn('Was asked to gather along dimension 0, but all '\n",
      "/usr/local/lib/python3.10/dist-packages/torch/nn/parallel/_functions.py:68: UserWarning: Was asked to gather along dimension 0, but all input tensors were scalars; will instead unsqueeze and return a vector.\n",
      "  warnings.warn('Was asked to gather along dimension 0, but all '\n",
      "/usr/local/lib/python3.10/dist-packages/torch/nn/parallel/_functions.py:68: UserWarning: Was asked to gather along dimension 0, but all input tensors were scalars; will instead unsqueeze and return a vector.\n",
      "  warnings.warn('Was asked to gather along dimension 0, but all '\n",
      "/usr/local/lib/python3.10/dist-packages/torch/nn/parallel/_functions.py:68: UserWarning: Was asked to gather along dimension 0, but all input tensors were scalars; will instead unsqueeze and return a vector.\n",
      "  warnings.warn('Was asked to gather along dimension 0, but all '\n",
      "/usr/local/lib/python3.10/dist-packages/torch/nn/parallel/_functions.py:68: UserWarning: Was asked to gather along dimension 0, but all input tensors were scalars; will instead unsqueeze and return a vector.\n",
      "  warnings.warn('Was asked to gather along dimension 0, but all '\n",
      "/usr/local/lib/python3.10/dist-packages/torch/nn/parallel/_functions.py:68: UserWarning: Was asked to gather along dimension 0, but all input tensors were scalars; will instead unsqueeze and return a vector.\n",
      "  warnings.warn('Was asked to gather along dimension 0, but all '\n"
     ]
    },
    {
     "data": {
      "text/plain": [
       "TrainOutput(global_step=460, training_loss=0.325927502176036, metrics={'train_runtime': 746.942, 'train_samples_per_second': 39.307, 'train_steps_per_second': 0.616, 'total_flos': 2.2752259898322125e+18, 'train_loss': 0.325927502176036, 'epoch': 10.0})"
      ]
     },
     "execution_count": 35,
     "metadata": {},
     "output_type": "execute_result"
    }
   ],
   "source": [
    "trainer.train()"
   ]
  },
  {
   "cell_type": "code",
   "execution_count": 36,
   "id": "e5590f5e",
   "metadata": {
    "execution": {
     "iopub.execute_input": "2024-12-31T15:41:04.475686Z",
     "iopub.status.busy": "2024-12-31T15:41:04.475442Z",
     "iopub.status.idle": "2024-12-31T15:41:08.285246Z",
     "shell.execute_reply": "2024-12-31T15:41:08.284417Z"
    },
    "id": "gL8sJ6m8fZjf",
    "outputId": "41857f01-6262-4216-d0d0-a073f812e0eb",
    "papermill": {
     "duration": 3.83126,
     "end_time": "2024-12-31T15:41:08.286669",
     "exception": false,
     "start_time": "2024-12-31T15:41:04.455409",
     "status": "completed"
    },
    "tags": []
   },
   "outputs": [
    {
     "name": "stderr",
     "output_type": "stream",
     "text": [
      "/usr/local/lib/python3.10/dist-packages/torch/nn/parallel/_functions.py:68: UserWarning: Was asked to gather along dimension 0, but all input tensors were scalars; will instead unsqueeze and return a vector.\n",
      "  warnings.warn('Was asked to gather along dimension 0, but all '\n"
     ]
    },
    {
     "data": {
      "text/html": [],
      "text/plain": [
       "<IPython.core.display.HTML object>"
      ]
     },
     "metadata": {},
     "output_type": "display_data"
    }
   ],
   "source": [
    "outputs = trainer.predict(test_dataset)"
   ]
  },
  {
   "cell_type": "code",
   "execution_count": 37,
   "id": "8c200ae8",
   "metadata": {
    "execution": {
     "iopub.execute_input": "2024-12-31T15:41:08.329046Z",
     "iopub.status.busy": "2024-12-31T15:41:08.328772Z",
     "iopub.status.idle": "2024-12-31T15:41:08.333545Z",
     "shell.execute_reply": "2024-12-31T15:41:08.332696Z"
    },
    "id": "lX5PLvpmfnAp",
    "outputId": "67458aa9-01f5-481e-e7d2-6e387d6cdac5",
    "papermill": {
     "duration": 0.026296,
     "end_time": "2024-12-31T15:41:08.334894",
     "exception": false,
     "start_time": "2024-12-31T15:41:08.308598",
     "status": "completed"
    },
    "tags": []
   },
   "outputs": [
    {
     "data": {
      "text/plain": [
       "{'test_loss': 0.2967473864555359,\n",
       " 'test_accuracy': 0.9782016348773842,\n",
       " 'test_runtime': 3.8046,\n",
       " 'test_samples_per_second': 96.462,\n",
       " 'test_steps_per_second': 1.577}"
      ]
     },
     "execution_count": 37,
     "metadata": {},
     "output_type": "execute_result"
    }
   ],
   "source": [
    "outputs.metrics"
   ]
  }
 ],
 "metadata": {
  "accelerator": "GPU",
  "colab": {
   "gpuType": "T4",
   "provenance": []
  },
  "kaggle": {
   "accelerator": "nvidiaTeslaT4",
   "dataSources": [
    {
     "datasetId": 6402161,
     "sourceId": 10339089,
     "sourceType": "datasetVersion"
    }
   ],
   "dockerImageVersionId": 30822,
   "isGpuEnabled": true,
   "isInternetEnabled": true,
   "language": "python",
   "sourceType": "notebook"
  },
  "kernelspec": {
   "display_name": "Python 3",
   "language": "python",
   "name": "python3"
  },
  "language_info": {
   "codemirror_mode": {
    "name": "ipython",
    "version": 3
   },
   "file_extension": ".py",
   "mimetype": "text/x-python",
   "name": "python",
   "nbconvert_exporter": "python",
   "pygments_lexer": "ipython3",
   "version": "3.10.12"
  },
  "papermill": {
   "default_parameters": {},
   "duration": 2456.874432,
   "end_time": "2024-12-31T15:41:12.000689",
   "environment_variables": {},
   "exception": null,
   "input_path": "__notebook__.ipynb",
   "output_path": "__notebook__.ipynb",
   "parameters": {},
   "start_time": "2024-12-31T15:00:15.126257",
   "version": "2.6.0"
  },
  "widgets": {
   "application/vnd.jupyter.widget-state+json": {
    "state": {
     "01ad1d9ab9c7408b9cc8bc5448213d31": {
      "model_module": "@jupyter-widgets/base",
      "model_module_version": "2.0.0",
      "model_name": "LayoutModel",
      "state": {
       "_model_module": "@jupyter-widgets/base",
       "_model_module_version": "2.0.0",
       "_model_name": "LayoutModel",
       "_view_count": null,
       "_view_module": "@jupyter-widgets/base",
       "_view_module_version": "2.0.0",
       "_view_name": "LayoutView",
       "align_content": null,
       "align_items": null,
       "align_self": null,
       "border_bottom": null,
       "border_left": null,
       "border_right": null,
       "border_top": null,
       "bottom": null,
       "display": null,
       "flex": null,
       "flex_flow": null,
       "grid_area": null,
       "grid_auto_columns": null,
       "grid_auto_flow": null,
       "grid_auto_rows": null,
       "grid_column": null,
       "grid_gap": null,
       "grid_row": null,
       "grid_template_areas": null,
       "grid_template_columns": null,
       "grid_template_rows": null,
       "height": null,
       "justify_content": null,
       "justify_items": null,
       "left": null,
       "margin": null,
       "max_height": null,
       "max_width": null,
       "min_height": null,
       "min_width": null,
       "object_fit": null,
       "object_position": null,
       "order": null,
       "overflow": null,
       "padding": null,
       "right": null,
       "top": null,
       "visibility": null,
       "width": null
      }
     },
     "01c15e7d8049486abd40baf0b474bf73": {
      "model_module": "@jupyter-widgets/controls",
      "model_module_version": "2.0.0",
      "model_name": "HBoxModel",
      "state": {
       "_dom_classes": [],
       "_model_module": "@jupyter-widgets/controls",
       "_model_module_version": "2.0.0",
       "_model_name": "HBoxModel",
       "_view_count": null,
       "_view_module": "@jupyter-widgets/controls",
       "_view_module_version": "2.0.0",
       "_view_name": "HBoxView",
       "box_style": "",
       "children": [
        "IPY_MODEL_c845e40d45c243599b40cb0f383322ac",
        "IPY_MODEL_5a11e2bd66a441fb966881a5a13f8a66",
        "IPY_MODEL_99e4e7320d6d4a7da0608c176215bc34"
       ],
       "layout": "IPY_MODEL_49c99162147a4b7587734d39d852c63a",
       "tabbable": null,
       "tooltip": null
      }
     },
     "097572fc21a3416ca2a4c50b5190e2ee": {
      "model_module": "@jupyter-widgets/controls",
      "model_module_version": "2.0.0",
      "model_name": "HBoxModel",
      "state": {
       "_dom_classes": [],
       "_model_module": "@jupyter-widgets/controls",
       "_model_module_version": "2.0.0",
       "_model_name": "HBoxModel",
       "_view_count": null,
       "_view_module": "@jupyter-widgets/controls",
       "_view_module_version": "2.0.0",
       "_view_name": "HBoxView",
       "box_style": "",
       "children": [
        "IPY_MODEL_45949f24a8834ea6b8f843b007ef7461",
        "IPY_MODEL_ba7445ff7f444a788c1afbd61bcf6a66",
        "IPY_MODEL_1fd2ba04a40a4a2a84063f5946d3058d"
       ],
       "layout": "IPY_MODEL_c5b54a0b003a4d1f984470c56a85468c",
       "tabbable": null,
       "tooltip": null
      }
     },
     "0a707afab5ec42729ec262e3b743945e": {
      "model_module": "@jupyter-widgets/base",
      "model_module_version": "2.0.0",
      "model_name": "LayoutModel",
      "state": {
       "_model_module": "@jupyter-widgets/base",
       "_model_module_version": "2.0.0",
       "_model_name": "LayoutModel",
       "_view_count": null,
       "_view_module": "@jupyter-widgets/base",
       "_view_module_version": "2.0.0",
       "_view_name": "LayoutView",
       "align_content": null,
       "align_items": null,
       "align_self": null,
       "border_bottom": null,
       "border_left": null,
       "border_right": null,
       "border_top": null,
       "bottom": null,
       "display": null,
       "flex": null,
       "flex_flow": null,
       "grid_area": null,
       "grid_auto_columns": null,
       "grid_auto_flow": null,
       "grid_auto_rows": null,
       "grid_column": null,
       "grid_gap": null,
       "grid_row": null,
       "grid_template_areas": null,
       "grid_template_columns": null,
       "grid_template_rows": null,
       "height": null,
       "justify_content": null,
       "justify_items": null,
       "left": null,
       "margin": null,
       "max_height": null,
       "max_width": null,
       "min_height": null,
       "min_width": null,
       "object_fit": null,
       "object_position": null,
       "order": null,
       "overflow": null,
       "padding": null,
       "right": null,
       "top": null,
       "visibility": null,
       "width": null
      }
     },
     "115692ad70a640b1a76e48bf4401149d": {
      "model_module": "@jupyter-widgets/controls",
      "model_module_version": "2.0.0",
      "model_name": "HTMLModel",
      "state": {
       "_dom_classes": [],
       "_model_module": "@jupyter-widgets/controls",
       "_model_module_version": "2.0.0",
       "_model_name": "HTMLModel",
       "_view_count": null,
       "_view_module": "@jupyter-widgets/controls",
       "_view_module_version": "2.0.0",
       "_view_name": "HTMLView",
       "description": "",
       "description_allow_html": false,
       "layout": "IPY_MODEL_0a707afab5ec42729ec262e3b743945e",
       "placeholder": "​",
       "style": "IPY_MODEL_c07fa4c093fd40eda4b196351ae83cb2",
       "tabbable": null,
       "tooltip": null,
       "value": "model.safetensors: 100%"
      }
     },
     "123f0f3263e44d1da6386c5a67320357": {
      "model_module": "@jupyter-widgets/base",
      "model_module_version": "2.0.0",
      "model_name": "LayoutModel",
      "state": {
       "_model_module": "@jupyter-widgets/base",
       "_model_module_version": "2.0.0",
       "_model_name": "LayoutModel",
       "_view_count": null,
       "_view_module": "@jupyter-widgets/base",
       "_view_module_version": "2.0.0",
       "_view_name": "LayoutView",
       "align_content": null,
       "align_items": null,
       "align_self": null,
       "border_bottom": null,
       "border_left": null,
       "border_right": null,
       "border_top": null,
       "bottom": null,
       "display": null,
       "flex": null,
       "flex_flow": null,
       "grid_area": null,
       "grid_auto_columns": null,
       "grid_auto_flow": null,
       "grid_auto_rows": null,
       "grid_column": null,
       "grid_gap": null,
       "grid_row": null,
       "grid_template_areas": null,
       "grid_template_columns": null,
       "grid_template_rows": null,
       "height": null,
       "justify_content": null,
       "justify_items": null,
       "left": null,
       "margin": null,
       "max_height": null,
       "max_width": null,
       "min_height": null,
       "min_width": null,
       "object_fit": null,
       "object_position": null,
       "order": null,
       "overflow": null,
       "padding": null,
       "right": null,
       "top": null,
       "visibility": null,
       "width": null
      }
     },
     "12ee926008f5439c82889253ffb5a83f": {
      "model_module": "@jupyter-widgets/controls",
      "model_module_version": "2.0.0",
      "model_name": "HTMLModel",
      "state": {
       "_dom_classes": [],
       "_model_module": "@jupyter-widgets/controls",
       "_model_module_version": "2.0.0",
       "_model_name": "HTMLModel",
       "_view_count": null,
       "_view_module": "@jupyter-widgets/controls",
       "_view_module_version": "2.0.0",
       "_view_name": "HTMLView",
       "description": "",
       "description_allow_html": false,
       "layout": "IPY_MODEL_cb041a23adc5416c9a3b2c9031fb1503",
       "placeholder": "​",
       "style": "IPY_MODEL_4b68a8eb52c24463b4682b92faf1970f",
       "tabbable": null,
       "tooltip": null,
       "value": " 346M/346M [00:01&lt;00:00, 244MB/s]"
      }
     },
     "17a215cc609f40728e1d063ee687dc23": {
      "model_module": "@jupyter-widgets/base",
      "model_module_version": "2.0.0",
      "model_name": "LayoutModel",
      "state": {
       "_model_module": "@jupyter-widgets/base",
       "_model_module_version": "2.0.0",
       "_model_name": "LayoutModel",
       "_view_count": null,
       "_view_module": "@jupyter-widgets/base",
       "_view_module_version": "2.0.0",
       "_view_name": "LayoutView",
       "align_content": null,
       "align_items": null,
       "align_self": null,
       "border_bottom": null,
       "border_left": null,
       "border_right": null,
       "border_top": null,
       "bottom": null,
       "display": null,
       "flex": null,
       "flex_flow": null,
       "grid_area": null,
       "grid_auto_columns": null,
       "grid_auto_flow": null,
       "grid_auto_rows": null,
       "grid_column": null,
       "grid_gap": null,
       "grid_row": null,
       "grid_template_areas": null,
       "grid_template_columns": null,
       "grid_template_rows": null,
       "height": null,
       "justify_content": null,
       "justify_items": null,
       "left": null,
       "margin": null,
       "max_height": null,
       "max_width": null,
       "min_height": null,
       "min_width": null,
       "object_fit": null,
       "object_position": null,
       "order": null,
       "overflow": null,
       "padding": null,
       "right": null,
       "top": null,
       "visibility": null,
       "width": null
      }
     },
     "1c60cb433d1e4307938ada51204ae2e6": {
      "model_module": "@jupyter-widgets/controls",
      "model_module_version": "2.0.0",
      "model_name": "HTMLStyleModel",
      "state": {
       "_model_module": "@jupyter-widgets/controls",
       "_model_module_version": "2.0.0",
       "_model_name": "HTMLStyleModel",
       "_view_count": null,
       "_view_module": "@jupyter-widgets/base",
       "_view_module_version": "2.0.0",
       "_view_name": "StyleView",
       "background": null,
       "description_width": "",
       "font_size": null,
       "text_color": null
      }
     },
     "1fc06e35f0db42d990571d868b9561e3": {
      "model_module": "@jupyter-widgets/base",
      "model_module_version": "2.0.0",
      "model_name": "LayoutModel",
      "state": {
       "_model_module": "@jupyter-widgets/base",
       "_model_module_version": "2.0.0",
       "_model_name": "LayoutModel",
       "_view_count": null,
       "_view_module": "@jupyter-widgets/base",
       "_view_module_version": "2.0.0",
       "_view_name": "LayoutView",
       "align_content": null,
       "align_items": null,
       "align_self": null,
       "border_bottom": null,
       "border_left": null,
       "border_right": null,
       "border_top": null,
       "bottom": null,
       "display": null,
       "flex": null,
       "flex_flow": null,
       "grid_area": null,
       "grid_auto_columns": null,
       "grid_auto_flow": null,
       "grid_auto_rows": null,
       "grid_column": null,
       "grid_gap": null,
       "grid_row": null,
       "grid_template_areas": null,
       "grid_template_columns": null,
       "grid_template_rows": null,
       "height": null,
       "justify_content": null,
       "justify_items": null,
       "left": null,
       "margin": null,
       "max_height": null,
       "max_width": null,
       "min_height": null,
       "min_width": null,
       "object_fit": null,
       "object_position": null,
       "order": null,
       "overflow": null,
       "padding": null,
       "right": null,
       "top": null,
       "visibility": null,
       "width": null
      }
     },
     "1fd2ba04a40a4a2a84063f5946d3058d": {
      "model_module": "@jupyter-widgets/controls",
      "model_module_version": "2.0.0",
      "model_name": "HTMLModel",
      "state": {
       "_dom_classes": [],
       "_model_module": "@jupyter-widgets/controls",
       "_model_module_version": "2.0.0",
       "_model_name": "HTMLModel",
       "_view_count": null,
       "_view_module": "@jupyter-widgets/controls",
       "_view_module_version": "2.0.0",
       "_view_name": "HTMLView",
       "description": "",
       "description_allow_html": false,
       "layout": "IPY_MODEL_01ad1d9ab9c7408b9cc8bc5448213d31",
       "placeholder": "​",
       "style": "IPY_MODEL_cfbfeccf9dce44678554bbebdd6e70fd",
       "tabbable": null,
       "tooltip": null,
       "value": " 160/160 [00:00&lt;00:00, 15.9kB/s]"
      }
     },
     "2c89b2b25cef46899e3d2d1026c4af9a": {
      "model_module": "@jupyter-widgets/controls",
      "model_module_version": "2.0.0",
      "model_name": "ProgressStyleModel",
      "state": {
       "_model_module": "@jupyter-widgets/controls",
       "_model_module_version": "2.0.0",
       "_model_name": "ProgressStyleModel",
       "_view_count": null,
       "_view_module": "@jupyter-widgets/base",
       "_view_module_version": "2.0.0",
       "_view_name": "StyleView",
       "bar_color": null,
       "description_width": ""
      }
     },
     "385cbfbb1d9b44a382eefb40e79fa359": {
      "model_module": "@jupyter-widgets/controls",
      "model_module_version": "2.0.0",
      "model_name": "FloatProgressModel",
      "state": {
       "_dom_classes": [],
       "_model_module": "@jupyter-widgets/controls",
       "_model_module_version": "2.0.0",
       "_model_name": "FloatProgressModel",
       "_view_count": null,
       "_view_module": "@jupyter-widgets/controls",
       "_view_module_version": "2.0.0",
       "_view_name": "ProgressView",
       "bar_style": "success",
       "description": "",
       "description_allow_html": false,
       "layout": "IPY_MODEL_5b55a4a499ef4262b6b0a05319a3b429",
       "max": 345579424.0,
       "min": 0.0,
       "orientation": "horizontal",
       "style": "IPY_MODEL_d4697e7592d941bfa2b15acc3bd6dcbd",
       "tabbable": null,
       "tooltip": null,
       "value": 345579424.0
      }
     },
     "3f5976c6388849d79959691fa2e9a1cf": {
      "model_module": "@jupyter-widgets/base",
      "model_module_version": "2.0.0",
      "model_name": "LayoutModel",
      "state": {
       "_model_module": "@jupyter-widgets/base",
       "_model_module_version": "2.0.0",
       "_model_name": "LayoutModel",
       "_view_count": null,
       "_view_module": "@jupyter-widgets/base",
       "_view_module_version": "2.0.0",
       "_view_name": "LayoutView",
       "align_content": null,
       "align_items": null,
       "align_self": null,
       "border_bottom": null,
       "border_left": null,
       "border_right": null,
       "border_top": null,
       "bottom": null,
       "display": null,
       "flex": null,
       "flex_flow": null,
       "grid_area": null,
       "grid_auto_columns": null,
       "grid_auto_flow": null,
       "grid_auto_rows": null,
       "grid_column": null,
       "grid_gap": null,
       "grid_row": null,
       "grid_template_areas": null,
       "grid_template_columns": null,
       "grid_template_rows": null,
       "height": null,
       "justify_content": null,
       "justify_items": null,
       "left": null,
       "margin": null,
       "max_height": null,
       "max_width": null,
       "min_height": null,
       "min_width": null,
       "object_fit": null,
       "object_position": null,
       "order": null,
       "overflow": null,
       "padding": null,
       "right": null,
       "top": null,
       "visibility": null,
       "width": null
      }
     },
     "45949f24a8834ea6b8f843b007ef7461": {
      "model_module": "@jupyter-widgets/controls",
      "model_module_version": "2.0.0",
      "model_name": "HTMLModel",
      "state": {
       "_dom_classes": [],
       "_model_module": "@jupyter-widgets/controls",
       "_model_module_version": "2.0.0",
       "_model_name": "HTMLModel",
       "_view_count": null,
       "_view_module": "@jupyter-widgets/controls",
       "_view_module_version": "2.0.0",
       "_view_name": "HTMLView",
       "description": "",
       "description_allow_html": false,
       "layout": "IPY_MODEL_123f0f3263e44d1da6386c5a67320357",
       "placeholder": "​",
       "style": "IPY_MODEL_ba91b49e159d4d47be8e567cf5ceb023",
       "tabbable": null,
       "tooltip": null,
       "value": "preprocessor_config.json: 100%"
      }
     },
     "49c99162147a4b7587734d39d852c63a": {
      "model_module": "@jupyter-widgets/base",
      "model_module_version": "2.0.0",
      "model_name": "LayoutModel",
      "state": {
       "_model_module": "@jupyter-widgets/base",
       "_model_module_version": "2.0.0",
       "_model_name": "LayoutModel",
       "_view_count": null,
       "_view_module": "@jupyter-widgets/base",
       "_view_module_version": "2.0.0",
       "_view_name": "LayoutView",
       "align_content": null,
       "align_items": null,
       "align_self": null,
       "border_bottom": null,
       "border_left": null,
       "border_right": null,
       "border_top": null,
       "bottom": null,
       "display": null,
       "flex": null,
       "flex_flow": null,
       "grid_area": null,
       "grid_auto_columns": null,
       "grid_auto_flow": null,
       "grid_auto_rows": null,
       "grid_column": null,
       "grid_gap": null,
       "grid_row": null,
       "grid_template_areas": null,
       "grid_template_columns": null,
       "grid_template_rows": null,
       "height": null,
       "justify_content": null,
       "justify_items": null,
       "left": null,
       "margin": null,
       "max_height": null,
       "max_width": null,
       "min_height": null,
       "min_width": null,
       "object_fit": null,
       "object_position": null,
       "order": null,
       "overflow": null,
       "padding": null,
       "right": null,
       "top": null,
       "visibility": null,
       "width": null
      }
     },
     "4b68a8eb52c24463b4682b92faf1970f": {
      "model_module": "@jupyter-widgets/controls",
      "model_module_version": "2.0.0",
      "model_name": "HTMLStyleModel",
      "state": {
       "_model_module": "@jupyter-widgets/controls",
       "_model_module_version": "2.0.0",
       "_model_name": "HTMLStyleModel",
       "_view_count": null,
       "_view_module": "@jupyter-widgets/base",
       "_view_module_version": "2.0.0",
       "_view_name": "StyleView",
       "background": null,
       "description_width": "",
       "font_size": null,
       "text_color": null
      }
     },
     "5a11e2bd66a441fb966881a5a13f8a66": {
      "model_module": "@jupyter-widgets/controls",
      "model_module_version": "2.0.0",
      "model_name": "FloatProgressModel",
      "state": {
       "_dom_classes": [],
       "_model_module": "@jupyter-widgets/controls",
       "_model_module_version": "2.0.0",
       "_model_name": "FloatProgressModel",
       "_view_count": null,
       "_view_module": "@jupyter-widgets/controls",
       "_view_module_version": "2.0.0",
       "_view_name": "ProgressView",
       "bar_style": "success",
       "description": "",
       "description_allow_html": false,
       "layout": "IPY_MODEL_ce595fcdcc024b0bb9dcfe26ef0f22fa",
       "max": 502.0,
       "min": 0.0,
       "orientation": "horizontal",
       "style": "IPY_MODEL_6ded3c1a25ed470d8fcf4f4aab0adb70",
       "tabbable": null,
       "tooltip": null,
       "value": 502.0
      }
     },
     "5b55a4a499ef4262b6b0a05319a3b429": {
      "model_module": "@jupyter-widgets/base",
      "model_module_version": "2.0.0",
      "model_name": "LayoutModel",
      "state": {
       "_model_module": "@jupyter-widgets/base",
       "_model_module_version": "2.0.0",
       "_model_name": "LayoutModel",
       "_view_count": null,
       "_view_module": "@jupyter-widgets/base",
       "_view_module_version": "2.0.0",
       "_view_name": "LayoutView",
       "align_content": null,
       "align_items": null,
       "align_self": null,
       "border_bottom": null,
       "border_left": null,
       "border_right": null,
       "border_top": null,
       "bottom": null,
       "display": null,
       "flex": null,
       "flex_flow": null,
       "grid_area": null,
       "grid_auto_columns": null,
       "grid_auto_flow": null,
       "grid_auto_rows": null,
       "grid_column": null,
       "grid_gap": null,
       "grid_row": null,
       "grid_template_areas": null,
       "grid_template_columns": null,
       "grid_template_rows": null,
       "height": null,
       "justify_content": null,
       "justify_items": null,
       "left": null,
       "margin": null,
       "max_height": null,
       "max_width": null,
       "min_height": null,
       "min_width": null,
       "object_fit": null,
       "object_position": null,
       "order": null,
       "overflow": null,
       "padding": null,
       "right": null,
       "top": null,
       "visibility": null,
       "width": null
      }
     },
     "6ded3c1a25ed470d8fcf4f4aab0adb70": {
      "model_module": "@jupyter-widgets/controls",
      "model_module_version": "2.0.0",
      "model_name": "ProgressStyleModel",
      "state": {
       "_model_module": "@jupyter-widgets/controls",
       "_model_module_version": "2.0.0",
       "_model_name": "ProgressStyleModel",
       "_view_count": null,
       "_view_module": "@jupyter-widgets/base",
       "_view_module_version": "2.0.0",
       "_view_name": "StyleView",
       "bar_color": null,
       "description_width": ""
      }
     },
     "79030e3b96274b04b85dca317443d74e": {
      "model_module": "@jupyter-widgets/controls",
      "model_module_version": "2.0.0",
      "model_name": "HTMLStyleModel",
      "state": {
       "_model_module": "@jupyter-widgets/controls",
       "_model_module_version": "2.0.0",
       "_model_name": "HTMLStyleModel",
       "_view_count": null,
       "_view_module": "@jupyter-widgets/base",
       "_view_module_version": "2.0.0",
       "_view_name": "StyleView",
       "background": null,
       "description_width": "",
       "font_size": null,
       "text_color": null
      }
     },
     "80d7506c2a1c445c9af82b2576790bad": {
      "model_module": "@jupyter-widgets/controls",
      "model_module_version": "2.0.0",
      "model_name": "HTMLStyleModel",
      "state": {
       "_model_module": "@jupyter-widgets/controls",
       "_model_module_version": "2.0.0",
       "_model_name": "HTMLStyleModel",
       "_view_count": null,
       "_view_module": "@jupyter-widgets/base",
       "_view_module_version": "2.0.0",
       "_view_name": "StyleView",
       "background": null,
       "description_width": "",
       "font_size": null,
       "text_color": null
      }
     },
     "93fc131a8ea44eb69244f0ddf8f77afc": {
      "model_module": "@jupyter-widgets/controls",
      "model_module_version": "2.0.0",
      "model_name": "HTMLModel",
      "state": {
       "_dom_classes": [],
       "_model_module": "@jupyter-widgets/controls",
       "_model_module_version": "2.0.0",
       "_model_name": "HTMLModel",
       "_view_count": null,
       "_view_module": "@jupyter-widgets/controls",
       "_view_module_version": "2.0.0",
       "_view_name": "HTMLView",
       "description": "",
       "description_allow_html": false,
       "layout": "IPY_MODEL_3f5976c6388849d79959691fa2e9a1cf",
       "placeholder": "​",
       "style": "IPY_MODEL_80d7506c2a1c445c9af82b2576790bad",
       "tabbable": null,
       "tooltip": null,
       "value": "Downloading builder script: 100%"
      }
     },
     "99e4e7320d6d4a7da0608c176215bc34": {
      "model_module": "@jupyter-widgets/controls",
      "model_module_version": "2.0.0",
      "model_name": "HTMLModel",
      "state": {
       "_dom_classes": [],
       "_model_module": "@jupyter-widgets/controls",
       "_model_module_version": "2.0.0",
       "_model_name": "HTMLModel",
       "_view_count": null,
       "_view_module": "@jupyter-widgets/controls",
       "_view_module_version": "2.0.0",
       "_view_name": "HTMLView",
       "description": "",
       "description_allow_html": false,
       "layout": "IPY_MODEL_b68d8e06511f43058d57ee5572f12539",
       "placeholder": "​",
       "style": "IPY_MODEL_79030e3b96274b04b85dca317443d74e",
       "tabbable": null,
       "tooltip": null,
       "value": " 502/502 [00:00&lt;00:00, 48.4kB/s]"
      }
     },
     "9a8b264e54014ee89aa9f10a22146925": {
      "model_module": "@jupyter-widgets/controls",
      "model_module_version": "2.0.0",
      "model_name": "FloatProgressModel",
      "state": {
       "_dom_classes": [],
       "_model_module": "@jupyter-widgets/controls",
       "_model_module_version": "2.0.0",
       "_model_name": "FloatProgressModel",
       "_view_count": null,
       "_view_module": "@jupyter-widgets/controls",
       "_view_module_version": "2.0.0",
       "_view_name": "ProgressView",
       "bar_style": "success",
       "description": "",
       "description_allow_html": false,
       "layout": "IPY_MODEL_c28cfb7781d147dbb41769f3c71cc372",
       "max": 4203.0,
       "min": 0.0,
       "orientation": "horizontal",
       "style": "IPY_MODEL_2c89b2b25cef46899e3d2d1026c4af9a",
       "tabbable": null,
       "tooltip": null,
       "value": 4203.0
      }
     },
     "b68d8e06511f43058d57ee5572f12539": {
      "model_module": "@jupyter-widgets/base",
      "model_module_version": "2.0.0",
      "model_name": "LayoutModel",
      "state": {
       "_model_module": "@jupyter-widgets/base",
       "_model_module_version": "2.0.0",
       "_model_name": "LayoutModel",
       "_view_count": null,
       "_view_module": "@jupyter-widgets/base",
       "_view_module_version": "2.0.0",
       "_view_name": "LayoutView",
       "align_content": null,
       "align_items": null,
       "align_self": null,
       "border_bottom": null,
       "border_left": null,
       "border_right": null,
       "border_top": null,
       "bottom": null,
       "display": null,
       "flex": null,
       "flex_flow": null,
       "grid_area": null,
       "grid_auto_columns": null,
       "grid_auto_flow": null,
       "grid_auto_rows": null,
       "grid_column": null,
       "grid_gap": null,
       "grid_row": null,
       "grid_template_areas": null,
       "grid_template_columns": null,
       "grid_template_rows": null,
       "height": null,
       "justify_content": null,
       "justify_items": null,
       "left": null,
       "margin": null,
       "max_height": null,
       "max_width": null,
       "min_height": null,
       "min_width": null,
       "object_fit": null,
       "object_position": null,
       "order": null,
       "overflow": null,
       "padding": null,
       "right": null,
       "top": null,
       "visibility": null,
       "width": null
      }
     },
     "ba7445ff7f444a788c1afbd61bcf6a66": {
      "model_module": "@jupyter-widgets/controls",
      "model_module_version": "2.0.0",
      "model_name": "FloatProgressModel",
      "state": {
       "_dom_classes": [],
       "_model_module": "@jupyter-widgets/controls",
       "_model_module_version": "2.0.0",
       "_model_name": "FloatProgressModel",
       "_view_count": null,
       "_view_module": "@jupyter-widgets/controls",
       "_view_module_version": "2.0.0",
       "_view_name": "ProgressView",
       "bar_style": "success",
       "description": "",
       "description_allow_html": false,
       "layout": "IPY_MODEL_1fc06e35f0db42d990571d868b9561e3",
       "max": 160.0,
       "min": 0.0,
       "orientation": "horizontal",
       "style": "IPY_MODEL_c183704c7f334d14bc93b9aab146fb99",
       "tabbable": null,
       "tooltip": null,
       "value": 160.0
      }
     },
     "ba91b49e159d4d47be8e567cf5ceb023": {
      "model_module": "@jupyter-widgets/controls",
      "model_module_version": "2.0.0",
      "model_name": "HTMLStyleModel",
      "state": {
       "_model_module": "@jupyter-widgets/controls",
       "_model_module_version": "2.0.0",
       "_model_name": "HTMLStyleModel",
       "_view_count": null,
       "_view_module": "@jupyter-widgets/base",
       "_view_module_version": "2.0.0",
       "_view_name": "StyleView",
       "background": null,
       "description_width": "",
       "font_size": null,
       "text_color": null
      }
     },
     "bd4a00e74e4841389b3aeb396492161d": {
      "model_module": "@jupyter-widgets/base",
      "model_module_version": "2.0.0",
      "model_name": "LayoutModel",
      "state": {
       "_model_module": "@jupyter-widgets/base",
       "_model_module_version": "2.0.0",
       "_model_name": "LayoutModel",
       "_view_count": null,
       "_view_module": "@jupyter-widgets/base",
       "_view_module_version": "2.0.0",
       "_view_name": "LayoutView",
       "align_content": null,
       "align_items": null,
       "align_self": null,
       "border_bottom": null,
       "border_left": null,
       "border_right": null,
       "border_top": null,
       "bottom": null,
       "display": null,
       "flex": null,
       "flex_flow": null,
       "grid_area": null,
       "grid_auto_columns": null,
       "grid_auto_flow": null,
       "grid_auto_rows": null,
       "grid_column": null,
       "grid_gap": null,
       "grid_row": null,
       "grid_template_areas": null,
       "grid_template_columns": null,
       "grid_template_rows": null,
       "height": null,
       "justify_content": null,
       "justify_items": null,
       "left": null,
       "margin": null,
       "max_height": null,
       "max_width": null,
       "min_height": null,
       "min_width": null,
       "object_fit": null,
       "object_position": null,
       "order": null,
       "overflow": null,
       "padding": null,
       "right": null,
       "top": null,
       "visibility": null,
       "width": null
      }
     },
     "c07fa4c093fd40eda4b196351ae83cb2": {
      "model_module": "@jupyter-widgets/controls",
      "model_module_version": "2.0.0",
      "model_name": "HTMLStyleModel",
      "state": {
       "_model_module": "@jupyter-widgets/controls",
       "_model_module_version": "2.0.0",
       "_model_name": "HTMLStyleModel",
       "_view_count": null,
       "_view_module": "@jupyter-widgets/base",
       "_view_module_version": "2.0.0",
       "_view_name": "StyleView",
       "background": null,
       "description_width": "",
       "font_size": null,
       "text_color": null
      }
     },
     "c183704c7f334d14bc93b9aab146fb99": {
      "model_module": "@jupyter-widgets/controls",
      "model_module_version": "2.0.0",
      "model_name": "ProgressStyleModel",
      "state": {
       "_model_module": "@jupyter-widgets/controls",
       "_model_module_version": "2.0.0",
       "_model_name": "ProgressStyleModel",
       "_view_count": null,
       "_view_module": "@jupyter-widgets/base",
       "_view_module_version": "2.0.0",
       "_view_name": "StyleView",
       "bar_color": null,
       "description_width": ""
      }
     },
     "c28cfb7781d147dbb41769f3c71cc372": {
      "model_module": "@jupyter-widgets/base",
      "model_module_version": "2.0.0",
      "model_name": "LayoutModel",
      "state": {
       "_model_module": "@jupyter-widgets/base",
       "_model_module_version": "2.0.0",
       "_model_name": "LayoutModel",
       "_view_count": null,
       "_view_module": "@jupyter-widgets/base",
       "_view_module_version": "2.0.0",
       "_view_name": "LayoutView",
       "align_content": null,
       "align_items": null,
       "align_self": null,
       "border_bottom": null,
       "border_left": null,
       "border_right": null,
       "border_top": null,
       "bottom": null,
       "display": null,
       "flex": null,
       "flex_flow": null,
       "grid_area": null,
       "grid_auto_columns": null,
       "grid_auto_flow": null,
       "grid_auto_rows": null,
       "grid_column": null,
       "grid_gap": null,
       "grid_row": null,
       "grid_template_areas": null,
       "grid_template_columns": null,
       "grid_template_rows": null,
       "height": null,
       "justify_content": null,
       "justify_items": null,
       "left": null,
       "margin": null,
       "max_height": null,
       "max_width": null,
       "min_height": null,
       "min_width": null,
       "object_fit": null,
       "object_position": null,
       "order": null,
       "overflow": null,
       "padding": null,
       "right": null,
       "top": null,
       "visibility": null,
       "width": null
      }
     },
     "c5b54a0b003a4d1f984470c56a85468c": {
      "model_module": "@jupyter-widgets/base",
      "model_module_version": "2.0.0",
      "model_name": "LayoutModel",
      "state": {
       "_model_module": "@jupyter-widgets/base",
       "_model_module_version": "2.0.0",
       "_model_name": "LayoutModel",
       "_view_count": null,
       "_view_module": "@jupyter-widgets/base",
       "_view_module_version": "2.0.0",
       "_view_name": "LayoutView",
       "align_content": null,
       "align_items": null,
       "align_self": null,
       "border_bottom": null,
       "border_left": null,
       "border_right": null,
       "border_top": null,
       "bottom": null,
       "display": null,
       "flex": null,
       "flex_flow": null,
       "grid_area": null,
       "grid_auto_columns": null,
       "grid_auto_flow": null,
       "grid_auto_rows": null,
       "grid_column": null,
       "grid_gap": null,
       "grid_row": null,
       "grid_template_areas": null,
       "grid_template_columns": null,
       "grid_template_rows": null,
       "height": null,
       "justify_content": null,
       "justify_items": null,
       "left": null,
       "margin": null,
       "max_height": null,
       "max_width": null,
       "min_height": null,
       "min_width": null,
       "object_fit": null,
       "object_position": null,
       "order": null,
       "overflow": null,
       "padding": null,
       "right": null,
       "top": null,
       "visibility": null,
       "width": null
      }
     },
     "c845e40d45c243599b40cb0f383322ac": {
      "model_module": "@jupyter-widgets/controls",
      "model_module_version": "2.0.0",
      "model_name": "HTMLModel",
      "state": {
       "_dom_classes": [],
       "_model_module": "@jupyter-widgets/controls",
       "_model_module_version": "2.0.0",
       "_model_name": "HTMLModel",
       "_view_count": null,
       "_view_module": "@jupyter-widgets/controls",
       "_view_module_version": "2.0.0",
       "_view_name": "HTMLView",
       "description": "",
       "description_allow_html": false,
       "layout": "IPY_MODEL_d2baf3ecc9914b14abedc0ea5475642d",
       "placeholder": "​",
       "style": "IPY_MODEL_e12f8232aa224dba86bfdf39019485ab",
       "tabbable": null,
       "tooltip": null,
       "value": "config.json: 100%"
      }
     },
     "ca9d5751856f4290bb53a85eb684beb8": {
      "model_module": "@jupyter-widgets/controls",
      "model_module_version": "2.0.0",
      "model_name": "HTMLModel",
      "state": {
       "_dom_classes": [],
       "_model_module": "@jupyter-widgets/controls",
       "_model_module_version": "2.0.0",
       "_model_name": "HTMLModel",
       "_view_count": null,
       "_view_module": "@jupyter-widgets/controls",
       "_view_module_version": "2.0.0",
       "_view_name": "HTMLView",
       "description": "",
       "description_allow_html": false,
       "layout": "IPY_MODEL_bd4a00e74e4841389b3aeb396492161d",
       "placeholder": "​",
       "style": "IPY_MODEL_1c60cb433d1e4307938ada51204ae2e6",
       "tabbable": null,
       "tooltip": null,
       "value": " 4.20k/4.20k [00:00&lt;00:00, 437kB/s]"
      }
     },
     "cb041a23adc5416c9a3b2c9031fb1503": {
      "model_module": "@jupyter-widgets/base",
      "model_module_version": "2.0.0",
      "model_name": "LayoutModel",
      "state": {
       "_model_module": "@jupyter-widgets/base",
       "_model_module_version": "2.0.0",
       "_model_name": "LayoutModel",
       "_view_count": null,
       "_view_module": "@jupyter-widgets/base",
       "_view_module_version": "2.0.0",
       "_view_name": "LayoutView",
       "align_content": null,
       "align_items": null,
       "align_self": null,
       "border_bottom": null,
       "border_left": null,
       "border_right": null,
       "border_top": null,
       "bottom": null,
       "display": null,
       "flex": null,
       "flex_flow": null,
       "grid_area": null,
       "grid_auto_columns": null,
       "grid_auto_flow": null,
       "grid_auto_rows": null,
       "grid_column": null,
       "grid_gap": null,
       "grid_row": null,
       "grid_template_areas": null,
       "grid_template_columns": null,
       "grid_template_rows": null,
       "height": null,
       "justify_content": null,
       "justify_items": null,
       "left": null,
       "margin": null,
       "max_height": null,
       "max_width": null,
       "min_height": null,
       "min_width": null,
       "object_fit": null,
       "object_position": null,
       "order": null,
       "overflow": null,
       "padding": null,
       "right": null,
       "top": null,
       "visibility": null,
       "width": null
      }
     },
     "ce595fcdcc024b0bb9dcfe26ef0f22fa": {
      "model_module": "@jupyter-widgets/base",
      "model_module_version": "2.0.0",
      "model_name": "LayoutModel",
      "state": {
       "_model_module": "@jupyter-widgets/base",
       "_model_module_version": "2.0.0",
       "_model_name": "LayoutModel",
       "_view_count": null,
       "_view_module": "@jupyter-widgets/base",
       "_view_module_version": "2.0.0",
       "_view_name": "LayoutView",
       "align_content": null,
       "align_items": null,
       "align_self": null,
       "border_bottom": null,
       "border_left": null,
       "border_right": null,
       "border_top": null,
       "bottom": null,
       "display": null,
       "flex": null,
       "flex_flow": null,
       "grid_area": null,
       "grid_auto_columns": null,
       "grid_auto_flow": null,
       "grid_auto_rows": null,
       "grid_column": null,
       "grid_gap": null,
       "grid_row": null,
       "grid_template_areas": null,
       "grid_template_columns": null,
       "grid_template_rows": null,
       "height": null,
       "justify_content": null,
       "justify_items": null,
       "left": null,
       "margin": null,
       "max_height": null,
       "max_width": null,
       "min_height": null,
       "min_width": null,
       "object_fit": null,
       "object_position": null,
       "order": null,
       "overflow": null,
       "padding": null,
       "right": null,
       "top": null,
       "visibility": null,
       "width": null
      }
     },
     "cfbfeccf9dce44678554bbebdd6e70fd": {
      "model_module": "@jupyter-widgets/controls",
      "model_module_version": "2.0.0",
      "model_name": "HTMLStyleModel",
      "state": {
       "_model_module": "@jupyter-widgets/controls",
       "_model_module_version": "2.0.0",
       "_model_name": "HTMLStyleModel",
       "_view_count": null,
       "_view_module": "@jupyter-widgets/base",
       "_view_module_version": "2.0.0",
       "_view_name": "StyleView",
       "background": null,
       "description_width": "",
       "font_size": null,
       "text_color": null
      }
     },
     "d0072e6fb09e4d5998c14e2c259a0988": {
      "model_module": "@jupyter-widgets/controls",
      "model_module_version": "2.0.0",
      "model_name": "HBoxModel",
      "state": {
       "_dom_classes": [],
       "_model_module": "@jupyter-widgets/controls",
       "_model_module_version": "2.0.0",
       "_model_name": "HBoxModel",
       "_view_count": null,
       "_view_module": "@jupyter-widgets/controls",
       "_view_module_version": "2.0.0",
       "_view_name": "HBoxView",
       "box_style": "",
       "children": [
        "IPY_MODEL_115692ad70a640b1a76e48bf4401149d",
        "IPY_MODEL_385cbfbb1d9b44a382eefb40e79fa359",
        "IPY_MODEL_12ee926008f5439c82889253ffb5a83f"
       ],
       "layout": "IPY_MODEL_17a215cc609f40728e1d063ee687dc23",
       "tabbable": null,
       "tooltip": null
      }
     },
     "d2baf3ecc9914b14abedc0ea5475642d": {
      "model_module": "@jupyter-widgets/base",
      "model_module_version": "2.0.0",
      "model_name": "LayoutModel",
      "state": {
       "_model_module": "@jupyter-widgets/base",
       "_model_module_version": "2.0.0",
       "_model_name": "LayoutModel",
       "_view_count": null,
       "_view_module": "@jupyter-widgets/base",
       "_view_module_version": "2.0.0",
       "_view_name": "LayoutView",
       "align_content": null,
       "align_items": null,
       "align_self": null,
       "border_bottom": null,
       "border_left": null,
       "border_right": null,
       "border_top": null,
       "bottom": null,
       "display": null,
       "flex": null,
       "flex_flow": null,
       "grid_area": null,
       "grid_auto_columns": null,
       "grid_auto_flow": null,
       "grid_auto_rows": null,
       "grid_column": null,
       "grid_gap": null,
       "grid_row": null,
       "grid_template_areas": null,
       "grid_template_columns": null,
       "grid_template_rows": null,
       "height": null,
       "justify_content": null,
       "justify_items": null,
       "left": null,
       "margin": null,
       "max_height": null,
       "max_width": null,
       "min_height": null,
       "min_width": null,
       "object_fit": null,
       "object_position": null,
       "order": null,
       "overflow": null,
       "padding": null,
       "right": null,
       "top": null,
       "visibility": null,
       "width": null
      }
     },
     "d4697e7592d941bfa2b15acc3bd6dcbd": {
      "model_module": "@jupyter-widgets/controls",
      "model_module_version": "2.0.0",
      "model_name": "ProgressStyleModel",
      "state": {
       "_model_module": "@jupyter-widgets/controls",
       "_model_module_version": "2.0.0",
       "_model_name": "ProgressStyleModel",
       "_view_count": null,
       "_view_module": "@jupyter-widgets/base",
       "_view_module_version": "2.0.0",
       "_view_name": "StyleView",
       "bar_color": null,
       "description_width": ""
      }
     },
     "e12f8232aa224dba86bfdf39019485ab": {
      "model_module": "@jupyter-widgets/controls",
      "model_module_version": "2.0.0",
      "model_name": "HTMLStyleModel",
      "state": {
       "_model_module": "@jupyter-widgets/controls",
       "_model_module_version": "2.0.0",
       "_model_name": "HTMLStyleModel",
       "_view_count": null,
       "_view_module": "@jupyter-widgets/base",
       "_view_module_version": "2.0.0",
       "_view_name": "StyleView",
       "background": null,
       "description_width": "",
       "font_size": null,
       "text_color": null
      }
     },
     "edf028e8c9b342e08af6c083d8377933": {
      "model_module": "@jupyter-widgets/base",
      "model_module_version": "2.0.0",
      "model_name": "LayoutModel",
      "state": {
       "_model_module": "@jupyter-widgets/base",
       "_model_module_version": "2.0.0",
       "_model_name": "LayoutModel",
       "_view_count": null,
       "_view_module": "@jupyter-widgets/base",
       "_view_module_version": "2.0.0",
       "_view_name": "LayoutView",
       "align_content": null,
       "align_items": null,
       "align_self": null,
       "border_bottom": null,
       "border_left": null,
       "border_right": null,
       "border_top": null,
       "bottom": null,
       "display": null,
       "flex": null,
       "flex_flow": null,
       "grid_area": null,
       "grid_auto_columns": null,
       "grid_auto_flow": null,
       "grid_auto_rows": null,
       "grid_column": null,
       "grid_gap": null,
       "grid_row": null,
       "grid_template_areas": null,
       "grid_template_columns": null,
       "grid_template_rows": null,
       "height": null,
       "justify_content": null,
       "justify_items": null,
       "left": null,
       "margin": null,
       "max_height": null,
       "max_width": null,
       "min_height": null,
       "min_width": null,
       "object_fit": null,
       "object_position": null,
       "order": null,
       "overflow": null,
       "padding": null,
       "right": null,
       "top": null,
       "visibility": null,
       "width": null
      }
     },
     "f78538951907424889794f2a4a8229df": {
      "model_module": "@jupyter-widgets/controls",
      "model_module_version": "2.0.0",
      "model_name": "HBoxModel",
      "state": {
       "_dom_classes": [],
       "_model_module": "@jupyter-widgets/controls",
       "_model_module_version": "2.0.0",
       "_model_name": "HBoxModel",
       "_view_count": null,
       "_view_module": "@jupyter-widgets/controls",
       "_view_module_version": "2.0.0",
       "_view_name": "HBoxView",
       "box_style": "",
       "children": [
        "IPY_MODEL_93fc131a8ea44eb69244f0ddf8f77afc",
        "IPY_MODEL_9a8b264e54014ee89aa9f10a22146925",
        "IPY_MODEL_ca9d5751856f4290bb53a85eb684beb8"
       ],
       "layout": "IPY_MODEL_edf028e8c9b342e08af6c083d8377933",
       "tabbable": null,
       "tooltip": null
      }
     }
    },
    "version_major": 2,
    "version_minor": 0
   }
  }
 },
 "nbformat": 4,
 "nbformat_minor": 5
}

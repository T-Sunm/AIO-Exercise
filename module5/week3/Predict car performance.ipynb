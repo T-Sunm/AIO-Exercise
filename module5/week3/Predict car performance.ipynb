{
 "cells": [
  {
   "cell_type": "code",
   "execution_count": 24,
   "metadata": {},
   "outputs": [
    {
     "name": "stderr",
     "output_type": "stream",
     "text": [
      "D:\\Asus\\Ungdung\\Anacoda\\Anacoda\\envs\\40daysPython_env\\lib\\site-packages\\gdown\\__main__.py:132: FutureWarning: Option `--id` was deprecated in version 4.3.1 and will be removed in 5.0. You don't need to pass it anymore to use a file ID.\n",
      "  warnings.warn(\n",
      "Downloading...\n",
      "From: https://drive.google.com/uc?id=1qiUDDoYyRLBiKOoYWdFl_5WByHE8Cugu\n",
      "To: d:\\Asus\\AIO\\AIO-Exercise\\module5\\week3\\Auto_MPG_data.csv\n",
      "\n",
      "  0%|          | 0.00/15.4k [00:00<?, ?B/s]\n",
      "100%|██████████| 15.4k/15.4k [00:00<00:00, 61.4kB/s]\n",
      "100%|██████████| 15.4k/15.4k [00:00<00:00, 61.4kB/s]\n"
     ]
    }
   ],
   "source": [
    "!gdown --id 1qiUDDoYyRLBiKOoYWdFl_5WByHE8Cugu\n"
   ]
  },
  {
   "cell_type": "code",
   "execution_count": 25,
   "metadata": {},
   "outputs": [],
   "source": [
    "import numpy as np\n",
    "import pandas as pd\n",
    "import matplotlib.pyplot as plt\n",
    "import torch\n",
    "import torch.nn as nn\n",
    "import torch.nn.functional as F\n",
    "from torch.utils.data import Dataset, DataLoader\n",
    "\n",
    "from sklearn.model_selection import train_test_split\n",
    "from sklearn.preprocessing import StandardScaler"
   ]
  },
  {
   "cell_type": "markdown",
   "metadata": {},
   "source": [
    "### Cài đặt giá trị ngẫu nhiên cố định:"
   ]
  },
  {
   "cell_type": "code",
   "execution_count": 26,
   "metadata": {},
   "outputs": [],
   "source": [
    "random_state = 59\n",
    "np.random.seed(random_state)\n",
    "if torch.cuda.is_available():\n",
    "    torch.cuda.manual_seed(random_state)"
   ]
  },
  {
   "cell_type": "markdown",
   "metadata": {},
   "source": [
    "### Cài đặt thiết bị tính toán:"
   ]
  },
  {
   "cell_type": "code",
   "execution_count": 27,
   "metadata": {},
   "outputs": [],
   "source": [
    "device = torch.device('cuda' if torch.cuda.is_available() else 'cpu')"
   ]
  },
  {
   "cell_type": "markdown",
   "metadata": {},
   "source": [
    "### Đọc bộ dữ liệu:"
   ]
  },
  {
   "cell_type": "code",
   "execution_count": 28,
   "metadata": {},
   "outputs": [
    {
     "data": {
      "text/html": [
       "<div>\n",
       "<style scoped>\n",
       "    .dataframe tbody tr th:only-of-type {\n",
       "        vertical-align: middle;\n",
       "    }\n",
       "\n",
       "    .dataframe tbody tr th {\n",
       "        vertical-align: top;\n",
       "    }\n",
       "\n",
       "    .dataframe thead th {\n",
       "        text-align: right;\n",
       "    }\n",
       "</style>\n",
       "<table border=\"1\" class=\"dataframe\">\n",
       "  <thead>\n",
       "    <tr style=\"text-align: right;\">\n",
       "      <th></th>\n",
       "      <th>MPG</th>\n",
       "      <th>Cylinders</th>\n",
       "      <th>Displacement</th>\n",
       "      <th>Horsepower</th>\n",
       "      <th>Weight</th>\n",
       "      <th>Acceleration</th>\n",
       "      <th>Model Year</th>\n",
       "      <th>Europe</th>\n",
       "      <th>Japan</th>\n",
       "      <th>USA</th>\n",
       "    </tr>\n",
       "  </thead>\n",
       "  <tbody>\n",
       "    <tr>\n",
       "      <th>0</th>\n",
       "      <td>18.0</td>\n",
       "      <td>8</td>\n",
       "      <td>307.0</td>\n",
       "      <td>130.0</td>\n",
       "      <td>3504.0</td>\n",
       "      <td>12.0</td>\n",
       "      <td>70</td>\n",
       "      <td>0</td>\n",
       "      <td>0</td>\n",
       "      <td>1</td>\n",
       "    </tr>\n",
       "    <tr>\n",
       "      <th>1</th>\n",
       "      <td>15.0</td>\n",
       "      <td>8</td>\n",
       "      <td>350.0</td>\n",
       "      <td>165.0</td>\n",
       "      <td>3693.0</td>\n",
       "      <td>11.5</td>\n",
       "      <td>70</td>\n",
       "      <td>0</td>\n",
       "      <td>0</td>\n",
       "      <td>1</td>\n",
       "    </tr>\n",
       "    <tr>\n",
       "      <th>2</th>\n",
       "      <td>18.0</td>\n",
       "      <td>8</td>\n",
       "      <td>318.0</td>\n",
       "      <td>150.0</td>\n",
       "      <td>3436.0</td>\n",
       "      <td>11.0</td>\n",
       "      <td>70</td>\n",
       "      <td>0</td>\n",
       "      <td>0</td>\n",
       "      <td>1</td>\n",
       "    </tr>\n",
       "    <tr>\n",
       "      <th>3</th>\n",
       "      <td>16.0</td>\n",
       "      <td>8</td>\n",
       "      <td>304.0</td>\n",
       "      <td>150.0</td>\n",
       "      <td>3433.0</td>\n",
       "      <td>12.0</td>\n",
       "      <td>70</td>\n",
       "      <td>0</td>\n",
       "      <td>0</td>\n",
       "      <td>1</td>\n",
       "    </tr>\n",
       "    <tr>\n",
       "      <th>4</th>\n",
       "      <td>17.0</td>\n",
       "      <td>8</td>\n",
       "      <td>302.0</td>\n",
       "      <td>140.0</td>\n",
       "      <td>3449.0</td>\n",
       "      <td>10.5</td>\n",
       "      <td>70</td>\n",
       "      <td>0</td>\n",
       "      <td>0</td>\n",
       "      <td>1</td>\n",
       "    </tr>\n",
       "  </tbody>\n",
       "</table>\n",
       "</div>"
      ],
      "text/plain": [
       "    MPG  Cylinders  Displacement  Horsepower  Weight  Acceleration  \\\n",
       "0  18.0          8         307.0       130.0  3504.0          12.0   \n",
       "1  15.0          8         350.0       165.0  3693.0          11.5   \n",
       "2  18.0          8         318.0       150.0  3436.0          11.0   \n",
       "3  16.0          8         304.0       150.0  3433.0          12.0   \n",
       "4  17.0          8         302.0       140.0  3449.0          10.5   \n",
       "\n",
       "   Model Year  Europe  Japan  USA  \n",
       "0          70       0      0    1  \n",
       "1          70       0      0    1  \n",
       "2          70       0      0    1  \n",
       "3          70       0      0    1  \n",
       "4          70       0      0    1  "
      ]
     },
     "execution_count": 28,
     "metadata": {},
     "output_type": "execute_result"
    }
   ],
   "source": [
    "data = pd.read_csv('./Auto_MPG_data.csv')\n",
    "data.head()"
   ]
  },
  {
   "cell_type": "markdown",
   "metadata": {},
   "source": [
    "### Tiền xử lý bộ dữ liệu:"
   ]
  },
  {
   "cell_type": "markdown",
   "metadata": {},
   "source": [
    "#### (a) Tách đặc trưng X và nhãn y:"
   ]
  },
  {
   "cell_type": "code",
   "execution_count": 29,
   "metadata": {},
   "outputs": [],
   "source": [
    "X = data.drop(columns='MPG').values\n",
    "y = data['MPG'].values"
   ]
  },
  {
   "cell_type": "markdown",
   "metadata": {},
   "source": [
    "#### (b) Chia bộ dữ liệu train/val/test: 7:2:1"
   ]
  },
  {
   "cell_type": "code",
   "execution_count": 30,
   "metadata": {},
   "outputs": [],
   "source": [
    "val_size = 0.2\n",
    "test_size = 0.125\n",
    "is_shuffle = True\n",
    "\n",
    "X_train, X_val, y_train, y_val = train_test_split(\n",
    "    X, y, test_size=val_size, shuffle=is_shuffle, random_state=random_state)\n",
    "X_train, X_test, y_train, y_test = train_test_split(\n",
    "    X_train, y_train, test_size=test_size, shuffle=is_shuffle, random_state=random_state)"
   ]
  },
  {
   "cell_type": "code",
   "execution_count": 31,
   "metadata": {},
   "outputs": [
    {
     "name": "stdout",
     "output_type": "stream",
     "text": [
      "Number of training samples: 273\n",
      "Number of val samples: 79\n",
      "Number of test samples: 40\n"
     ]
    }
   ],
   "source": [
    "print(f'Number of training samples: {X_train.shape[0]}')\n",
    "print(f'Number of val samples: {X_val.shape[0]}')\n",
    "print(f'Number of test samples: {X_test.shape[0]}')"
   ]
  },
  {
   "cell_type": "markdown",
   "metadata": {},
   "source": [
    "#### (c) Chuẩn hóa đặc trưng đầu vào:"
   ]
  },
  {
   "cell_type": "code",
   "execution_count": 32,
   "metadata": {},
   "outputs": [],
   "source": [
    "normalize = StandardScaler()\n",
    "\n",
    "X_train = normalize.fit_transform(X_train)\n",
    "X_val = normalize.transform(X_val)\n",
    "X_test = normalize.transform(X_test)\n",
    "\n",
    "X_train = torch.tensor(X_train, dtype=torch.float32)\n",
    "X_val = torch.tensor(X_val, dtype=torch.float32)\n",
    "X_test = torch.tensor(X_test, dtype=torch.float32)\n",
    "y_train = torch.tensor(y_train, dtype=torch.float32)\n",
    "y_val = torch.tensor(y_val, dtype=torch.float32)\n",
    "y_test = torch.tensor(y_test, dtype=torch.float32)"
   ]
  },
  {
   "cell_type": "markdown",
   "metadata": {},
   "source": [
    "### Xây dựng DataLoader:"
   ]
  },
  {
   "cell_type": "markdown",
   "metadata": {},
   "source": [
    "Phải định nghĩa CustomDataset như dưới DataLoader mới hoạt động"
   ]
  },
  {
   "cell_type": "code",
   "execution_count": 33,
   "metadata": {},
   "outputs": [],
   "source": [
    "class CustomDataset:\n",
    "    def __init__(self, X, y) -> None:\n",
    "        self.X = X\n",
    "        self.y = y\n",
    "    def __len__(self):\n",
    "        return len(self.X)\n",
    "    \n",
    "    def __getitem__(self, key):\n",
    "        return (self.X[key], self.y[key])"
   ]
  },
  {
   "cell_type": "code",
   "execution_count": 34,
   "metadata": {},
   "outputs": [],
   "source": [
    "batch_size = 32\n",
    "train_dataset = CustomDataset(X_train, y_train)\n",
    "val_dataset = CustomDataset(X_val, y_val)\n",
    "\n",
    "train_loader = DataLoader(train_dataset, batch_size=batch_size, shuffle=is_shuffle)\n",
    "val_loader = DataLoader(\n",
    "    val_dataset, batch_size=batch_size, shuffle=is_shuffle)"
   ]
  },
  {
   "cell_type": "markdown",
   "metadata": {},
   "source": [
    "### Xây dựng mạng MLP:"
   ]
  },
  {
   "cell_type": "code",
   "execution_count": 35,
   "metadata": {},
   "outputs": [],
   "source": [
    "class MLP(nn.Module):\n",
    "    def __init__(self, input_dims, hidden_dims, output_dims) -> None:\n",
    "        super().__init__()\n",
    "        self.linear1 = nn.Linear(input_dims, hidden_dims)\n",
    "        self.linear2 = nn.Linear(hidden_dims, hidden_dims)\n",
    "        self.output = nn.Linear(hidden_dims, output_dims) \n",
    "\n",
    "    def forward(self, x):\n",
    "        x = self.linear1(x)\n",
    "        x = F.sigmoid(x)\n",
    "        x = self.linear2(x)\n",
    "        x = F.sigmoid(x)\n",
    "        output = self.output(x)\n",
    "        # Loại bỏ chiều dư thừa (chiều nào bằng 1 thì bỏ)\n",
    "        return output.squeeze(1)\n",
    "    "
   ]
  },
  {
   "cell_type": "code",
   "execution_count": 36,
   "metadata": {},
   "outputs": [],
   "source": [
    "input_dims = X.shape[1]\n",
    "output_dims = 1\n",
    "hidden_dims = 64\n",
    "model = MLP(input_dims,hidden_dims, output_dims).to(device=device)"
   ]
  },
  {
   "cell_type": "markdown",
   "metadata": {},
   "source": [
    "### Khai báo hàm loss và optimizer:"
   ]
  },
  {
   "cell_type": "code",
   "execution_count": 37,
   "metadata": {},
   "outputs": [],
   "source": [
    "lr = 1e-2\n",
    "criterion = nn.MSELoss()\n",
    "optimizer = torch.optim.SGD(model.parameters(), lr=lr)"
   ]
  },
  {
   "cell_type": "code",
   "execution_count": 38,
   "metadata": {},
   "outputs": [
    {
     "data": {
      "text/plain": [
       "4865"
      ]
     },
     "execution_count": 38,
     "metadata": {},
     "output_type": "execute_result"
    }
   ],
   "source": [
    "total = 0\n",
    "for params in model.parameters():\n",
    "    total += params.numel()\n",
    "\n",
    "total"
   ]
  },
  {
   "cell_type": "markdown",
   "metadata": {},
   "source": [
    "### Xây dựng hàm tính điểm R2:"
   ]
  },
  {
   "cell_type": "code",
   "execution_count": 39,
   "metadata": {},
   "outputs": [],
   "source": [
    "def r_squared(y_true, y_pred):\n",
    "    y_true = torch.Tensor(y_true).to(device)\n",
    "    y_pred = torch.Tensor(y_pred).to(device)\n",
    "    mean_true = torch.mean(y_true)\n",
    "    ss_tot = torch.sum((y_true - mean_true) ** 2)\n",
    "    ss_res = torch.sum((y_true - y_pred) ** 2)\n",
    "    r2 = 1 - (ss_res / ss_tot)\n",
    "    return r2.cpu()"
   ]
  },
  {
   "cell_type": "markdown",
   "metadata": {},
   "source": [
    "### Huấn luyện mô hình:"
   ]
  },
  {
   "cell_type": "markdown",
   "metadata": {},
   "source": [
    "chế độ model.train sẽ bật 2 cơ chế sau : \n",
    "- Dropout: một phương pháp regularization (điều chuẩn hóa) giúp ngăn chặn hiện tượng overfitting và co-adaptation of neurons (tức là khi các nơ-ron phụ thuộc quá nhiều vào nhau).\n",
    "- BatchNorm: cải thiện hiệu quả huấn luyện và giảm hiện tượng \"internal covariate shift\"\n",
    "\n",
    "link tham khảo :\n",
    "- Dropout : https://pytorch.org/docs/stable/generated/torch.nn.Dropout.html#torch.nn.Dropout\n",
    "- Batchnorm : https://pytorch.org/docs/stable/search.html?q=class%3A%60BatchNorm%60&check_keywords=yes&area=default\n"
   ]
  },
  {
   "cell_type": "code",
   "execution_count": 40,
   "metadata": {},
   "outputs": [
    {
     "name": "stdout",
     "output_type": "stream",
     "text": [
      "\n",
      "EPOCH 1:\tTraining loss: 162.053\tValidation loss: 54.697\n"
     ]
    },
    {
     "name": "stdout",
     "output_type": "stream",
     "text": [
      "\n",
      "EPOCH 2:\tTraining loss: 47.911\tValidation loss: 38.170\n",
      "\n",
      "EPOCH 3:\tTraining loss: 34.839\tValidation loss: 24.045\n",
      "\n",
      "EPOCH 4:\tTraining loss: 27.559\tValidation loss: 16.678\n",
      "\n",
      "EPOCH 5:\tTraining loss: 21.168\tValidation loss: 13.330\n",
      "\n",
      "EPOCH 6:\tTraining loss: 18.701\tValidation loss: 11.547\n",
      "\n",
      "EPOCH 7:\tTraining loss: 16.429\tValidation loss: 9.389\n",
      "\n",
      "EPOCH 8:\tTraining loss: 15.136\tValidation loss: 8.337\n",
      "\n",
      "EPOCH 9:\tTraining loss: 15.268\tValidation loss: 12.711\n",
      "\n",
      "EPOCH 10:\tTraining loss: 13.716\tValidation loss: 8.228\n",
      "\n",
      "EPOCH 11:\tTraining loss: 14.396\tValidation loss: 7.688\n",
      "\n",
      "EPOCH 12:\tTraining loss: 13.154\tValidation loss: 8.106\n",
      "\n",
      "EPOCH 13:\tTraining loss: 12.055\tValidation loss: 7.965\n",
      "\n",
      "EPOCH 14:\tTraining loss: 12.064\tValidation loss: 7.551\n",
      "\n",
      "EPOCH 15:\tTraining loss: 12.395\tValidation loss: 8.347\n",
      "\n",
      "EPOCH 16:\tTraining loss: 13.594\tValidation loss: 9.635\n",
      "\n",
      "EPOCH 17:\tTraining loss: 11.365\tValidation loss: 7.925\n",
      "\n",
      "EPOCH 18:\tTraining loss: 11.404\tValidation loss: 7.403\n",
      "\n",
      "EPOCH 19:\tTraining loss: 11.649\tValidation loss: 7.738\n",
      "\n",
      "EPOCH 20:\tTraining loss: 11.494\tValidation loss: 7.093\n",
      "\n",
      "EPOCH 21:\tTraining loss: 10.671\tValidation loss: 7.857\n",
      "\n",
      "EPOCH 22:\tTraining loss: 10.938\tValidation loss: 8.097\n",
      "\n",
      "EPOCH 23:\tTraining loss: 10.607\tValidation loss: 9.691\n",
      "\n",
      "EPOCH 24:\tTraining loss: 10.867\tValidation loss: 7.595\n",
      "\n",
      "EPOCH 25:\tTraining loss: 10.455\tValidation loss: 7.087\n",
      "\n",
      "EPOCH 26:\tTraining loss: 10.697\tValidation loss: 9.804\n",
      "\n",
      "EPOCH 27:\tTraining loss: 10.153\tValidation loss: 5.678\n",
      "\n",
      "EPOCH 28:\tTraining loss: 9.827\tValidation loss: 6.143\n",
      "\n",
      "EPOCH 29:\tTraining loss: 10.228\tValidation loss: 7.043\n",
      "\n",
      "EPOCH 30:\tTraining loss: 9.846\tValidation loss: 7.859\n",
      "\n",
      "EPOCH 31:\tTraining loss: 9.733\tValidation loss: 5.495\n",
      "\n",
      "EPOCH 32:\tTraining loss: 9.784\tValidation loss: 5.772\n",
      "\n",
      "EPOCH 33:\tTraining loss: 10.271\tValidation loss: 6.682\n",
      "\n",
      "EPOCH 34:\tTraining loss: 10.169\tValidation loss: 6.915\n",
      "\n",
      "EPOCH 35:\tTraining loss: 9.600\tValidation loss: 5.885\n",
      "\n",
      "EPOCH 36:\tTraining loss: 9.483\tValidation loss: 5.337\n",
      "\n",
      "EPOCH 37:\tTraining loss: 9.110\tValidation loss: 10.154\n",
      "\n",
      "EPOCH 38:\tTraining loss: 8.970\tValidation loss: 6.341\n",
      "\n",
      "EPOCH 39:\tTraining loss: 8.966\tValidation loss: 4.942\n",
      "\n",
      "EPOCH 40:\tTraining loss: 9.766\tValidation loss: 4.999\n",
      "\n",
      "EPOCH 41:\tTraining loss: 9.409\tValidation loss: 5.471\n",
      "\n",
      "EPOCH 42:\tTraining loss: 8.878\tValidation loss: 5.317\n",
      "\n",
      "EPOCH 43:\tTraining loss: 9.030\tValidation loss: 5.457\n",
      "\n",
      "EPOCH 44:\tTraining loss: 8.527\tValidation loss: 8.142\n",
      "\n",
      "EPOCH 45:\tTraining loss: 9.064\tValidation loss: 6.324\n",
      "\n",
      "EPOCH 46:\tTraining loss: 8.601\tValidation loss: 6.952\n",
      "\n",
      "EPOCH 47:\tTraining loss: 9.179\tValidation loss: 8.857\n",
      "\n",
      "EPOCH 48:\tTraining loss: 9.584\tValidation loss: 5.186\n",
      "\n",
      "EPOCH 49:\tTraining loss: 8.670\tValidation loss: 6.785\n",
      "\n",
      "EPOCH 50:\tTraining loss: 9.379\tValidation loss: 5.713\n",
      "\n",
      "EPOCH 51:\tTraining loss: 8.456\tValidation loss: 5.693\n",
      "\n",
      "EPOCH 52:\tTraining loss: 9.172\tValidation loss: 5.470\n",
      "\n",
      "EPOCH 53:\tTraining loss: 8.443\tValidation loss: 5.133\n",
      "\n",
      "EPOCH 54:\tTraining loss: 8.687\tValidation loss: 6.192\n",
      "\n",
      "EPOCH 55:\tTraining loss: 8.118\tValidation loss: 4.757\n",
      "\n",
      "EPOCH 56:\tTraining loss: 8.701\tValidation loss: 5.033\n",
      "\n",
      "EPOCH 57:\tTraining loss: 8.711\tValidation loss: 5.698\n",
      "\n",
      "EPOCH 58:\tTraining loss: 8.694\tValidation loss: 5.125\n",
      "\n",
      "EPOCH 59:\tTraining loss: 8.757\tValidation loss: 6.270\n",
      "\n",
      "EPOCH 60:\tTraining loss: 9.465\tValidation loss: 7.485\n",
      "\n",
      "EPOCH 61:\tTraining loss: 8.589\tValidation loss: 6.061\n",
      "\n",
      "EPOCH 62:\tTraining loss: 8.258\tValidation loss: 5.083\n",
      "\n",
      "EPOCH 63:\tTraining loss: 8.391\tValidation loss: 4.980\n",
      "\n",
      "EPOCH 64:\tTraining loss: 9.099\tValidation loss: 6.262\n",
      "\n",
      "EPOCH 65:\tTraining loss: 8.750\tValidation loss: 8.334\n",
      "\n",
      "EPOCH 66:\tTraining loss: 9.904\tValidation loss: 7.005\n",
      "\n",
      "EPOCH 67:\tTraining loss: 8.621\tValidation loss: 7.189\n",
      "\n",
      "EPOCH 68:\tTraining loss: 8.504\tValidation loss: 4.799\n",
      "\n",
      "EPOCH 69:\tTraining loss: 7.878\tValidation loss: 4.761\n",
      "\n",
      "EPOCH 70:\tTraining loss: 8.658\tValidation loss: 5.018\n",
      "\n",
      "EPOCH 71:\tTraining loss: 7.960\tValidation loss: 4.529\n",
      "\n",
      "EPOCH 72:\tTraining loss: 8.888\tValidation loss: 5.566\n",
      "\n",
      "EPOCH 73:\tTraining loss: 8.561\tValidation loss: 5.804\n",
      "\n",
      "EPOCH 74:\tTraining loss: 10.018\tValidation loss: 5.241\n",
      "\n",
      "EPOCH 75:\tTraining loss: 7.998\tValidation loss: 6.013\n",
      "\n",
      "EPOCH 76:\tTraining loss: 8.206\tValidation loss: 7.649\n",
      "\n",
      "EPOCH 77:\tTraining loss: 8.102\tValidation loss: 5.235\n",
      "\n",
      "EPOCH 78:\tTraining loss: 8.033\tValidation loss: 5.088\n",
      "\n",
      "EPOCH 79:\tTraining loss: 8.746\tValidation loss: 4.677\n",
      "\n",
      "EPOCH 80:\tTraining loss: 8.398\tValidation loss: 6.405\n",
      "\n",
      "EPOCH 81:\tTraining loss: 8.794\tValidation loss: 5.380\n",
      "\n",
      "EPOCH 82:\tTraining loss: 8.317\tValidation loss: 10.079\n",
      "\n",
      "EPOCH 83:\tTraining loss: 8.499\tValidation loss: 5.974\n",
      "\n",
      "EPOCH 84:\tTraining loss: 7.986\tValidation loss: 5.036\n",
      "\n",
      "EPOCH 85:\tTraining loss: 8.303\tValidation loss: 5.715\n",
      "\n",
      "EPOCH 86:\tTraining loss: 8.691\tValidation loss: 4.837\n",
      "\n",
      "EPOCH 87:\tTraining loss: 8.337\tValidation loss: 5.227\n",
      "\n",
      "EPOCH 88:\tTraining loss: 8.297\tValidation loss: 4.701\n",
      "\n",
      "EPOCH 89:\tTraining loss: 7.874\tValidation loss: 5.017\n",
      "\n",
      "EPOCH 90:\tTraining loss: 7.800\tValidation loss: 7.686\n",
      "\n",
      "EPOCH 91:\tTraining loss: 8.464\tValidation loss: 5.302\n",
      "\n",
      "EPOCH 92:\tTraining loss: 8.370\tValidation loss: 5.924\n",
      "\n",
      "EPOCH 93:\tTraining loss: 8.239\tValidation loss: 5.435\n",
      "\n",
      "EPOCH 94:\tTraining loss: 8.639\tValidation loss: 6.842\n",
      "\n",
      "EPOCH 95:\tTraining loss: 8.086\tValidation loss: 4.602\n",
      "\n",
      "EPOCH 96:\tTraining loss: 8.283\tValidation loss: 5.189\n",
      "\n",
      "EPOCH 97:\tTraining loss: 8.457\tValidation loss: 7.365\n",
      "\n",
      "EPOCH 98:\tTraining loss: 9.698\tValidation loss: 5.918\n",
      "\n",
      "EPOCH 99:\tTraining loss: 7.899\tValidation loss: 5.070\n",
      "\n",
      "EPOCH 100:\tTraining loss: 7.537\tValidation loss: 4.767\n"
     ]
    }
   ],
   "source": [
    "epochs = 100\n",
    "train_losses = []\n",
    "val_losses = []\n",
    "train_r2 = []\n",
    "val_r2 = []\n",
    "\n",
    "for epoch in range(epochs):\n",
    "    train_loss = 0\n",
    "    train_target = []\n",
    "    val_target = []\n",
    "    train_predict = []\n",
    "    val_predict = []\n",
    "    model.train()\n",
    "\n",
    "    for x_b_train, y_b_train in train_loader:\n",
    "        x_b_train = x_b_train.to(device)\n",
    "        y_b_train = y_b_train.to(device)\n",
    "        \n",
    "        optimizer.zero_grad()\n",
    "        y_b_predict = model(x_b_train)\n",
    "        loss = criterion(y_b_predict, y_b_train)\n",
    "        loss.backward()\n",
    "        optimizer.step()\n",
    "\n",
    "        train_predict.extend(y_b_predict.tolist())\n",
    "        train_target.extend(y_b_train.tolist())\n",
    "\n",
    "\n",
    "        train_loss += loss.item()\n",
    "\n",
    "    train_loss /= len(train_loader)\n",
    "    train_losses.append(train_loss)\n",
    "    train_r2.append(r_squared(y_true=train_target, y_pred=train_predict))\n",
    "\n",
    "    model.eval()\n",
    "    val_loss = 0.0\n",
    "    with torch.no_grad():\n",
    "        for x_b_val, y_b_val in val_loader:\n",
    "            x_b_val = x_b_val.to(device)\n",
    "            y_b_val = y_b_val.to(device)\n",
    "\n",
    "            y_val_predict = model(x_b_val)\n",
    "            loss = criterion(y_val_predict, y_b_val)\n",
    "            val_loss += loss \n",
    "\n",
    "            val_predict.extend(y_val_predict.tolist())\n",
    "            val_target.extend(y_b_val.tolist())\n",
    "\n",
    "    val_loss /= len(val_loader)\n",
    "    val_losses.append(val_loss.item())\n",
    "    val_r2.append(r_squared(y_true=val_target, y_pred=val_predict))\n",
    "\n",
    "    print(\n",
    "        f'\\nEPOCH {epoch + 1}:\\tTraining loss: {train_loss:.3f}\\tValidation loss: {val_loss:.3f}')\n",
    "\n",
    "    "
   ]
  },
  {
   "cell_type": "markdown",
   "metadata": {},
   "source": [
    "### Đánh giá mô hình:"
   ]
  },
  {
   "cell_type": "code",
   "execution_count": 41,
   "metadata": {},
   "outputs": [
    {
     "name": "stdout",
     "output_type": "stream",
     "text": [
      "Evaluation on test set:\n",
      "R2: 0.8914064168930054\n"
     ]
    }
   ],
   "source": [
    "model.eval()\n",
    "with torch.no_grad():\n",
    "    y_hat = model(X_test.to(device))\n",
    "    test_set_r2 = r_squared(y_test, y_hat)\n",
    "\n",
    "print('Evaluation on test set:')\n",
    "print(f'R2: {test_set_r2}')"
   ]
  },
  {
   "cell_type": "code",
   "execution_count": 43,
   "metadata": {},
   "outputs": [
    {
     "data": {
      "image/png": "[encoded data removed]",
      "text/plain": [
       "<Figure size 1200x1000 with 4 Axes>"
      ]
     },
     "metadata": {},
     "output_type": "display_data"
    }
   ],
   "source": [
    "\n",
    "fig, ax = plt.subplots(2, 2, figsize=(12, 10))\n",
    "ax[0, 0].plot(train_losses, color='green')\n",
    "ax[0, 0].set(xlabel='Epoch', ylabel='Loss')\n",
    "ax[0, 0].set_title('Training Loss')\n",
    "\n",
    "ax[0, 1].plot(val_losses, color='orange')\n",
    "ax[0, 1].set(xlabel='Epoch', ylabel='Loss')\n",
    "ax[0, 1].set_title('Validation Loss')\n",
    "\n",
    "ax[1, 0].plot(train_r2, color='green')\n",
    "ax[1, 0].set(xlabel='Epoch', ylabel='R2')\n",
    "ax[1, 0].set_title('Training R2')\n",
    "\n",
    "ax[1, 1].plot(val_r2, color='orange')\n",
    "ax[1, 1].set(xlabel='Epoch', ylabel='R2')\n",
    "ax[1, 1].set_title('Validation R2')\n",
    "\n",
    "plt.show()"
   ]
  }
 ],
 "metadata": {
  "kernelspec": {
   "display_name": "40daysPython_env",
   "language": "python",
   "name": "python3"
  },
  "language_info": {
   "codemirror_mode": {
    "name": "ipython",
    "version": 3
   },
   "file_extension": ".py",
   "mimetype": "text/x-python",
   "name": "python",
   "nbconvert_exporter": "python",
   "pygments_lexer": "ipython3",
   "version": "3.10.13"
  }
 },
 "nbformat": 4,
 "nbformat_minor": 2
}

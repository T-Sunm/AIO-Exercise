{
 "cells": [
  {
   "cell_type": "code",
   "execution_count": 81,
   "metadata": {},
   "outputs": [
    {
     "name": "stderr",
     "output_type": "stream",
     "text": [
      "D:\\Asus\\Ungdung\\Anacoda\\Anacoda\\envs\\40daysPython_env\\lib\\site-packages\\gdown\\__main__.py:132: FutureWarning: Option `--id` was deprecated in version 4.3.1 and will be removed in 5.0. You don't need to pass it anymore to use a file ID.\n",
      "  warnings.warn(\n",
      "Downloading...\n",
      "From: https://drive.google.com/uc?id=1qiUDDoYyRLBiKOoYWdFl_5WByHE8Cugu\n",
      "To: d:\\Asus\\AIO\\AIO-Exercise\\module5\\week3\\Auto_MPG_data.csv\n",
      "\n",
      "  0%|          | 0.00/15.4k [00:00<?, ?B/s]\n",
      "100%|██████████| 15.4k/15.4k [00:00<00:00, 671kB/s]\n"
     ]
    }
   ],
   "source": [
    "!gdown --id 1qiUDDoYyRLBiKOoYWdFl_5WByHE8Cugu\n"
   ]
  },
  {
   "cell_type": "code",
   "execution_count": 82,
   "metadata": {},
   "outputs": [],
   "source": [
    "import numpy as np\n",
    "import pandas as pd\n",
    "import matplotlib.pyplot as plt\n",
    "import torch\n",
    "import torch.nn as nn\n",
    "import torch.nn.functional as F\n",
    "from torch.utils.data import Dataset, DataLoader\n",
    "\n",
    "from sklearn.model_selection import train_test_split\n",
    "from sklearn.preprocessing import StandardScaler"
   ]
  },
  {
   "cell_type": "markdown",
   "metadata": {},
   "source": [
    "### Cài đặt giá trị ngẫu nhiên cố định:"
   ]
  },
  {
   "cell_type": "code",
   "execution_count": 83,
   "metadata": {},
   "outputs": [],
   "source": [
    "random_state = 59\n",
    "np.random.seed(random_state)\n",
    "if torch.cuda.is_available():\n",
    "    torch.cuda.manual_seed(random_state)"
   ]
  },
  {
   "cell_type": "markdown",
   "metadata": {},
   "source": [
    "### Cài đặt thiết bị tính toán:"
   ]
  },
  {
   "cell_type": "code",
   "execution_count": 84,
   "metadata": {},
   "outputs": [],
   "source": [
    "device = torch.device('cuda' if torch.cuda.is_available() else 'cpu')"
   ]
  },
  {
   "cell_type": "markdown",
   "metadata": {},
   "source": [
    "### Đọc bộ dữ liệu:"
   ]
  },
  {
   "cell_type": "code",
   "execution_count": 85,
   "metadata": {},
   "outputs": [
    {
     "data": {
      "text/html": [
       "<div>\n",
       "<style scoped>\n",
       "    .dataframe tbody tr th:only-of-type {\n",
       "        vertical-align: middle;\n",
       "    }\n",
       "\n",
       "    .dataframe tbody tr th {\n",
       "        vertical-align: top;\n",
       "    }\n",
       "\n",
       "    .dataframe thead th {\n",
       "        text-align: right;\n",
       "    }\n",
       "</style>\n",
       "<table border=\"1\" class=\"dataframe\">\n",
       "  <thead>\n",
       "    <tr style=\"text-align: right;\">\n",
       "      <th></th>\n",
       "      <th>MPG</th>\n",
       "      <th>Cylinders</th>\n",
       "      <th>Displacement</th>\n",
       "      <th>Horsepower</th>\n",
       "      <th>Weight</th>\n",
       "      <th>Acceleration</th>\n",
       "      <th>Model Year</th>\n",
       "      <th>Europe</th>\n",
       "      <th>Japan</th>\n",
       "      <th>USA</th>\n",
       "    </tr>\n",
       "  </thead>\n",
       "  <tbody>\n",
       "    <tr>\n",
       "      <th>0</th>\n",
       "      <td>18.0</td>\n",
       "      <td>8</td>\n",
       "      <td>307.0</td>\n",
       "      <td>130.0</td>\n",
       "      <td>3504.0</td>\n",
       "      <td>12.0</td>\n",
       "      <td>70</td>\n",
       "      <td>0</td>\n",
       "      <td>0</td>\n",
       "      <td>1</td>\n",
       "    </tr>\n",
       "    <tr>\n",
       "      <th>1</th>\n",
       "      <td>15.0</td>\n",
       "      <td>8</td>\n",
       "      <td>350.0</td>\n",
       "      <td>165.0</td>\n",
       "      <td>3693.0</td>\n",
       "      <td>11.5</td>\n",
       "      <td>70</td>\n",
       "      <td>0</td>\n",
       "      <td>0</td>\n",
       "      <td>1</td>\n",
       "    </tr>\n",
       "    <tr>\n",
       "      <th>2</th>\n",
       "      <td>18.0</td>\n",
       "      <td>8</td>\n",
       "      <td>318.0</td>\n",
       "      <td>150.0</td>\n",
       "      <td>3436.0</td>\n",
       "      <td>11.0</td>\n",
       "      <td>70</td>\n",
       "      <td>0</td>\n",
       "      <td>0</td>\n",
       "      <td>1</td>\n",
       "    </tr>\n",
       "    <tr>\n",
       "      <th>3</th>\n",
       "      <td>16.0</td>\n",
       "      <td>8</td>\n",
       "      <td>304.0</td>\n",
       "      <td>150.0</td>\n",
       "      <td>3433.0</td>\n",
       "      <td>12.0</td>\n",
       "      <td>70</td>\n",
       "      <td>0</td>\n",
       "      <td>0</td>\n",
       "      <td>1</td>\n",
       "    </tr>\n",
       "    <tr>\n",
       "      <th>4</th>\n",
       "      <td>17.0</td>\n",
       "      <td>8</td>\n",
       "      <td>302.0</td>\n",
       "      <td>140.0</td>\n",
       "      <td>3449.0</td>\n",
       "      <td>10.5</td>\n",
       "      <td>70</td>\n",
       "      <td>0</td>\n",
       "      <td>0</td>\n",
       "      <td>1</td>\n",
       "    </tr>\n",
       "  </tbody>\n",
       "</table>\n",
       "</div>"
      ],
      "text/plain": [
       "    MPG  Cylinders  Displacement  Horsepower  Weight  Acceleration  \\\n",
       "0  18.0          8         307.0       130.0  3504.0          12.0   \n",
       "1  15.0          8         350.0       165.0  3693.0          11.5   \n",
       "2  18.0          8         318.0       150.0  3436.0          11.0   \n",
       "3  16.0          8         304.0       150.0  3433.0          12.0   \n",
       "4  17.0          8         302.0       140.0  3449.0          10.5   \n",
       "\n",
       "   Model Year  Europe  Japan  USA  \n",
       "0          70       0      0    1  \n",
       "1          70       0      0    1  \n",
       "2          70       0      0    1  \n",
       "3          70       0      0    1  \n",
       "4          70       0      0    1  "
      ]
     },
     "execution_count": 85,
     "metadata": {},
     "output_type": "execute_result"
    }
   ],
   "source": [
    "data = pd.read_csv('./Auto_MPG_data.csv')\n",
    "data.head()"
   ]
  },
  {
   "cell_type": "markdown",
   "metadata": {},
   "source": [
    "### Tiền xử lý bộ dữ liệu:"
   ]
  },
  {
   "cell_type": "markdown",
   "metadata": {},
   "source": [
    "#### (a) Tách đặc trưng X và nhãn y:"
   ]
  },
  {
   "cell_type": "code",
   "execution_count": 86,
   "metadata": {},
   "outputs": [],
   "source": [
    "X = data.drop(columns='MPG').values\n",
    "y = data['MPG'].values"
   ]
  },
  {
   "cell_type": "markdown",
   "metadata": {},
   "source": [
    "#### (b) Chia bộ dữ liệu train/val/test: 7:2:1"
   ]
  },
  {
   "cell_type": "code",
   "execution_count": 87,
   "metadata": {},
   "outputs": [],
   "source": [
    "val_size = 0.2\n",
    "test_size = 0.125\n",
    "is_shuffle = True\n",
    "\n",
    "X_train, X_val, y_train, y_val = train_test_split(\n",
    "    X, y, test_size=val_size, shuffle=is_shuffle)\n",
    "X_train, X_test, y_train, y_test = train_test_split(\n",
    "    X_train, y_train, test_size=test_size, shuffle=is_shuffle)"
   ]
  },
  {
   "cell_type": "markdown",
   "metadata": {},
   "source": [
    "#### (c) Chuẩn hóa đặc trưng đầu vào:"
   ]
  },
  {
   "cell_type": "code",
   "execution_count": 88,
   "metadata": {},
   "outputs": [],
   "source": [
    "normalize = StandardScaler()\n",
    "\n",
    "X_train = normalize.fit_transform(X_train)\n",
    "X_val = normalize.transform(X_val)\n",
    "X_test = normalize.transform(X_test)\n",
    "\n",
    "X_train = torch.tensor(X_train, dtype=torch.float32)\n",
    "X_val = torch.tensor(X_val, dtype=torch.float32)\n",
    "X_test = torch.tensor(X_test, dtype=torch.float32)\n",
    "y_train = torch.tensor(y_train, dtype=torch.float32)\n",
    "y_val = torch.tensor(y_val, dtype=torch.float32)\n",
    "y_test = torch.tensor(y_test, dtype=torch.float32)"
   ]
  },
  {
   "cell_type": "markdown",
   "metadata": {},
   "source": [
    "### Xây dựng DataLoader:"
   ]
  },
  {
   "cell_type": "markdown",
   "metadata": {},
   "source": [
    "Phải định nghĩa CustomDataset như dưới DataLoader mới hoạt động"
   ]
  },
  {
   "cell_type": "code",
   "execution_count": 89,
   "metadata": {},
   "outputs": [],
   "source": [
    "class CustomDataset:\n",
    "    def __init__(self, X, y) -> None:\n",
    "        self.X = X\n",
    "        self.y = y\n",
    "    def __len__(self):\n",
    "        return len(self.X)\n",
    "    \n",
    "    def __getitem__(self, key):\n",
    "        return (self.X[key], self.y[key])"
   ]
  },
  {
   "cell_type": "code",
   "execution_count": 90,
   "metadata": {},
   "outputs": [],
   "source": [
    "batch_size = 32\n",
    "train_dataset = CustomDataset(X_train, y_train)\n",
    "val_dataset = CustomDataset(X_val, y_val)\n",
    "\n",
    "train_loader = DataLoader(train_dataset, batch_size=batch_size, shuffle=is_shuffle)\n",
    "val_loader = DataLoader(\n",
    "    val_dataset, batch_size=batch_size, shuffle=is_shuffle)"
   ]
  },
  {
   "cell_type": "markdown",
   "metadata": {},
   "source": [
    "### Xây dựng mạng MLP:"
   ]
  },
  {
   "cell_type": "code",
   "execution_count": null,
   "metadata": {},
   "outputs": [],
   "source": [
    "class MLP(nn.Module):\n",
    "    def __init__(self, input_dims, hidden_dims, output_dims) -> None:\n",
    "        super().__init__()\n",
    "        self.linear1 = nn.Linear(input_dims, hidden_dims)\n",
    "        self.linear2 = nn.Linear(hidden_dims, hidden_dims)\n",
    "        self.output = nn.Linear(hidden_dims, output_dims) \n",
    "\n",
    "    def forward(self, x):\n",
    "        x = self.linear1(x)\n",
    "        x = F.relu(x)\n",
    "        x = self.linear2(x)\n",
    "        x = F.relu(x)\n",
    "        output = self.output(x)\n",
    "        # Loại bỏ chiều dư thừa (chiều nào bằng 1 thì bỏ)\n",
    "        return output.squeeze(1)\n",
    "    "
   ]
  },
  {
   "cell_type": "code",
   "execution_count": 92,
   "metadata": {},
   "outputs": [],
   "source": [
    "input_dims = X.shape[1]\n",
    "output_dims = 1\n",
    "hidden_dims = 64\n",
    "model = MLP(input_dims, hidden_dims, output_dims).to(device=device)"
   ]
  },
  {
   "cell_type": "markdown",
   "metadata": {},
   "source": [
    "### Khai báo hàm loss và optimizer:"
   ]
  },
  {
   "cell_type": "code",
   "execution_count": 93,
   "metadata": {},
   "outputs": [],
   "source": [
    "lr = 1e-2\n",
    "criterion = nn.MSELoss()\n",
    "optimizer = torch.optim.SGD(model.parameters(), lr=lr)"
   ]
  },
  {
   "cell_type": "code",
   "execution_count": 94,
   "metadata": {},
   "outputs": [
    {
     "data": {
      "text/plain": [
       "4865"
      ]
     },
     "execution_count": 94,
     "metadata": {},
     "output_type": "execute_result"
    }
   ],
   "source": [
    "total = 0\n",
    "for params in model.parameters():\n",
    "    total += params.numel()\n",
    "\n",
    "total"
   ]
  },
  {
   "cell_type": "markdown",
   "metadata": {},
   "source": [
    "### Xây dựng hàm tính điểm R2:"
   ]
  },
  {
   "cell_type": "code",
   "execution_count": 95,
   "metadata": {},
   "outputs": [],
   "source": [
    "def r_squared(y_true, y_pred):\n",
    "    y_true = torch.Tensor(y_true).to(device)\n",
    "    y_pred = torch.Tensor(y_pred).to(device)\n",
    "    mean_true = torch.mean(y_true)\n",
    "    ss_tot = torch.sum((y_true - mean_true) ** 2)\n",
    "    ss_res = torch.sum((y_true - y_pred) ** 2)\n",
    "    r2 = 1 - (ss_res / ss_tot)\n",
    "    return r2"
   ]
  },
  {
   "cell_type": "markdown",
   "metadata": {},
   "source": [
    "### Huấn luyện mô hình:"
   ]
  },
  {
   "cell_type": "markdown",
   "metadata": {},
   "source": [
    "chế độ model.train sẽ bật 2 cơ chế sau : \n",
    "- Dropout: một phương pháp regularization (điều chuẩn hóa) giúp ngăn chặn hiện tượng overfitting và co-adaptation of neurons (tức là khi các nơ-ron phụ thuộc quá nhiều vào nhau).\n",
    "- BatchNorm: cải thiện hiệu quả huấn luyện và giảm hiện tượng \"internal covariate shift\"\n",
    "\n",
    "link tham khảo :\n",
    "- Dropout : https://pytorch.org/docs/stable/generated/torch.nn.Dropout.html#torch.nn.Dropout\n",
    "- Batchnorm : https://pytorch.org/docs/stable/search.html?q=class%3A%60BatchNorm%60&check_keywords=yes&area=default\n"
   ]
  },
  {
   "cell_type": "code",
   "execution_count": 96,
   "metadata": {},
   "outputs": [
    {
     "name": "stdout",
     "output_type": "stream",
     "text": [
      "\n",
      "EPOCH 1:\tTraining loss: 409.220\tValidation loss: 550.423\n",
      "\n",
      "EPOCH 2:\tTraining loss: 412.395\tValidation loss: 299.886\n",
      "\n",
      "EPOCH 3:\tTraining loss: 111.457\tValidation loss: 14.492\n",
      "\n",
      "EPOCH 4:\tTraining loss: 28.955\tValidation loss: 105.778\n",
      "\n",
      "EPOCH 5:\tTraining loss: 54.660\tValidation loss: 37.958\n",
      "\n",
      "EPOCH 6:\tTraining loss: 19.267\tValidation loss: 13.765\n",
      "\n",
      "EPOCH 7:\tTraining loss: 20.457\tValidation loss: 21.541\n",
      "\n",
      "EPOCH 8:\tTraining loss: 13.113\tValidation loss: 10.996\n",
      "\n",
      "EPOCH 9:\tTraining loss: 19.130\tValidation loss: 49.611\n",
      "\n",
      "EPOCH 10:\tTraining loss: 17.563\tValidation loss: 21.422\n",
      "\n",
      "EPOCH 11:\tTraining loss: 9.309\tValidation loss: 8.271\n",
      "\n",
      "EPOCH 12:\tTraining loss: 11.395\tValidation loss: 6.031\n",
      "\n",
      "EPOCH 13:\tTraining loss: 9.564\tValidation loss: 6.489\n",
      "\n",
      "EPOCH 14:\tTraining loss: 18.331\tValidation loss: 6.255\n",
      "\n",
      "EPOCH 15:\tTraining loss: 8.450\tValidation loss: 8.198\n",
      "\n",
      "EPOCH 16:\tTraining loss: 17.960\tValidation loss: 42.052\n",
      "\n",
      "EPOCH 17:\tTraining loss: 13.077\tValidation loss: 17.421\n",
      "\n",
      "EPOCH 18:\tTraining loss: 12.547\tValidation loss: 47.241\n",
      "\n",
      "EPOCH 19:\tTraining loss: 15.951\tValidation loss: 9.279\n",
      "\n",
      "EPOCH 20:\tTraining loss: 8.389\tValidation loss: 6.629\n",
      "\n",
      "EPOCH 21:\tTraining loss: 7.981\tValidation loss: 10.209\n",
      "\n",
      "EPOCH 22:\tTraining loss: 7.828\tValidation loss: 6.187\n",
      "\n",
      "EPOCH 23:\tTraining loss: 14.210\tValidation loss: 5.321\n",
      "\n",
      "EPOCH 24:\tTraining loss: 6.911\tValidation loss: 13.309\n",
      "\n",
      "EPOCH 25:\tTraining loss: 11.683\tValidation loss: 6.499\n",
      "\n",
      "EPOCH 26:\tTraining loss: 8.717\tValidation loss: 7.419\n",
      "\n",
      "EPOCH 27:\tTraining loss: 6.362\tValidation loss: 7.818\n",
      "\n",
      "EPOCH 28:\tTraining loss: 8.936\tValidation loss: 5.996\n",
      "\n",
      "EPOCH 29:\tTraining loss: 8.677\tValidation loss: 6.909\n",
      "\n",
      "EPOCH 30:\tTraining loss: 9.043\tValidation loss: 5.932\n",
      "\n",
      "EPOCH 31:\tTraining loss: 7.922\tValidation loss: 7.472\n",
      "\n",
      "EPOCH 32:\tTraining loss: 8.171\tValidation loss: 12.381\n",
      "\n",
      "EPOCH 33:\tTraining loss: 6.951\tValidation loss: 6.246\n",
      "\n",
      "EPOCH 34:\tTraining loss: 10.015\tValidation loss: 7.081\n",
      "\n",
      "EPOCH 35:\tTraining loss: 7.639\tValidation loss: 6.231\n",
      "\n",
      "EPOCH 36:\tTraining loss: 7.950\tValidation loss: 14.142\n",
      "\n",
      "EPOCH 37:\tTraining loss: 8.945\tValidation loss: 11.159\n",
      "\n",
      "EPOCH 38:\tTraining loss: 11.735\tValidation loss: 7.069\n",
      "\n",
      "EPOCH 39:\tTraining loss: 6.927\tValidation loss: 4.079\n",
      "\n",
      "EPOCH 40:\tTraining loss: 5.836\tValidation loss: 6.196\n",
      "\n",
      "EPOCH 41:\tTraining loss: 6.109\tValidation loss: 5.773\n",
      "\n",
      "EPOCH 42:\tTraining loss: 6.121\tValidation loss: 5.141\n",
      "\n",
      "EPOCH 43:\tTraining loss: 6.717\tValidation loss: 5.844\n",
      "\n",
      "EPOCH 44:\tTraining loss: 6.300\tValidation loss: 5.313\n",
      "\n",
      "EPOCH 45:\tTraining loss: 6.782\tValidation loss: 8.154\n",
      "\n",
      "EPOCH 46:\tTraining loss: 6.288\tValidation loss: 8.799\n",
      "\n",
      "EPOCH 47:\tTraining loss: 7.480\tValidation loss: 8.185\n",
      "\n",
      "EPOCH 48:\tTraining loss: 7.352\tValidation loss: 6.199\n",
      "\n",
      "EPOCH 49:\tTraining loss: 7.457\tValidation loss: 6.107\n",
      "\n",
      "EPOCH 50:\tTraining loss: 7.498\tValidation loss: 18.835\n",
      "\n",
      "EPOCH 51:\tTraining loss: 10.393\tValidation loss: 9.512\n",
      "\n",
      "EPOCH 52:\tTraining loss: 9.090\tValidation loss: 22.217\n",
      "\n",
      "EPOCH 53:\tTraining loss: 10.424\tValidation loss: 10.280\n",
      "\n",
      "EPOCH 54:\tTraining loss: 8.480\tValidation loss: 5.584\n",
      "\n",
      "EPOCH 55:\tTraining loss: 6.467\tValidation loss: 9.872\n",
      "\n",
      "EPOCH 56:\tTraining loss: 9.412\tValidation loss: 13.748\n",
      "\n",
      "EPOCH 57:\tTraining loss: 9.776\tValidation loss: 23.795\n",
      "\n",
      "EPOCH 58:\tTraining loss: 10.153\tValidation loss: 6.691\n",
      "\n",
      "EPOCH 59:\tTraining loss: 7.205\tValidation loss: 8.420\n",
      "\n",
      "EPOCH 60:\tTraining loss: 5.488\tValidation loss: 5.580\n",
      "\n",
      "EPOCH 61:\tTraining loss: 6.647\tValidation loss: 5.278\n",
      "\n",
      "EPOCH 62:\tTraining loss: 6.291\tValidation loss: 5.454\n",
      "\n",
      "EPOCH 63:\tTraining loss: 7.275\tValidation loss: 6.017\n",
      "\n",
      "EPOCH 64:\tTraining loss: 6.554\tValidation loss: 6.485\n",
      "\n",
      "EPOCH 65:\tTraining loss: 7.671\tValidation loss: 6.858\n",
      "\n",
      "EPOCH 66:\tTraining loss: 6.487\tValidation loss: 9.497\n",
      "\n",
      "EPOCH 67:\tTraining loss: 9.117\tValidation loss: 11.590\n",
      "\n",
      "EPOCH 68:\tTraining loss: 6.207\tValidation loss: 5.968\n",
      "\n",
      "EPOCH 69:\tTraining loss: 6.124\tValidation loss: 5.997\n",
      "\n",
      "EPOCH 70:\tTraining loss: 5.530\tValidation loss: 7.078\n",
      "\n",
      "EPOCH 71:\tTraining loss: 8.768\tValidation loss: 5.092\n",
      "\n",
      "EPOCH 72:\tTraining loss: 6.569\tValidation loss: 10.813\n",
      "\n",
      "EPOCH 73:\tTraining loss: 6.343\tValidation loss: 6.122\n",
      "\n",
      "EPOCH 74:\tTraining loss: 5.940\tValidation loss: 12.161\n",
      "\n",
      "EPOCH 75:\tTraining loss: 10.452\tValidation loss: 5.687\n",
      "\n",
      "EPOCH 76:\tTraining loss: 5.866\tValidation loss: 10.644\n",
      "\n",
      "EPOCH 77:\tTraining loss: 6.651\tValidation loss: 4.467\n",
      "\n",
      "EPOCH 78:\tTraining loss: 7.323\tValidation loss: 7.609\n",
      "\n",
      "EPOCH 79:\tTraining loss: 5.947\tValidation loss: 4.848\n",
      "\n",
      "EPOCH 80:\tTraining loss: 5.204\tValidation loss: 14.679\n",
      "\n",
      "EPOCH 81:\tTraining loss: 7.399\tValidation loss: 16.609\n",
      "\n",
      "EPOCH 82:\tTraining loss: 6.937\tValidation loss: 6.037\n",
      "\n",
      "EPOCH 83:\tTraining loss: 6.380\tValidation loss: 32.299\n",
      "\n",
      "EPOCH 84:\tTraining loss: 8.643\tValidation loss: 5.961\n",
      "\n",
      "EPOCH 85:\tTraining loss: 6.932\tValidation loss: 7.511\n",
      "\n",
      "EPOCH 86:\tTraining loss: 8.134\tValidation loss: 5.202\n",
      "\n",
      "EPOCH 87:\tTraining loss: 5.069\tValidation loss: 5.283\n",
      "\n",
      "EPOCH 88:\tTraining loss: 6.185\tValidation loss: 7.139\n",
      "\n",
      "EPOCH 89:\tTraining loss: 4.960\tValidation loss: 5.506\n",
      "\n",
      "EPOCH 90:\tTraining loss: 5.300\tValidation loss: 6.463\n",
      "\n",
      "EPOCH 91:\tTraining loss: 5.841\tValidation loss: 6.624\n",
      "\n",
      "EPOCH 92:\tTraining loss: 5.004\tValidation loss: 6.603\n",
      "\n",
      "EPOCH 93:\tTraining loss: 6.832\tValidation loss: 6.671\n",
      "\n",
      "EPOCH 94:\tTraining loss: 5.165\tValidation loss: 5.566\n",
      "\n",
      "EPOCH 95:\tTraining loss: 5.151\tValidation loss: 6.619\n",
      "\n",
      "EPOCH 96:\tTraining loss: 5.807\tValidation loss: 4.638\n",
      "\n",
      "EPOCH 97:\tTraining loss: 5.040\tValidation loss: 5.247\n",
      "\n",
      "EPOCH 98:\tTraining loss: 6.171\tValidation loss: 6.565\n",
      "\n",
      "EPOCH 99:\tTraining loss: 7.494\tValidation loss: 5.642\n",
      "\n",
      "EPOCH 100:\tTraining loss: 5.014\tValidation loss: 7.437\n"
     ]
    }
   ],
   "source": [
    "epochs = 100\n",
    "train_losses = []\n",
    "val_losses = []\n",
    "train_r2 = []\n",
    "val_r2 = []\n",
    "\n",
    "for epoch in range(epochs):\n",
    "    train_loss = 0\n",
    "    train_target = []\n",
    "    val_target = []\n",
    "    train_predict = []\n",
    "    val_predict = []\n",
    "    model.train()\n",
    "\n",
    "    for x_b_train, y_b_train in train_loader:\n",
    "        x_b_train = x_b_train.to(device)\n",
    "        y_b_train = y_b_train.to(device)\n",
    "        \n",
    "        optimizer.zero_grad()\n",
    "        y_b_predict = model(x_b_train)\n",
    "        loss = criterion(y_b_predict, y_b_train)\n",
    "        loss.backward()\n",
    "        optimizer.step()\n",
    "\n",
    "        train_predict.extend(y_b_predict.tolist())\n",
    "        train_target.extend(y_b_train.tolist())\n",
    "\n",
    "\n",
    "        train_loss += loss\n",
    "\n",
    "    train_loss /= len(train_loader)\n",
    "    train_losses.append(train_loss.item())\n",
    "    train_r2.append(r_squared(y_true=train_target, y_pred=train_predict))\n",
    "\n",
    "    model.eval()\n",
    "    val_loss = 0.0\n",
    "    with torch.no_grad():\n",
    "        for x_b_val, y_b_val in val_loader:\n",
    "            x_b_val = x_b_val.to(device)\n",
    "            y_b_val = y_b_val.to(device)\n",
    "\n",
    "            y_val_predict = model(x_b_val)\n",
    "            loss = criterion(y_val_predict, y_b_val)\n",
    "            val_loss += loss \n",
    "\n",
    "            val_predict.extend(y_val_predict.tolist())\n",
    "            val_target.extend(y_b_val.tolist())\n",
    "\n",
    "    val_loss /= len(val_loader)\n",
    "    val_losses.append(val_loss.item())\n",
    "    val_r2.append(r_squared(y_true=val_target, y_pred=val_predict))\n",
    "\n",
    "    print(\n",
    "        f'\\nEPOCH {epoch + 1}:\\tTraining loss: {train_loss:.3f}\\tValidation loss: {val_loss:.3f}')\n",
    "\n",
    "    "
   ]
  },
  {
   "cell_type": "markdown",
   "metadata": {},
   "source": [
    "### Đánh giá mô hình:"
   ]
  },
  {
   "cell_type": "code",
   "execution_count": 97,
   "metadata": {},
   "outputs": [
    {
     "name": "stdout",
     "output_type": "stream",
     "text": [
      "Evaluation on test set:\n",
      "R2: 0.8693352937698364\n"
     ]
    }
   ],
   "source": [
    "model.eval()\n",
    "with torch.no_grad():\n",
    "    y_hat = model(X_test)\n",
    "    test_set_r2 = r_squared(y_hat, y_test)\n",
    "\n",
    "print('Evaluation on test set:')\n",
    "print(f'R2: {test_set_r2}')"
   ]
  },
  {
   "cell_type": "code",
   "execution_count": 99,
   "metadata": {},
   "outputs": [
    {
     "data": {
      "text/plain": [
       "[<matplotlib.lines.Line2D at 0x242b61fb490>]"
      ]
     },
     "execution_count": 99,
     "metadata": {},
     "output_type": "execute_result"
    },
    {
     "data": {
      "image/png": "[encoded data removed]",
      "text/plain": [
       "<Figure size 640x480 with 1 Axes>"
      ]
     },
     "metadata": {},
     "output_type": "display_data"
    }
   ],
   "source": [
    "fig, ax = plt.subplots()\n",
    "ax.plot(np.arange(epochs), train_losses)\n",
    "ax.plot(np.arange(epochs), val_losses)"
   ]
  }
 ],
 "metadata": {
  "kernelspec": {
   "display_name": "40daysPython_env",
   "language": "python",
   "name": "python3"
  },
  "language_info": {
   "codemirror_mode": {
    "name": "ipython",
    "version": 3
   },
   "file_extension": ".py",
   "mimetype": "text/x-python",
   "name": "python",
   "nbconvert_exporter": "python",
   "pygments_lexer": "ipython3",
   "version": "3.10.13"
  }
 },
 "nbformat": 4,
 "nbformat_minor": 2
}

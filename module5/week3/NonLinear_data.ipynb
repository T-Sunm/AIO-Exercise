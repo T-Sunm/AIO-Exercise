{
 "cells": [
  {
   "cell_type": "code",
   "execution_count": 337,
   "metadata": {},
   "outputs": [],
   "source": [
    "import numpy as np\n",
    "import pandas as pd\n",
    "import matplotlib.pyplot as plt\n",
    "import torch\n",
    "import torch.nn as nn\n",
    "import torch.nn.functional as F\n",
    "from torch.utils.data import Dataset, DataLoader\n",
    "\n",
    "from sklearn.model_selection import train_test_split\n",
    "from sklearn.preprocessing import StandardScaler"
   ]
  },
  {
   "cell_type": "markdown",
   "metadata": {},
   "source": [
    "### Cài đặt giá trị ngẫu nhiên cố định:"
   ]
  },
  {
   "cell_type": "code",
   "execution_count": 338,
   "metadata": {},
   "outputs": [],
   "source": [
    "random_state = 59\n",
    "np.random.seed(random_state)\n",
    "if torch.cuda.is_available():\n",
    "    torch.cuda.manual_seed(random_state)"
   ]
  },
  {
   "cell_type": "markdown",
   "metadata": {},
   "source": [
    "### Cài đặt thiết bị tính toán:"
   ]
  },
  {
   "cell_type": "code",
   "execution_count": 339,
   "metadata": {},
   "outputs": [],
   "source": [
    "device = torch.device('cuda' if torch.cuda.is_available() else 'cpu')"
   ]
  },
  {
   "cell_type": "markdown",
   "metadata": {},
   "source": [
    "### Đọc bộ dữ liệu:"
   ]
  },
  {
   "cell_type": "code",
   "execution_count": 340,
   "metadata": {},
   "outputs": [],
   "source": [
    "data_path = \"NonLinear_data.npy\"\n",
    "data = np.load(data_path, allow_pickle=True).item()"
   ]
  },
  {
   "cell_type": "markdown",
   "metadata": {},
   "source": [
    "### Tiền xử lý bộ dữ liệu:"
   ]
  },
  {
   "cell_type": "markdown",
   "metadata": {},
   "source": [
    "#### (a) Tách đặc trưng X và nhãn y:"
   ]
  },
  {
   "cell_type": "code",
   "execution_count": 341,
   "metadata": {},
   "outputs": [
    {
     "name": "stdout",
     "output_type": "stream",
     "text": [
      "dict_keys(['X', 'labels'])\n"
     ]
    }
   ],
   "source": [
    "print(data.keys())\n",
    "X = data['X']\n",
    "y = data['labels']"
   ]
  },
  {
   "cell_type": "code",
   "execution_count": 342,
   "metadata": {},
   "outputs": [
    {
     "data": {
      "text/plain": [
       "array([[0.        , 0.        ],\n",
       "       [0.00096008, 0.01005528],\n",
       "       [0.01045864, 0.01728405],\n",
       "       [0.00087922, 0.03029027],\n",
       "       [0.00991727, 0.03916803]])"
      ]
     },
     "execution_count": 342,
     "metadata": {},
     "output_type": "execute_result"
    }
   ],
   "source": [
    "X[:5]"
   ]
  },
  {
   "cell_type": "code",
   "execution_count": 343,
   "metadata": {},
   "outputs": [
    {
     "data": {
      "text/plain": [
       "array([0, 0, 0, 0, 0], dtype=uint8)"
      ]
     },
     "execution_count": 343,
     "metadata": {},
     "output_type": "execute_result"
    }
   ],
   "source": [
    "y[:5]"
   ]
  },
  {
   "cell_type": "markdown",
   "metadata": {},
   "source": [
    "#### (b) Chia bộ dữ liệu train/val/test: 7:2:1"
   ]
  },
  {
   "cell_type": "code",
   "execution_count": 344,
   "metadata": {},
   "outputs": [],
   "source": [
    "val_size = 0.2\n",
    "test_size = 0.125\n",
    "is_shuffle = True\n",
    "\n",
    "X_train, X_val, y_train, y_val = train_test_split(\n",
    "    X, y, test_size=val_size, shuffle=is_shuffle)\n",
    "X_train, X_test, y_train, y_test = train_test_split(\n",
    "    X_train, y_train, test_size=test_size, shuffle=is_shuffle)"
   ]
  },
  {
   "cell_type": "markdown",
   "metadata": {},
   "source": [
    "#### (c) Chuẩn hóa đặc trưng đầu vào:"
   ]
  },
  {
   "cell_type": "code",
   "execution_count": 345,
   "metadata": {},
   "outputs": [],
   "source": [
    "normalize = StandardScaler()\n",
    "\n",
    "X_train = normalize.fit_transform(X_train)\n",
    "X_val = normalize.transform(X_val)\n",
    "X_test = normalize.transform(X_test)\n",
    "\n",
    "X_train = torch.tensor(X_train, dtype=torch.float32)\n",
    "X_val = torch.tensor(X_val, dtype=torch.float32)\n",
    "X_test = torch.tensor(X_test, dtype=torch.float32)\n",
    "y_train = torch.tensor(y_train, dtype=torch.long)\n",
    "y_val = torch.tensor(y_val, dtype=torch.long)\n",
    "y_test = torch.tensor(y_test, dtype=torch.long)"
   ]
  },
  {
   "cell_type": "markdown",
   "metadata": {},
   "source": [
    "### Xây dựng DataLoader:"
   ]
  },
  {
   "cell_type": "markdown",
   "metadata": {},
   "source": [
    "Document use DataLoader: https://pytorch.org/tutorials/beginner/basics/data_tutorial.html"
   ]
  },
  {
   "cell_type": "code",
   "execution_count": 346,
   "metadata": {},
   "outputs": [],
   "source": [
    "class CustomDataset:\n",
    "    def __init__(self, X, y) -> None:\n",
    "        self.X = X\n",
    "        self.y = y\n",
    "\n",
    "    def __len__(self):\n",
    "        return len(self.X)\n",
    "\n",
    "    def __getitem__(self, key):\n",
    "        return (self.X[key], self.y[key])"
   ]
  },
  {
   "cell_type": "code",
   "execution_count": 347,
   "metadata": {},
   "outputs": [],
   "source": [
    "batch_size = 32\n",
    "\n",
    "# Tạo dataset\n",
    "train_dataset = CustomDataset(X_train, y_train)\n",
    "val_dataset = CustomDataset(X_val, y_val)\n",
    "test_dataset = CustomDataset(X_test, y_test)\n",
    "\n",
    "# Tạo DataLoader\n",
    "train_loader = DataLoader(train_dataset, batch_size=batch_size, shuffle=True)\n",
    "val_loader = DataLoader(val_dataset, batch_size=batch_size, shuffle=False)\n",
    "test_loader = DataLoader(test_dataset, batch_size=batch_size, shuffle=False)"
   ]
  },
  {
   "cell_type": "markdown",
   "metadata": {},
   "source": [
    "### Xây dựng mạng MLP:"
   ]
  },
  {
   "cell_type": "code",
   "execution_count": 348,
   "metadata": {},
   "outputs": [],
   "source": [
    "class MLP(nn.Module):\n",
    "    def __init__(self, input_dims, hidden_dims, output_dims) -> None:\n",
    "        super().__init__()\n",
    "        self.linear1 = nn.Linear(input_dims, hidden_dims)\n",
    "        self.linear2 = nn.Linear(hidden_dims, hidden_dims)\n",
    "        self.output = nn.Linear(hidden_dims, output_dims)\n",
    "\n",
    "    def forward(self, x):\n",
    "        x = self.linear1(x)\n",
    "        x = F.relu(x)\n",
    "        x = self.linear2(x)\n",
    "        x = F.relu(x)\n",
    "        output = self.output(x)\n",
    "        # Loại bỏ chiều dư thừa (chiều nào bằng 1 thì bỏ)\n",
    "        return output.squeeze(1)"
   ]
  },
  {
   "cell_type": "code",
   "execution_count": 349,
   "metadata": {},
   "outputs": [],
   "source": [
    "input_dims = X.shape[1]\n",
    "output_dims = len(np.unique(y))\n",
    "hidden_dims = 128\n",
    "model = MLP(input_dims, hidden_dims, output_dims).to(device=device)"
   ]
  },
  {
   "cell_type": "markdown",
   "metadata": {},
   "source": [
    "### Khai báo hàm loss và optimizer:"
   ]
  },
  {
   "cell_type": "code",
   "execution_count": 350,
   "metadata": {},
   "outputs": [],
   "source": [
    "lr = 1e-1\n",
    "criterion = nn.CrossEntropyLoss()\n",
    "optimizer = torch.optim.SGD(model.parameters(), lr=lr)"
   ]
  },
  {
   "cell_type": "code",
   "execution_count": 351,
   "metadata": {},
   "outputs": [
    {
     "data": {
      "text/plain": [
       "17283"
      ]
     },
     "execution_count": 351,
     "metadata": {},
     "output_type": "execute_result"
    }
   ],
   "source": [
    "total = 0\n",
    "for params in model.parameters():\n",
    "    total += params.numel()\n",
    "\n",
    "total"
   ]
  },
  {
   "cell_type": "markdown",
   "metadata": {},
   "source": [
    "### Xây dựng hàm tính độ chính xác:"
   ]
  },
  {
   "cell_type": "code",
   "execution_count": 352,
   "metadata": {},
   "outputs": [],
   "source": [
    "def compute_accuracy(y_hat, y_true):\n",
    "    y_hat = np.argmax(y_hat,axis=1)\n",
    "    y_true = np.array(y_true)\n",
    "    N = len(y_true)\n",
    "    correct = np.sum((y_hat == y_true))\n",
    "    return  correct / N"
   ]
  },
  {
   "cell_type": "markdown",
   "metadata": {},
   "source": [
    "### Huấn luyện mô hình:"
   ]
  },
  {
   "cell_type": "code",
   "execution_count": 353,
   "metadata": {},
   "outputs": [
    {
     "name": "stdout",
     "output_type": "stream",
     "text": [
      "\n",
      "EPOCH 1:\tTraining loss: 1.035\tValidation loss: 0.970\n",
      "\n",
      "EPOCH 2:\tTraining loss: 0.883\tValidation loss: 0.893\n",
      "\n",
      "EPOCH 3:\tTraining loss: 0.806\tValidation loss: 0.852\n",
      "\n",
      "EPOCH 4:\tTraining loss: 0.753\tValidation loss: 0.800\n",
      "\n",
      "EPOCH 5:\tTraining loss: 0.697\tValidation loss: 0.788\n",
      "\n",
      "EPOCH 6:\tTraining loss: 0.693\tValidation loss: 0.743\n",
      "\n",
      "EPOCH 7:\tTraining loss: 0.660\tValidation loss: 0.741\n",
      "\n",
      "EPOCH 8:\tTraining loss: 0.645\tValidation loss: 0.692\n",
      "\n",
      "EPOCH 9:\tTraining loss: 0.611\tValidation loss: 0.662\n",
      "\n",
      "EPOCH 10:\tTraining loss: 0.570\tValidation loss: 0.630\n",
      "\n",
      "EPOCH 11:\tTraining loss: 0.548\tValidation loss: 0.606\n",
      "\n",
      "EPOCH 12:\tTraining loss: 0.521\tValidation loss: 0.587\n",
      "\n",
      "EPOCH 13:\tTraining loss: 0.518\tValidation loss: 0.565\n",
      "\n",
      "EPOCH 14:\tTraining loss: 0.485\tValidation loss: 0.524\n",
      "\n",
      "EPOCH 15:\tTraining loss: 0.466\tValidation loss: 0.501\n",
      "\n",
      "EPOCH 16:\tTraining loss: 0.438\tValidation loss: 0.499\n",
      "\n",
      "EPOCH 17:\tTraining loss: 0.412\tValidation loss: 0.439\n",
      "\n",
      "EPOCH 18:\tTraining loss: 0.388\tValidation loss: 0.423\n",
      "\n",
      "EPOCH 19:\tTraining loss: 0.386\tValidation loss: 0.410\n",
      "\n",
      "EPOCH 20:\tTraining loss: 0.347\tValidation loss: 0.401\n",
      "\n",
      "EPOCH 21:\tTraining loss: 0.332\tValidation loss: 0.364\n",
      "\n",
      "EPOCH 22:\tTraining loss: 0.321\tValidation loss: 0.331\n",
      "\n",
      "EPOCH 23:\tTraining loss: 0.300\tValidation loss: 0.343\n",
      "\n",
      "EPOCH 24:\tTraining loss: 0.275\tValidation loss: 0.317\n",
      "\n",
      "EPOCH 25:\tTraining loss: 0.281\tValidation loss: 0.299\n",
      "\n",
      "EPOCH 26:\tTraining loss: 0.260\tValidation loss: 0.275\n",
      "\n",
      "EPOCH 27:\tTraining loss: 0.254\tValidation loss: 0.273\n",
      "\n",
      "EPOCH 28:\tTraining loss: 0.240\tValidation loss: 0.257\n",
      "\n",
      "EPOCH 29:\tTraining loss: 0.222\tValidation loss: 0.243\n",
      "\n",
      "EPOCH 30:\tTraining loss: 0.211\tValidation loss: 0.240\n",
      "\n",
      "EPOCH 31:\tTraining loss: 0.198\tValidation loss: 0.228\n",
      "\n",
      "EPOCH 32:\tTraining loss: 0.202\tValidation loss: 0.247\n",
      "\n",
      "EPOCH 33:\tTraining loss: 0.190\tValidation loss: 0.211\n",
      "\n",
      "EPOCH 34:\tTraining loss: 0.171\tValidation loss: 0.210\n",
      "\n",
      "EPOCH 35:\tTraining loss: 0.178\tValidation loss: 0.212\n",
      "\n",
      "EPOCH 36:\tTraining loss: 0.164\tValidation loss: 0.190\n",
      "\n",
      "EPOCH 37:\tTraining loss: 0.156\tValidation loss: 0.181\n",
      "\n",
      "EPOCH 38:\tTraining loss: 0.155\tValidation loss: 0.184\n",
      "\n",
      "EPOCH 39:\tTraining loss: 0.149\tValidation loss: 0.195\n",
      "\n",
      "EPOCH 40:\tTraining loss: 0.151\tValidation loss: 0.171\n",
      "\n",
      "EPOCH 41:\tTraining loss: 0.143\tValidation loss: 0.182\n",
      "\n",
      "EPOCH 42:\tTraining loss: 0.142\tValidation loss: 0.183\n",
      "\n",
      "EPOCH 43:\tTraining loss: 0.133\tValidation loss: 0.182\n",
      "\n",
      "EPOCH 44:\tTraining loss: 0.131\tValidation loss: 0.143\n",
      "\n",
      "EPOCH 45:\tTraining loss: 0.122\tValidation loss: 0.157\n",
      "\n",
      "EPOCH 46:\tTraining loss: 0.121\tValidation loss: 0.148\n",
      "\n",
      "EPOCH 47:\tTraining loss: 0.122\tValidation loss: 0.172\n",
      "\n",
      "EPOCH 48:\tTraining loss: 0.118\tValidation loss: 0.138\n",
      "\n",
      "EPOCH 49:\tTraining loss: 0.118\tValidation loss: 0.147\n",
      "\n",
      "EPOCH 50:\tTraining loss: 0.108\tValidation loss: 0.137\n",
      "\n",
      "EPOCH 51:\tTraining loss: 0.107\tValidation loss: 0.132\n",
      "\n",
      "EPOCH 52:\tTraining loss: 0.112\tValidation loss: 0.133\n",
      "\n",
      "EPOCH 53:\tTraining loss: 0.105\tValidation loss: 0.127\n",
      "\n",
      "EPOCH 54:\tTraining loss: 0.093\tValidation loss: 0.139\n",
      "\n",
      "EPOCH 55:\tTraining loss: 0.100\tValidation loss: 0.137\n",
      "\n",
      "EPOCH 56:\tTraining loss: 0.098\tValidation loss: 0.112\n",
      "\n",
      "EPOCH 57:\tTraining loss: 0.100\tValidation loss: 0.127\n",
      "\n",
      "EPOCH 58:\tTraining loss: 0.089\tValidation loss: 0.120\n",
      "\n",
      "EPOCH 59:\tTraining loss: 0.085\tValidation loss: 0.133\n",
      "\n",
      "EPOCH 60:\tTraining loss: 0.091\tValidation loss: 0.130\n",
      "\n",
      "EPOCH 61:\tTraining loss: 0.089\tValidation loss: 0.123\n",
      "\n",
      "EPOCH 62:\tTraining loss: 0.093\tValidation loss: 0.119\n",
      "\n",
      "EPOCH 63:\tTraining loss: 0.081\tValidation loss: 0.113\n",
      "\n",
      "EPOCH 64:\tTraining loss: 0.080\tValidation loss: 0.123\n",
      "\n",
      "EPOCH 65:\tTraining loss: 0.086\tValidation loss: 0.098\n",
      "\n",
      "EPOCH 66:\tTraining loss: 0.082\tValidation loss: 0.098\n",
      "\n",
      "EPOCH 67:\tTraining loss: 0.077\tValidation loss: 0.116\n",
      "\n",
      "EPOCH 68:\tTraining loss: 0.075\tValidation loss: 0.102\n",
      "\n",
      "EPOCH 69:\tTraining loss: 0.076\tValidation loss: 0.104\n",
      "\n",
      "EPOCH 70:\tTraining loss: 0.072\tValidation loss: 0.113\n",
      "\n",
      "EPOCH 71:\tTraining loss: 0.079\tValidation loss: 0.116\n",
      "\n",
      "EPOCH 72:\tTraining loss: 0.072\tValidation loss: 0.108\n",
      "\n",
      "EPOCH 73:\tTraining loss: 0.070\tValidation loss: 0.091\n",
      "\n",
      "EPOCH 74:\tTraining loss: 0.073\tValidation loss: 0.120\n",
      "\n",
      "EPOCH 75:\tTraining loss: 0.070\tValidation loss: 0.105\n",
      "\n",
      "EPOCH 76:\tTraining loss: 0.070\tValidation loss: 0.098\n",
      "\n",
      "EPOCH 77:\tTraining loss: 0.067\tValidation loss: 0.104\n",
      "\n",
      "EPOCH 78:\tTraining loss: 0.066\tValidation loss: 0.100\n",
      "\n",
      "EPOCH 79:\tTraining loss: 0.064\tValidation loss: 0.094\n",
      "\n",
      "EPOCH 80:\tTraining loss: 0.064\tValidation loss: 0.093\n",
      "\n",
      "EPOCH 81:\tTraining loss: 0.073\tValidation loss: 0.088\n",
      "\n",
      "EPOCH 82:\tTraining loss: 0.074\tValidation loss: 0.090\n",
      "\n",
      "EPOCH 83:\tTraining loss: 0.066\tValidation loss: 0.099\n",
      "\n",
      "EPOCH 84:\tTraining loss: 0.061\tValidation loss: 0.083\n",
      "\n",
      "EPOCH 85:\tTraining loss: 0.060\tValidation loss: 0.086\n",
      "\n",
      "EPOCH 86:\tTraining loss: 0.068\tValidation loss: 0.090\n",
      "\n",
      "EPOCH 87:\tTraining loss: 0.065\tValidation loss: 0.102\n",
      "\n",
      "EPOCH 88:\tTraining loss: 0.063\tValidation loss: 0.098\n",
      "\n",
      "EPOCH 89:\tTraining loss: 0.061\tValidation loss: 0.089\n",
      "\n",
      "EPOCH 90:\tTraining loss: 0.061\tValidation loss: 0.082\n",
      "\n",
      "EPOCH 91:\tTraining loss: 0.066\tValidation loss: 0.105\n",
      "\n",
      "EPOCH 92:\tTraining loss: 0.057\tValidation loss: 0.095\n",
      "\n",
      "EPOCH 93:\tTraining loss: 0.056\tValidation loss: 0.096\n",
      "\n",
      "EPOCH 94:\tTraining loss: 0.060\tValidation loss: 0.072\n",
      "\n",
      "EPOCH 95:\tTraining loss: 0.060\tValidation loss: 0.084\n",
      "\n",
      "EPOCH 96:\tTraining loss: 0.053\tValidation loss: 0.098\n",
      "\n",
      "EPOCH 97:\tTraining loss: 0.056\tValidation loss: 0.081\n",
      "\n",
      "EPOCH 98:\tTraining loss: 0.056\tValidation loss: 0.071\n",
      "\n",
      "EPOCH 99:\tTraining loss: 0.054\tValidation loss: 0.083\n",
      "\n",
      "EPOCH 100:\tTraining loss: 0.054\tValidation loss: 0.065\n"
     ]
    }
   ],
   "source": [
    "epochs = 100\n",
    "train_losses = []\n",
    "val_losses = []\n",
    "train_accuracy = []\n",
    "val_accuracy = []\n",
    "\n",
    "for epoch in range(epochs):\n",
    "    train_loss = 0\n",
    "    train_target = []\n",
    "    val_target = []\n",
    "    train_predict = []\n",
    "    val_predict = []\n",
    "    model.train()\n",
    "\n",
    "    for x_b_train, y_b_train in train_loader:\n",
    "        x_b_train = x_b_train.to(device)\n",
    "        y_b_train = y_b_train.to(device)\n",
    "\n",
    "        optimizer.zero_grad()\n",
    "        y_b_predict = model(x_b_train)\n",
    "        loss = criterion(y_b_predict, y_b_train)\n",
    "        loss.backward()\n",
    "        optimizer.step()\n",
    "\n",
    "        train_predict.extend(y_b_predict.tolist())\n",
    "        train_target.extend(y_b_train.tolist())\n",
    "\n",
    "        train_loss += loss\n",
    "\n",
    "    train_loss /= len(train_loader)\n",
    "    train_losses.append(train_loss.item())\n",
    "    # kh cần xài softmax ở target vì y tỷ lệ thuận với y_softmax nên giá trị y lớn thì khi chuyển qua y_softmax cx lớn\n",
    "    train_accuracy.append(compute_accuracy(\n",
    "        y_true=train_target, y_hat=train_predict))\n",
    "\n",
    "    model.eval()\n",
    "    val_loss = 0.0\n",
    "    with torch.no_grad():\n",
    "        for x_b_val, y_b_val in val_loader:\n",
    "            x_b_val = x_b_val.to(device)\n",
    "            y_b_val = y_b_val.to(device)\n",
    "\n",
    "            y_val_predict = model(x_b_val)\n",
    "            loss = criterion(y_val_predict, y_b_val)\n",
    "            val_loss += loss\n",
    "\n",
    "            val_predict.extend(y_val_predict.tolist())\n",
    "            val_target.extend(y_b_val.tolist())\n",
    "\n",
    "    val_loss /= len(val_loader)\n",
    "    val_losses.append(val_loss.item())\n",
    "    val_accuracy.append(compute_accuracy(y_true=val_target, y_hat=val_predict))\n",
    "\n",
    "    print(\n",
    "        f'\\nEPOCH {epoch + 1}:\\tTraining loss: {train_loss:.3f}\\tValidation loss: {val_loss:.3f}')"
   ]
  },
  {
   "cell_type": "code",
   "execution_count": 354,
   "metadata": {},
   "outputs": [
    {
     "data": {
      "text/plain": [
       "<matplotlib.legend.Legend at 0x242a5fb73d0>"
      ]
     },
     "execution_count": 354,
     "metadata": {},
     "output_type": "execute_result"
    },
    {
     "data": {
      "image/png": "[encoded data removed]",
      "text/plain": [
       "<Figure size 1200x1000 with 2 Axes>"
      ]
     },
     "metadata": {},
     "output_type": "display_data"
    }
   ],
   "source": [
    "fig, ax = plt.subplots(1, 2, figsize=(12, 10))\n",
    "ax[0].plot(np.arange(epochs), train_losses, label = 'Train loss')\n",
    "ax[0].plot(np.arange(epochs), val_losses, label='Validation loss')\n",
    "fig.legend()\n",
    "\n",
    "ax[1].plot(np.arange(epochs), train_accuracy, label='Train accuracy')\n",
    "ax[1].plot(np.arange(epochs), val_accuracy, label='Validation accuracy')\n",
    "fig.legend()"
   ]
  },
  {
   "cell_type": "code",
   "execution_count": 356,
   "metadata": {},
   "outputs": [
    {
     "name": "stdout",
     "output_type": "stream",
     "text": [
      "Test Loss: 0.1381\n",
      "Test Accuracy: [0.9333333333333333]\n"
     ]
    }
   ],
   "source": [
    "test_accuracy = []  \n",
    "test_loss = 0.0  \n",
    "model.eval()  \n",
    "with torch.no_grad():  \n",
    "    for x_b_test, y_b_test in test_loader:  \n",
    "        x_b_test = x_b_test.to(device)\n",
    "        y_b_test = y_b_test.to(device)  \n",
    "\n",
    "        y_test_predict = model(x_b_test)\n",
    "\n",
    "        loss = criterion(y_test_predict, y_b_test)\n",
    "        test_loss += loss.item()\n",
    "\n",
    "        test_accuracy.append(compute_accuracy(\n",
    "            y_true=y_b_test.tolist(), y_hat=y_test_predict.tolist()))\n",
    "\n",
    "test_loss /= len(test_loader)\n",
    "\n",
    "print(f\"Test Loss: {test_loss:.4f}\")\n",
    "print(f\"Test Accuracy: {test_accuracy}\")"
   ]
  }
 ],
 "metadata": {
  "kernelspec": {
   "display_name": "40daysPython_env",
   "language": "python",
   "name": "python3"
  },
  "language_info": {
   "codemirror_mode": {
    "name": "ipython",
    "version": 3
   },
   "file_extension": ".py",
   "mimetype": "text/x-python",
   "name": "python",
   "nbconvert_exporter": "python",
   "pygments_lexer": "ipython3",
   "version": "3.10.13"
  }
 },
 "nbformat": 4,
 "nbformat_minor": 2
}

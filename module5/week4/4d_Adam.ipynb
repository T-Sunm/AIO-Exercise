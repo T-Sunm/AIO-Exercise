{
 "cells": [
  {
   "cell_type": "markdown",
   "metadata": {},
   "source": [
    "$\\begin{array}{cc}\n",
    "\\text{epoch 1} & \\text{epoch 2} \\\\\n",
    "df_w = [-1, -8] & df_w =  [-0.96000004, -7.2000001 ] \\\\\n",
    "V_1 = [-0.1, -0.8] &  V_2 = [-0.186, -1.44000001] \\\\\n",
    "S_1 = [0.001, 0.064] & S_2 = [0.0019206, 0.115776 ] \\\\\n",
    "V_{corr} = [-1, -8.] & V_{corr} = [-0.97894739, -7.57894742] \\\\\n",
    "S_{corr} = [ 1, 64.] & S_{corr} = [0.96078043, 57.9169592 ] \\\\\n",
    "W_t = [-4.8000002  -1.80000002] & W_t = [-4.60025478, -1.60082451]\n",
    "\\end{array}$"
   ]
  },
  {
   "cell_type": "markdown",
   "metadata": {
    "id": "PDZxOtCZt5VU"
   },
   "source": [
    "## Problem"
   ]
  },
  {
   "cell_type": "markdown",
   "metadata": {
    "id": "Z7esFCIXuNXS"
   },
   "source": [
    "$$f(w_1, w_2) = 0.1w_1^2 + 2w_2^2 \\;\\;\\;\\;\\;\\;\\;(1)$$"
   ]
  },
  {
   "cell_type": "code",
   "execution_count": 1,
   "metadata": {
    "id": "_IAVg99F9N0y"
   },
   "outputs": [],
   "source": [
    "import numpy as np"
   ]
  },
  {
   "cell_type": "markdown",
   "metadata": {
    "id": "77XQZxMK2l4x"
   },
   "source": [
    "### Adam"
   ]
  },
  {
   "cell_type": "code",
   "execution_count": null,
   "metadata": {
    "id": "uai1hzbWuNaK"
   },
   "outputs": [],
   "source": [
    "def df_w(W):\n",
    "    \"\"\"\n",
    "    Thực hiện tính gradient của dw1 và dw2\n",
    "    Arguments:\n",
    "    W -- np.array [w1, w2]\n",
    "    Returns:\n",
    "    dW -- np.array [dw1, dw2], array chứa giá trị đạo hàm theo w1 và w2\n",
    "    \"\"\"\n",
    "    theta = np.array([0.1, 2])\n",
    "    dW = 2 * theta * W\n",
    "\n",
    "    return dW"
   ]
  },
  {
   "cell_type": "code",
   "execution_count": null,
   "metadata": {
    "id": "d9HnD57lC1X1"
   },
   "outputs": [],
   "source": [
    "def Adam(W, dW, lr, V, S, beta1, beta2, t):\n",
    "    \"\"\"\n",
    "    Thực hiện thuật tóan Adam để update w1 và w2\n",
    "    Arguments:\n",
    "    W -- np.array: [w1, w2]\n",
    "    dW -- np.array: [dw1, dw2], array chứa giá trị đạo hàm theo w1 và w2\n",
    "    lr -- float: learning rate\n",
    "    V -- np.array: [v1, v2] Exponentially weighted averages gradients\n",
    "    S -- np.array: [s1, s2] Exponentially weighted averages bình phương gradients\n",
    "    beta1 -- float: hệ số long-range average cho V\n",
    "    beta2 -- float: hệ số long-range average cho S\n",
    "    t -- int: lần thứ t update (bắt đầu bằng 1)\n",
    "    Returns:\n",
    "    W -- np.array: [w1, w2] w1 và w2 sau khi đã update\n",
    "    V -- np.array: [v1, v2] Exponentially weighted averages gradients sau khi đã cập nhật\n",
    "    S -- np.array: [s1, s2] Exponentially weighted averages bình phương gradients sau khi đã cập nhật\n",
    "    \"\"\"\n",
    "    epsilon = 1e-6\n",
    "    #################### YOUR CODE HERE ####################\n",
    "    V = beta1 * V + (1 - beta1)*dW\n",
    "    S = beta2 * S + (1 - beta2)*np.square(dW)\n",
    "\n",
    "    V_corr = V / (1 - beta1**t)\n",
    "    S_corr = S / (1 - beta2**t)\n",
    "    W = W - lr * np.divide(V_corr ,(np.sqrt(S_corr) + epsilon))\n",
    "    ########################################################\n",
    "    return W, V, S"
   ]
  },
  {
   "cell_type": "code",
   "execution_count": 4,
   "metadata": {
    "id": "DSux416mEjYy"
   },
   "outputs": [],
   "source": [
    "def train_p1(optimizer, lr, epochs):\n",
    "    \"\"\"\n",
    "    Thực hiện tìm điểm minimum của function (1) dựa vào thuật toán\n",
    "    được truyền vào từ optimizer\n",
    "    Arguments:\n",
    "    optimize : function thực hiện thuật toán optimization cụ thể\n",
    "    lr -- float: learning rate\n",
    "    epochs -- int: số lượng lần (epoch) lặp để tìm điểm minimum\n",
    "    Returns:\n",
    "    results -- list: list các cặp điểm [w1, w2] sau mỗi epoch (mỗi lần cập nhật)\n",
    "    \"\"\"\n",
    "    # initial\n",
    "    W = np.array([-5, -2], dtype=np.float32)\n",
    "    V = np.array([0, 0], dtype=np.float32)\n",
    "    S = np.array([0, 0], dtype=np.float32)\n",
    "    results = [W]\n",
    "    #################### YOUR CODE HERE ####################\n",
    "    # Tạo vòng lặp theo số lần epochs\n",
    "    # tìm gradient dW gồm dw1 và dw2\n",
    "    # dùng thuật toán optimization cập nhật w1, w2, s1, s2, v1, v2\n",
    "    # append cặp [w1, w2] vào list results\n",
    "    # các bạn lưu ý mỗi lần lặp nhớ lấy t (lần thứ t lặp) và t bất đầu bằng 1\n",
    "    for t in range(1, 3):\n",
    "        dW = df_w(W)\n",
    "        beta1 = 0.9\n",
    "        beta2 = 0.999\n",
    "        W, V, S = optimizer(W, dW, lr, V, S, beta1, beta2, t)\n",
    "        results.append(W)\n",
    "\n",
    "    ########################################################\n",
    "    return results"
   ]
  },
  {
   "cell_type": "code",
   "execution_count": 5,
   "metadata": {
    "id": "uwBvH3HeEjUL"
   },
   "outputs": [
    {
     "name": "stdout",
     "output_type": "stream",
     "text": [
      "df_w =  [-1. -8.]\n",
      "V_t = [-0.1 -0.8]\n",
      "S_t = [0.001 0.064]\n",
      "V_corr = [-1. -8.]\n",
      "S_corr = [ 1. 64.]\n",
      "W_t = [-4.8000002  -1.80000002]\n",
      "df_w =  [-0.96000004 -7.2000001 ]\n",
      "V_t = [-0.186      -1.44000001]\n",
      "S_t = [0.0019206 0.115776 ]\n",
      "V_corr = [-0.97894739 -7.57894742]\n",
      "S_corr = [ 0.96078043 57.9169592 ]\n",
      "W_t = [-4.60025478 -1.60082451]\n"
     ]
    },
    {
     "data": {
      "text/plain": [
       "[array([-5., -2.], dtype=float32),\n",
       " array([-4.8000002 , -1.80000002]),\n",
       " array([-4.60025478, -1.60082451])]"
      ]
     },
     "execution_count": 5,
     "metadata": {},
     "output_type": "execute_result"
    }
   ],
   "source": [
    "train_p1(Adam, lr=0.2, epochs=30)"
   ]
  }
 ],
 "metadata": {
  "colab": {
   "provenance": [],
   "toc_visible": true
  },
  "kernelspec": {
   "display_name": "40daysPython_env",
   "language": "python",
   "name": "python3"
  },
  "language_info": {
   "codemirror_mode": {
    "name": "ipython",
    "version": 3
   },
   "file_extension": ".py",
   "mimetype": "text/x-python",
   "name": "python",
   "nbconvert_exporter": "python",
   "pygments_lexer": "ipython3",
   "version": "3.10.13"
  }
 },
 "nbformat": 4,
 "nbformat_minor": 0
}

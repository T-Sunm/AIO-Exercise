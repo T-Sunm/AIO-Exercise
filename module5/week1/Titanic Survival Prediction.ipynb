{
 "cells": [
  {
   "cell_type": "markdown",
   "metadata": {},
   "source": [
    "### Import libraries"
   ]
  },
  {
   "cell_type": "code",
   "execution_count": 82,
   "metadata": {},
   "outputs": [],
   "source": [
    "import pandas as pd\n",
    "import numpy as np\n",
    "import matplotlib.pyplot as plt\n",
    "\n",
    "from sklearn.model_selection import train_test_split\n",
    "from sklearn.preprocessing import StandardScaler"
   ]
  },
  {
   "cell_type": "markdown",
   "metadata": {},
   "source": [
    "### Đọc dữ liệu"
   ]
  },
  {
   "cell_type": "code",
   "execution_count": 83,
   "metadata": {},
   "outputs": [
    {
     "data": {
      "text/html": [
       "<div>\n",
       "<style scoped>\n",
       "    .dataframe tbody tr th:only-of-type {\n",
       "        vertical-align: middle;\n",
       "    }\n",
       "\n",
       "    .dataframe tbody tr th {\n",
       "        vertical-align: top;\n",
       "    }\n",
       "\n",
       "    .dataframe thead th {\n",
       "        text-align: right;\n",
       "    }\n",
       "</style>\n",
       "<table border=\"1\" class=\"dataframe\">\n",
       "  <thead>\n",
       "    <tr style=\"text-align: right;\">\n",
       "      <th></th>\n",
       "      <th>Pclass</th>\n",
       "      <th>Sex</th>\n",
       "      <th>Age</th>\n",
       "      <th>SibSp</th>\n",
       "      <th>Parch</th>\n",
       "      <th>Fare</th>\n",
       "      <th>Embarked</th>\n",
       "      <th>Title</th>\n",
       "      <th>Survived</th>\n",
       "    </tr>\n",
       "    <tr>\n",
       "      <th>PassengerId</th>\n",
       "      <th></th>\n",
       "      <th></th>\n",
       "      <th></th>\n",
       "      <th></th>\n",
       "      <th></th>\n",
       "      <th></th>\n",
       "      <th></th>\n",
       "      <th></th>\n",
       "      <th></th>\n",
       "    </tr>\n",
       "  </thead>\n",
       "  <tbody>\n",
       "    <tr>\n",
       "      <th>1</th>\n",
       "      <td>3</td>\n",
       "      <td>0</td>\n",
       "      <td>22.0</td>\n",
       "      <td>1</td>\n",
       "      <td>0</td>\n",
       "      <td>7.2500</td>\n",
       "      <td>0</td>\n",
       "      <td>0</td>\n",
       "      <td>0</td>\n",
       "    </tr>\n",
       "    <tr>\n",
       "      <th>2</th>\n",
       "      <td>1</td>\n",
       "      <td>1</td>\n",
       "      <td>38.0</td>\n",
       "      <td>1</td>\n",
       "      <td>0</td>\n",
       "      <td>71.2833</td>\n",
       "      <td>1</td>\n",
       "      <td>1</td>\n",
       "      <td>1</td>\n",
       "    </tr>\n",
       "    <tr>\n",
       "      <th>3</th>\n",
       "      <td>3</td>\n",
       "      <td>1</td>\n",
       "      <td>26.0</td>\n",
       "      <td>0</td>\n",
       "      <td>0</td>\n",
       "      <td>7.9250</td>\n",
       "      <td>0</td>\n",
       "      <td>2</td>\n",
       "      <td>1</td>\n",
       "    </tr>\n",
       "    <tr>\n",
       "      <th>4</th>\n",
       "      <td>1</td>\n",
       "      <td>1</td>\n",
       "      <td>35.0</td>\n",
       "      <td>1</td>\n",
       "      <td>0</td>\n",
       "      <td>53.1000</td>\n",
       "      <td>0</td>\n",
       "      <td>1</td>\n",
       "      <td>1</td>\n",
       "    </tr>\n",
       "    <tr>\n",
       "      <th>5</th>\n",
       "      <td>3</td>\n",
       "      <td>0</td>\n",
       "      <td>35.0</td>\n",
       "      <td>0</td>\n",
       "      <td>0</td>\n",
       "      <td>8.0500</td>\n",
       "      <td>0</td>\n",
       "      <td>0</td>\n",
       "      <td>0</td>\n",
       "    </tr>\n",
       "  </tbody>\n",
       "</table>\n",
       "</div>"
      ],
      "text/plain": [
       "             Pclass  Sex   Age  SibSp  Parch     Fare  Embarked  Title  \\\n",
       "PassengerId                                                              \n",
       "1                 3    0  22.0      1      0   7.2500         0      0   \n",
       "2                 1    1  38.0      1      0  71.2833         1      1   \n",
       "3                 3    1  26.0      0      0   7.9250         0      2   \n",
       "4                 1    1  35.0      1      0  53.1000         0      1   \n",
       "5                 3    0  35.0      0      0   8.0500         0      0   \n",
       "\n",
       "             Survived  \n",
       "PassengerId            \n",
       "1                   0  \n",
       "2                   1  \n",
       "3                   1  \n",
       "4                   1  \n",
       "5                   0  "
      ]
     },
     "execution_count": 83,
     "metadata": {},
     "output_type": "execute_result"
    }
   ],
   "source": [
    "dataset_path = './data/titanic_modified_dataset.csv'\n",
    "df = pd.read_csv(\n",
    "    dataset_path,\n",
    "    index_col='PassengerId'\n",
    ")\n",
    "df.head()"
   ]
  },
  {
   "cell_type": "code",
   "execution_count": 84,
   "metadata": {},
   "outputs": [
    {
     "name": "stdout",
     "output_type": "stream",
     "text": [
      "<class 'pandas.core.frame.DataFrame'>\n",
      "Index: 891 entries, 1 to 891\n",
      "Data columns (total 9 columns):\n",
      " #   Column    Non-Null Count  Dtype  \n",
      "---  ------    --------------  -----  \n",
      " 0   Pclass    891 non-null    int64  \n",
      " 1   Sex       891 non-null    int64  \n",
      " 2   Age       891 non-null    float64\n",
      " 3   SibSp     891 non-null    int64  \n",
      " 4   Parch     891 non-null    int64  \n",
      " 5   Fare      891 non-null    float64\n",
      " 6   Embarked  891 non-null    int64  \n",
      " 7   Title     891 non-null    int64  \n",
      " 8   Survived  891 non-null    int64  \n",
      "dtypes: float64(2), int64(7)\n",
      "memory usage: 69.6 KB\n"
     ]
    }
   ],
   "source": [
    "df.info()"
   ]
  },
  {
   "cell_type": "markdown",
   "metadata": {},
   "source": [
    "### Chia biến X, y"
   ]
  },
  {
   "cell_type": "code",
   "execution_count": 85,
   "metadata": {},
   "outputs": [],
   "source": [
    "x = df.drop(columns=['Survived'])\n",
    "y = df['Survived']"
   ]
  },
  {
   "cell_type": "markdown",
   "metadata": {},
   "source": [
    "### Thêm bias vào X"
   ]
  },
  {
   "cell_type": "code",
   "execution_count": null,
   "metadata": {},
   "outputs": [],
   "source": []
  },
  {
   "cell_type": "markdown",
   "metadata": {},
   "source": [
    "### Chia tập train, val, test"
   ]
  },
  {
   "cell_type": "code",
   "execution_count": 86,
   "metadata": {},
   "outputs": [],
   "source": [
    "test_size = 0.125\n",
    "val_size = 0.2\n",
    "random_state = 2\n",
    "is_shuffle = True\n",
    "x_train, x_val, y_train, y_val = train_test_split(\n",
    "    x, y, test_size=val_size, random_state=2, shuffle=is_shuffle)\n",
    "\n",
    "x_train, x_test, y_train, y_test = train_test_split(\n",
    "    x_train, y_train,\n",
    "    test_size=test_size,\n",
    "    random_state=random_state,\n",
    "    shuffle=is_shuffle\n",
    ")"
   ]
  },
  {
   "cell_type": "code",
   "execution_count": 87,
   "metadata": {},
   "outputs": [
    {
     "data": {
      "text/html": [
       "<div>\n",
       "<style scoped>\n",
       "    .dataframe tbody tr th:only-of-type {\n",
       "        vertical-align: middle;\n",
       "    }\n",
       "\n",
       "    .dataframe tbody tr th {\n",
       "        vertical-align: top;\n",
       "    }\n",
       "\n",
       "    .dataframe thead th {\n",
       "        text-align: right;\n",
       "    }\n",
       "</style>\n",
       "<table border=\"1\" class=\"dataframe\">\n",
       "  <thead>\n",
       "    <tr style=\"text-align: right;\">\n",
       "      <th></th>\n",
       "      <th>Pclass</th>\n",
       "      <th>Sex</th>\n",
       "      <th>Age</th>\n",
       "      <th>SibSp</th>\n",
       "      <th>Parch</th>\n",
       "      <th>Fare</th>\n",
       "      <th>Embarked</th>\n",
       "      <th>Title</th>\n",
       "    </tr>\n",
       "    <tr>\n",
       "      <th>PassengerId</th>\n",
       "      <th></th>\n",
       "      <th></th>\n",
       "      <th></th>\n",
       "      <th></th>\n",
       "      <th></th>\n",
       "      <th></th>\n",
       "      <th></th>\n",
       "      <th></th>\n",
       "    </tr>\n",
       "  </thead>\n",
       "  <tbody>\n",
       "    <tr>\n",
       "      <th>621</th>\n",
       "      <td>3</td>\n",
       "      <td>0</td>\n",
       "      <td>27.0</td>\n",
       "      <td>1</td>\n",
       "      <td>0</td>\n",
       "      <td>14.4542</td>\n",
       "      <td>1</td>\n",
       "      <td>0</td>\n",
       "    </tr>\n",
       "    <tr>\n",
       "      <th>391</th>\n",
       "      <td>1</td>\n",
       "      <td>0</td>\n",
       "      <td>36.0</td>\n",
       "      <td>1</td>\n",
       "      <td>2</td>\n",
       "      <td>120.0000</td>\n",
       "      <td>0</td>\n",
       "      <td>0</td>\n",
       "    </tr>\n",
       "    <tr>\n",
       "      <th>423</th>\n",
       "      <td>3</td>\n",
       "      <td>0</td>\n",
       "      <td>29.0</td>\n",
       "      <td>0</td>\n",
       "      <td>0</td>\n",
       "      <td>7.8750</td>\n",
       "      <td>0</td>\n",
       "      <td>0</td>\n",
       "    </tr>\n",
       "    <tr>\n",
       "      <th>53</th>\n",
       "      <td>1</td>\n",
       "      <td>1</td>\n",
       "      <td>49.0</td>\n",
       "      <td>1</td>\n",
       "      <td>0</td>\n",
       "      <td>76.7292</td>\n",
       "      <td>1</td>\n",
       "      <td>1</td>\n",
       "    </tr>\n",
       "    <tr>\n",
       "      <th>843</th>\n",
       "      <td>1</td>\n",
       "      <td>1</td>\n",
       "      <td>30.0</td>\n",
       "      <td>0</td>\n",
       "      <td>0</td>\n",
       "      <td>31.0000</td>\n",
       "      <td>1</td>\n",
       "      <td>2</td>\n",
       "    </tr>\n",
       "  </tbody>\n",
       "</table>\n",
       "</div>"
      ],
      "text/plain": [
       "             Pclass  Sex   Age  SibSp  Parch      Fare  Embarked  Title\n",
       "PassengerId                                                            \n",
       "621               3    0  27.0      1      0   14.4542         1      0\n",
       "391               1    0  36.0      1      2  120.0000         0      0\n",
       "423               3    0  29.0      0      0    7.8750         0      0\n",
       "53                1    1  49.0      1      0   76.7292         1      1\n",
       "843               1    1  30.0      0      0   31.0000         1      2"
      ]
     },
     "execution_count": 87,
     "metadata": {},
     "output_type": "execute_result"
    }
   ],
   "source": [
    "x_train.head()"
   ]
  },
  {
   "cell_type": "markdown",
   "metadata": {},
   "source": [
    "### Chuẩn hóa dữ liệu"
   ]
  },
  {
   "cell_type": "code",
   "execution_count": 88,
   "metadata": {},
   "outputs": [],
   "source": [
    "discrete_features = ['Pclass', 'Sex', 'SibSp',\n",
    "                     'Parch', 'Embarked', 'Title']\n",
    "\n",
    "discrete_train = x_train.loc[:, x_train.columns.isin(discrete_features)].to_numpy()\n",
    "discrete_val = x_val.loc[:, x_val.columns.isin(discrete_features)].to_numpy()\n",
    "discrete_test = x_test.loc[:, x_test.columns.isin(\n",
    "    discrete_features)].to_numpy()\n",
    "\n",
    "\n",
    "continuous_train = x_train.loc[:, ~x_train.columns.isin(discrete_features)]\n",
    "continuous_val = x_val.loc[:, ~x_val.columns.isin(discrete_features)]\n",
    "continuous_test = x_test.loc[:, ~x_test.columns.isin(discrete_features)]"
   ]
  },
  {
   "cell_type": "code",
   "execution_count": 89,
   "metadata": {},
   "outputs": [],
   "source": [
    "scaler = StandardScaler()\n",
    "continuous_train = scaler.fit_transform(continuous_train)\n",
    "continuous_val = scaler.transform(continuous_val)\n",
    "continuous_test = scaler.transform(continuous_test)"
   ]
  },
  {
   "cell_type": "code",
   "execution_count": 90,
   "metadata": {},
   "outputs": [],
   "source": [
    "x_train_normalized = np.concatenate([continuous_train, discrete_train], axis=1)\n",
    "x_val_normalized = np.concatenate([continuous_val, discrete_val], axis=1)\n",
    "x_test_normalized = np.concatenate([continuous_test, discrete_test], axis=1)"
   ]
  },
  {
   "cell_type": "code",
   "execution_count": 91,
   "metadata": {},
   "outputs": [],
   "source": [
    "length_train = x_train_normalized.shape[0]\n",
    "length_val = x_val_normalized.shape[0]\n",
    "length_test = x_test_normalized.shape[0]\n",
    "\n",
    "\n",
    "x_train_b = np.hstack((np.ones((length_train, 1)), x_train_normalized))\n",
    "x_val_b = np.hstack((np.ones((length_val, 1)), x_val_normalized))\n",
    "x_test_b = np.hstack((np.ones((length_test, 1)), x_test_normalized))"
   ]
  },
  {
   "cell_type": "code",
   "execution_count": 92,
   "metadata": {},
   "outputs": [
    {
     "data": {
      "text/plain": [
       "array([[ 1.        , -0.20525287, -0.34812766, ...,  0.        ,\n",
       "         1.        ,  0.        ],\n",
       "       [ 1.        ,  0.49488575,  1.76556546, ...,  2.        ,\n",
       "         0.        ,  0.        ],\n",
       "       [ 1.        , -0.04966651, -0.47988477, ...,  0.        ,\n",
       "         0.        ,  0.        ],\n",
       "       ...,\n",
       "       [ 1.        , -0.12745969, -0.48238806, ...,  0.        ,\n",
       "         2.        ,  0.        ],\n",
       "       [ 1.        ,  0.26150621, -0.22655193, ...,  1.        ,\n",
       "         0.        ,  0.        ],\n",
       "       [ 1.        , -1.99449602, -0.05432564, ...,  1.        ,\n",
       "         2.        ,  3.        ]])"
      ]
     },
     "execution_count": 92,
     "metadata": {},
     "output_type": "execute_result"
    }
   ],
   "source": [
    "x_train_b"
   ]
  },
  {
   "cell_type": "markdown",
   "metadata": {},
   "source": [
    "### Cài đặt các hàm quan trọng"
   ]
  },
  {
   "cell_type": "markdown",
   "metadata": {},
   "source": [
    "np.clip(array, min_value, max_value), trong đó:\n",
    "\n",
    "- array là mảng cần giới hạn giá trị.\n",
    "- min_value là giá trị nhỏ nhất mà phần tử của mảng có thể có.\n",
    "- max_value là giá trị lớn nhất mà phần tử của mảng có thể có."
   ]
  },
  {
   "cell_type": "code",
   "execution_count": 93,
   "metadata": {},
   "outputs": [],
   "source": [
    "import numpy as np\n",
    "\n",
    "def predict(theta, x):\n",
    "    z = np.dot(x, theta)\n",
    "    y_hat = 1 / (1 + np.exp(-z))\n",
    "    return y_hat\n",
    "\n",
    "def compute_loss(y_hat, y):\n",
    "    y_hat = np.clip(y_hat, 1e-7, 1 - 1e-7)\n",
    "    L = (-y * np.log(y_hat) - (1 - y) * np.log(1 - y_hat)).mean()\n",
    "    return round(L, 3)\n",
    "\n",
    "def compute_gradient(x, y_hat, y):\n",
    "    gradient = np.dot(x.T, (y_hat - y)) / len(y)\n",
    "    return np.round(gradient, 3)  # Làm tròn từng phần tử của gradient\n",
    "\n",
    "def update_parameters(theta, lr, gradient):\n",
    "    new_theta = theta - lr * gradient\n",
    "    return np.round(new_theta, 3)  # Làm tròn từng phần tử của theta mới\n",
    "\n",
    "def compute_accuracy(x, y, theta):\n",
    "    label = predict(theta, x).round()\n",
    "    acc = (label == y).mean()\n",
    "    return round(acc, 3)"
   ]
  },
  {
   "cell_type": "markdown",
   "metadata": {},
   "source": [
    "### Khai báo các siêu tham số và khởi tạo weights"
   ]
  },
  {
   "cell_type": "code",
   "execution_count": 94,
   "metadata": {},
   "outputs": [],
   "source": [
    "lr = 0.01\n",
    "epochs = 100\n",
    "batch_size = 16\n",
    "\n",
    "np.random.seed(1)\n",
    "# uniform random từ 0 - 1\n",
    "theta = np.random.uniform(\n",
    "    size=x_train_b.shape[1]\n",
    ")"
   ]
  },
  {
   "cell_type": "markdown",
   "metadata": {},
   "source": [
    "### Huấn luyện mô hình"
   ]
  },
  {
   "cell_type": "code",
   "execution_count": null,
   "metadata": {},
   "outputs": [
    {
     "name": "stdout",
     "output_type": "stream",
     "text": [
      "\n",
      "EPOCH 91:\tTraining loss: 0.430\tValidation loss: 0.534\n",
      "\n",
      "EPOCH 92:\tTraining loss: 0.430\tValidation loss: 0.533\n",
      "\n",
      "EPOCH 93:\tTraining loss: 0.429\tValidation loss: 0.533\n",
      "\n",
      "EPOCH 94:\tTraining loss: 0.429\tValidation loss: 0.533\n",
      "\n",
      "EPOCH 95:\tTraining loss: 0.429\tValidation loss: 0.533\n",
      "\n",
      "EPOCH 96:\tTraining loss: 0.429\tValidation loss: 0.533\n",
      "\n",
      "EPOCH 97:\tTraining loss: 0.429\tValidation loss: 0.533\n",
      "\n",
      "EPOCH 98:\tTraining loss: 0.428\tValidation loss: 0.533\n",
      "\n",
      "EPOCH 99:\tTraining loss: 0.428\tValidation loss: 0.533\n",
      "\n",
      "EPOCH 100:\tTraining loss: 0.428\tValidation loss: 0.533\n"
     ]
    }
   ],
   "source": [
    "train_accs = []\n",
    "train_losses = []\n",
    "val_accs = []\n",
    "val_losses = []\n",
    "\n",
    "\n",
    "for epoch in range(epochs):\n",
    "    accuracy_batch_val = []\n",
    "    accuracy_batch_train = []\n",
    "    loss_batch_val = []\n",
    "    loss_batch_train = []\n",
    "    for i in range(0, x_train_b.shape[0], batch_size):\n",
    "        x_batch_train = x_train_b[i:i + batch_size]\n",
    "        y_batch_train = y_train[i:i + batch_size]\n",
    "\n",
    "        y_hat = predict(theta=theta, x=x_batch_train)\n",
    "        gradient = compute_gradient(x_batch_train, y_hat, y_batch_train)\n",
    "        theta = update_parameters(theta, lr, gradient)\n",
    "\n",
    "        loss_batch_train.append(compute_loss(y_hat, y_batch_train))\n",
    "        accuracy_batch_train.append(compute_accuracy(x_train_b, y_train, theta))\n",
    "\n",
    "        y_hat_val = predict(theta=theta, x=x_val_b)\n",
    "        loss_batch_val.append(compute_loss(y_hat_val, y_val))\n",
    "        accuracy_batch_val.append(compute_accuracy(x_val_b, y_val, theta))\n",
    "\n",
    "    train_batch_loss = sum(loss_batch_train) / len(loss_batch_train)\n",
    "    val_batch_loss = sum(loss_batch_val) / len(loss_batch_val)\n",
    "    train_batch_acc = sum(accuracy_batch_train) / len(accuracy_batch_train)\n",
    "    val_batch_acc = sum(accuracy_batch_val) / len(accuracy_batch_val)\n",
    "\n",
    "    train_losses.append(train_batch_loss)\n",
    "    val_losses.append(val_batch_loss)\n",
    "    train_accs.append(train_batch_acc)\n",
    "    val_accs.append(val_batch_acc)\n",
    "    \n",
    "    if epoch >= 90:\n",
    "        print(\n",
    "            f\"\\nEPOCH {epoch + 1}:\\tTraining loss: {train_batch_loss:.3f}\\tValidation loss: {val_batch_loss:.3f}\")\n",
    "\n",
    "        "
   ]
  },
  {
   "cell_type": "markdown",
   "metadata": {},
   "source": [
    "### Đánh giá mô hình"
   ]
  },
  {
   "cell_type": "code",
   "execution_count": 96,
   "metadata": {},
   "outputs": [
    {
     "data": {
      "image/png": "[encoded data removed]",
      "text/plain": [
       "<Figure size 1200x1000 with 4 Axes>"
      ]
     },
     "metadata": {},
     "output_type": "display_data"
    }
   ],
   "source": [
    "fig, ax = plt.subplots(2, 2, figsize=(12, 10))\n",
    "ax[0, 0].plot(train_losses)\n",
    "ax[0, 0].set(xlabel='Epoch', ylabel='Loss')\n",
    "ax[0, 0].set_title('Training Loss')\n",
    "\n",
    "ax[0, 1].plot(val_losses, 'orange')\n",
    "ax[0, 1].set(xlabel='Epoch', ylabel='Loss')\n",
    "ax[0, 1].set_title('Validation Loss')\n",
    "\n",
    "ax[1, 0].plot(train_accs)\n",
    "ax[1, 0].set(xlabel='Epoch', ylabel='Accuracy')\n",
    "ax[1, 0].set_title('Training Accuracy')\n",
    "\n",
    "ax[1, 1].plot(val_accs, 'orange')\n",
    "ax[1, 1].set(xlabel='Epoch', ylabel='Accuracy')\n",
    "ax[1, 1].set_title('Validation Accuracy')\n",
    "\n",
    "plt.show()\n"
   ]
  },
  {
   "cell_type": "code",
   "execution_count": 97,
   "metadata": {},
   "outputs": [
    {
     "name": "stdout",
     "output_type": "stream",
     "text": [
      "Evaluation on validation and test set:\n",
      "Accuracy on validation set: 0.777\n",
      "Accuracy on test set: 0.798\n"
     ]
    }
   ],
   "source": [
    "val_set_acc = compute_accuracy(x_val_b, y_val, theta)\n",
    "test_set_acc = compute_accuracy(x_test_b, y_test, theta)\n",
    "print('Evaluation on validation and test set:')\n",
    "print(f'Accuracy on validation set: {val_set_acc}')\n",
    "print(f'Accuracy on test set: {test_set_acc}')"
   ]
  }
 ],
 "metadata": {
  "kernelspec": {
   "display_name": "40daysPython_env",
   "language": "python",
   "name": "python3"
  },
  "language_info": {
   "codemirror_mode": {
    "name": "ipython",
    "version": 3
   },
   "file_extension": ".py",
   "mimetype": "text/x-python",
   "name": "python",
   "nbconvert_exporter": "python",
   "pygments_lexer": "ipython3",
   "version": "3.10.13"
  }
 },
 "nbformat": 4,
 "nbformat_minor": 2
}

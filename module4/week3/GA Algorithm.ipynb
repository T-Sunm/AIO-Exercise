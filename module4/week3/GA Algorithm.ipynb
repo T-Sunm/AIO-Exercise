{
 "cells": [
  {
   "cell_type": "code",
   "execution_count": 32,
   "metadata": {},
   "outputs": [],
   "source": [
    "import numpy as np\n",
    "# from numpy import genfromtxt\n",
    "import matplotlib.pyplot as plt\n",
    "import random\n",
    "random.seed(0)  # please do not remove this line\n",
    "import pandas as pd"
   ]
  },
  {
   "cell_type": "markdown",
   "metadata": {},
   "source": [
    "### Question 2"
   ]
  },
  {
   "cell_type": "code",
   "execution_count": 33,
   "metadata": {},
   "outputs": [
    {
     "name": "stdout",
     "output_type": "stream",
     "text": [
      "[[  1.  230.1  37.8  69.2]\n",
      " [  1.   44.5  39.3  45.1]\n",
      " [  1.   17.2  45.9  69.3]\n",
      " [  1.  151.5  41.3  58.5]\n",
      " [  1.  180.8  10.8  58.4]]\n"
     ]
    }
   ],
   "source": [
    "def load_data_from_file(fileName=\"./data/advertising.csv\"):\n",
    "  data = pd.read_csv(fileName).to_numpy()\n",
    "  features_X = data[:, :3]\n",
    "  sales_Y = data[:, 3]\n",
    "  \n",
    "  N = features_X.shape[0]\n",
    "\n",
    "  # Thêm một cột toàn giá trị 1 vào phía trước của X\n",
    "  X_b = np.c_[np.ones((N, 1)), features_X]\n",
    "\n",
    "  return X_b, sales_Y\n",
    "\n",
    "\n",
    "features_X, _ = load_data_from_file()\n",
    "print (features_X [:5 , :])"
   ]
  },
  {
   "cell_type": "markdown",
   "metadata": {},
   "source": [
    "### Question 3"
   ]
  },
  {
   "cell_type": "code",
   "execution_count": 34,
   "metadata": {},
   "outputs": [
    {
     "name": "stdout",
     "output_type": "stream",
     "text": [
      "(200,)\n"
     ]
    }
   ],
   "source": [
    "_, sales_Y = load_data_from_file()\n",
    "print (sales_Y . shape )"
   ]
  },
  {
   "cell_type": "code",
   "execution_count": 35,
   "metadata": {},
   "outputs": [],
   "source": [
    "def generate_random_value(bound):\n",
    "    return random.randint(-(bound // 2), bound // 2)"
   ]
  },
  {
   "cell_type": "code",
   "execution_count": 36,
   "metadata": {},
   "outputs": [
    {
     "name": "stdout",
     "output_type": "stream",
     "text": [
      "[1, 1, -5, -1]\n"
     ]
    }
   ],
   "source": [
    "def create_individual (n = 4, bound =10):\n",
    "    individual = [generate_random_value(bound) for i in range(n)]\n",
    "    return individual\n",
    "individual = create_individual()\n",
    "print (individual)"
   ]
  },
  {
   "cell_type": "code",
   "execution_count": 37,
   "metadata": {},
   "outputs": [],
   "source": [
    "def predict(x, individual):\n",
    "    theta = np.array(individual)\n",
    "    y_hat = x.dot(theta)\n",
    "    return y_hat\n",
    "\n",
    "def compute_loss(y_hat, y):\n",
    "    loss = np.multiply((y_hat - y), (y_hat - y)).mean()\n",
    "    return loss\n",
    "\n",
    "# individual \n",
    "def compute_fitness(individual, features_X, sales_Y):\n",
    "    y_hat = predict(features_X, individual)\n",
    "    loss = compute_loss(y_hat, sales_Y)\n",
    "    fitness_value = 1 / (loss + 1)\n",
    "\n",
    "    return fitness_value"
   ]
  },
  {
   "cell_type": "markdown",
   "metadata": {},
   "source": [
    "### Question 4"
   ]
  },
  {
   "cell_type": "code",
   "execution_count": 38,
   "metadata": {},
   "outputs": [
    {
     "name": "stdout",
     "output_type": "stream",
     "text": [
      "1.0185991537088997e-06\n"
     ]
    }
   ],
   "source": [
    "features_X, _ = load_data_from_file()\n",
    "features_X, sales_Y = load_data_from_file()\n",
    "individual = [4.09, 4.82, 3.10, 4.02]\n",
    "fitness_score = compute_fitness(individual, features_X, sales_Y)\n",
    "print(fitness_score)"
   ]
  },
  {
   "cell_type": "markdown",
   "metadata": {},
   "source": [
    "### Question 5"
   ]
  },
  {
   "cell_type": "code",
   "execution_count": 39,
   "metadata": {},
   "outputs": [],
   "source": [
    "def crossover(individual1, individual2, crossover_rate=0.9):\n",
    "    individual1_new = individual1.copy()\n",
    "    individual2_new = individual2.copy()\n",
    "\n",
    "    for i in range(len(individual1_new)):\n",
    "        if random.random() < crossover_rate:\n",
    "            individual1_new[i], individual2_new[i] = individual2_new[i], individual1_new[i]\n",
    "\n",
    "    return individual1_new, individual2_new"
   ]
  },
  {
   "cell_type": "code",
   "execution_count": 40,
   "metadata": {},
   "outputs": [
    {
     "name": "stdout",
     "output_type": "stream",
     "text": [
      "individual1:  [3.44, 2.57, -0.79, -2.41]\n",
      "individual2:  [4.09, 4.82, 3.1, 4.02]\n"
     ]
    }
   ],
   "source": [
    "# question 5\n",
    "individual1 = [4.09, 4.82, 3.10, 4.02]\n",
    "individual2 = [3.44, 2.57, -0.79, -2.41]\n",
    "\n",
    "individual1, individual2 = crossover(individual1, individual2, 2.0)\n",
    "print(\"individual1: \", individual1)\n",
    "print(\"individual2: \", individual2)"
   ]
  },
  {
   "cell_type": "markdown",
   "metadata": {},
   "source": [
    "### Question 6:"
   ]
  },
  {
   "cell_type": "code",
   "execution_count": 41,
   "metadata": {},
   "outputs": [],
   "source": [
    "def mutate(individual, mutation_rate=0.05):\n",
    "    individual_m = individual.copy()\n",
    "\n",
    "    return [1 - val if random.random() < mutation_rate else val for val in individual_m]"
   ]
  },
  {
   "cell_type": "code",
   "execution_count": 42,
   "metadata": {},
   "outputs": [
    {
     "name": "stdout",
     "output_type": "stream",
     "text": [
      "After mutation:  [-3.09, -3.8200000000000003, -2.1, -3.0199999999999996]\n",
      "False\n"
     ]
    }
   ],
   "source": [
    "# Question 6\n",
    "before_individual = [4.09, 4.82, 3.10, 4.02]\n",
    "after_individual = mutate(individual, mutation_rate=2.0)\n",
    "print(\"After mutation: \", after_individual)\n",
    "print(before_individual == after_individual)"
   ]
  },
  {
   "cell_type": "code",
   "execution_count": 43,
   "metadata": {},
   "outputs": [],
   "source": [
    "def initializePopulation(m) :\n",
    "    population = [create_individual() for _ in range(m)]\n",
    "    return population"
   ]
  },
  {
   "cell_type": "markdown",
   "metadata": {},
   "source": [
    "#### Thiết kế hàm selection : không được chọn 2 phần tử trùng nhau , phần tử thứ 2 > 1 "
   ]
  },
  {
   "cell_type": "code",
   "execution_count": 44,
   "metadata": {},
   "outputs": [],
   "source": [
    "# population được sorted tăng dần\n",
    "def select(population_sorted, m = 100):\n",
    "    index1 = random.randint(0, m - 1)\n",
    "    while True:\n",
    "        index2 = random.randint(0, m - 1)\n",
    "        if index1 != index2:\n",
    "            break\n",
    "\n",
    "    if index2 > index1: \n",
    "        return population_sorted[index2]\n",
    "    else:\n",
    "        return population_sorted[index1]"
   ]
  },
  {
   "cell_type": "code",
   "execution_count": 45,
   "metadata": {},
   "outputs": [],
   "source": [
    "# population được sắp xếp tăng dần\n",
    "def create_new_population(population,features_X, sales_Y, elitism = 2, gen = 1):\n",
    "    m = len(population)\n",
    "    sorted_population = sorted(population, key=lambda individual: compute_fitness(individual, features_X, sales_Y))\n",
    "\n",
    "    y_hat = predict(features_X, sorted_population[m - 1])\n",
    "    if gen %1 == 0:\n",
    "        print(\"Best loss :\", compute_loss(y_hat, sales_Y),\n",
    "              \"with chromsome: \", sorted_population[m - 1])\n",
    "        \n",
    "    new_population = []\n",
    "    new_population.extend(population[-elitism:])\n",
    "    while len(new_population) < m:\n",
    "        # selection\n",
    "        parent1 = select(population_sorted=sorted_population, m=100)\n",
    "        parent2 = select(population_sorted=sorted_population, m=100)\n",
    "        \n",
    "        # crossover\n",
    "        child1, child2 = crossover(parent1, parent2)\n",
    "        \n",
    "        # mutation\n",
    "        new_population.append(mutate(child1))\n",
    "        new_population.append(mutate(child2))\n",
    "\n",
    "    return new_population[: m]"
   ]
  },
  {
   "cell_type": "markdown",
   "metadata": {},
   "source": [
    "### Question 7"
   ]
  },
  {
   "cell_type": "code",
   "execution_count": 46,
   "metadata": {},
   "outputs": [
    {
     "name": "stdout",
     "output_type": "stream",
     "text": [
      "Best loss : 123415.05152880498 with chromsome:  [3.44, 2.57, -0.79, -2.41]\n"
     ]
    }
   ],
   "source": [
    "# Question 7\n",
    "individual1 = [4.09, 4.82, 3.10, 4.02]\n",
    "individual2 = [3.44, 2.57, -0.79, -2.41]\n",
    "old_population = [individual1, individual2]\n",
    "new_population, _ = create_new_population(old_population,features_X, sales_Y, elitism=2, gen=1)"
   ]
  }
 ],
 "metadata": {
  "kernelspec": {
   "display_name": "40daysPython_env",
   "language": "python",
   "name": "python3"
  },
  "language_info": {
   "codemirror_mode": {
    "name": "ipython",
    "version": 3
   },
   "file_extension": ".py",
   "mimetype": "text/x-python",
   "name": "python",
   "nbconvert_exporter": "python",
   "pygments_lexer": "ipython3",
   "version": "3.10.13"
  }
 },
 "nbformat": 4,
 "nbformat_minor": 2
}

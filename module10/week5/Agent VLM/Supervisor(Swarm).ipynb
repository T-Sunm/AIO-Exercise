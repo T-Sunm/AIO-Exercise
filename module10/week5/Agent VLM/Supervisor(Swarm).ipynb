{
 "cells": [
  {
   "cell_type": "code",
   "execution_count": null,
   "id": "85a075f4",
   "metadata": {},
   "outputs": [],
   "source": [
    "from typing import Any, Dict, List\n",
    "\n",
    "from autogen_agentchat.agents import AssistantAgent\n",
    "from autogen_agentchat.conditions import HandoffTermination, TextMentionTermination\n",
    "from autogen_agentchat.messages import HandoffMessage\n",
    "from autogen_agentchat.teams import Swarm\n",
    "from autogen_agentchat.ui import Console\n",
    "from autogen_core.models import ChatCompletionClient"
   ]
  },
  {
   "cell_type": "code",
   "execution_count": null,
   "id": "91e7e248",
   "metadata": {},
   "outputs": [],
   "source": [
    "config = {\n",
    "    \"provider\": \"OpenAIChatCompletionClient\",\n",
    "    \"config\": {\n",
    "        \"model\": \"qwen2-vl-2b-instruct\",\n",
    "        \"base_url\": \"http://127.0.0.1:1234/v1\",\n",
    "        \"api_key\": \"lm-studio\",\n",
    "        \"model_info\": {\n",
    "            \"name\": \"qwen2-vl-2b-instruct\",\n",
    "            \"family\": \"openai\",\n",
    "            \"supports_tool_calling\": False,\n",
    "            \"supports_json_mode\": False,\n",
    "            \"structured_output\": True,\n",
    "            \"json_output\": True,\n",
    "            \"function_calling\": True,\n",
    "            \"vision\": True,\n",
    "        }\n",
    "    }\n",
    "}\n",
    "\n",
    "client = ChatCompletionClient.load_component(config)"
   ]
  },
  {
   "cell_type": "markdown",
   "id": "423b8a7d",
   "metadata": {},
   "source": [
    "## Tools"
   ]
  },
  {
   "cell_type": "code",
   "execution_count": null,
   "id": "c57546c5",
   "metadata": {},
   "outputs": [],
   "source": [
    "async def get_stock_data(symbol: str) -> Dict[str, Any]:\n",
    "    \"\"\"Get stock market data for a given symbol\"\"\"\n",
    "    return {\"price\": 180.25, \"volume\": 1000000, \"pe_ratio\": 65.4, \"market_cap\": \"700B\"}\n",
    "\n",
    "\n",
    "async def get_news(query: str) -> List[Dict[str, str]]:\n",
    "    \"\"\"Get recent news articles about a company\"\"\"\n",
    "    return [\n",
    "        {\n",
    "            \"title\": \"Tesla Expands Cybertruck Production\",\n",
    "            \"date\": \"2024-03-20\",\n",
    "            \"summary\": \"Tesla ramps up Cybertruck manufacturing capacity at Gigafactory Texas, aiming to meet strong demand.\",\n",
    "        },\n",
    "        {\n",
    "            \"title\": \"Tesla FSD Beta Shows Promise\",\n",
    "            \"date\": \"2024-03-19\",\n",
    "            \"summary\": \"Latest Full Self-Driving beta demonstrates significant improvements in urban navigation and safety features.\",\n",
    "        },\n",
    "        {\n",
    "            \"title\": \"Model Y Dominates Global EV Sales\",\n",
    "            \"date\": \"2024-03-18\",\n",
    "            \"summary\": \"Tesla's Model Y becomes best-selling electric vehicle worldwide, capturing significant market share.\",\n",
    "        },\n",
    "    ]"
   ]
  },
  {
   "cell_type": "code",
   "execution_count": null,
   "id": "ff3cbb1e",
   "metadata": {},
   "outputs": [],
   "source": []
  }
 ],
 "metadata": {
  "kernelspec": {
   "display_name": "LLMs_Agents",
   "language": "python",
   "name": "python3"
  },
  "language_info": {
   "name": "python",
   "version": "3.10.16"
  }
 },
 "nbformat": 4,
 "nbformat_minor": 5
}

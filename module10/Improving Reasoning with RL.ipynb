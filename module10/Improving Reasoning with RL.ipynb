{
 "cells": [
  {
   "cell_type": "markdown",
   "id": "1d875f88",
   "metadata": {},
   "source": [
    "## Setup Environment"
   ]
  },
  {
   "cell_type": "code",
   "execution_count": null,
   "id": "866fecc5",
   "metadata": {},
   "outputs": [],
   "source": [
    "! pip install unsloth==2025.4.1 vllm==0.7.3"
   ]
  },
  {
   "cell_type": "markdown",
   "id": "576e89f9",
   "metadata": {},
   "source": [
    "## Load Base Model"
   ]
  },
  {
   "cell_type": "code",
   "execution_count": null,
   "id": "302a681e",
   "metadata": {},
   "outputs": [],
   "source": [
    "from vllm import SamplingParams\n",
    "from unsloth import FastLanguageModel\n",
    "from trl import GRPOConfig, GRPOTrainer"
   ]
  },
  {
   "cell_type": "code",
   "execution_count": 1,
   "id": "d9c029b4",
   "metadata": {},
   "outputs": [
    {
     "name": "stderr",
     "output_type": "stream",
     "text": [
      "d:\\Asus\\Ungdung\\Miniconda\\workspace\\envs\\LLMs_Agents\\lib\\site-packages\\tqdm\\auto.py:21: TqdmWarning: IProgress not found. Please update jupyter and ipywidgets. See https://ipywidgets.readthedocs.io/en/stable/user_install.html\n",
      "  from .autonotebook import tqdm as notebook_tqdm\n"
     ]
    }
   ],
   "source": [
    "import os\n",
    "import re\n",
    "from datasets import load_dataset, Dataset"
   ]
  },
  {
   "cell_type": "markdown",
   "id": "52042da4",
   "metadata": {},
   "source": [
    "## Configure LoRA"
   ]
  },
  {
   "cell_type": "markdown",
   "id": "5ffcddc4",
   "metadata": {},
   "source": [
    "- max_seq_length định nghĩa độ dài tối đa của input sequence.\n",
    "- lora_rank xác định kích thước của ma trận adapter LoRA.\n",
    "- load_in_4bit=False tắt lượng tử hóa để giữ độ chính xác cho reasoning.\n",
    "- fast_inference=True tối ưu hóa throughput khi sinh text.\n",
    "- gpu_memory_utilization=0.8 cho phép sử dụng tối đa 80% bộ nhớ GPU."
   ]
  },
  {
   "cell_type": "code",
   "execution_count": null,
   "id": "fac9dc10",
   "metadata": {},
   "outputs": [],
   "source": [
    "max_seq_length = 2048\n",
    "lora_rank = 64\n",
    "\n",
    "model, tokenizer = FastLanguageModel.from_pretrained(\n",
    "    model_name=\"meta-llama/Llama-3.2-1B-Instruct\",\n",
    "    max_seq_length=max_seq_length,\n",
    "    load_in_4bit=False,\n",
    "    fast_inference=True,\n",
    "    max_lora_rank=lora_rank,\n",
    "    gpu_memory_utilization=0.8,\n",
    ")\n",
    "\n",
    "model = FastLanguageModel.get_peft_model(\n",
    "    model,\n",
    "    r=lora_rank,\n",
    "    target_modules=[\n",
    "        \"q_proj\", \"k_proj\", \"v_proj\", \"o_proj\",\n",
    "        \"gate_proj\", \"up_proj\", \"down_proj\",\n",
    "    ],\n",
    "    lora_alpha=lora_rank,\n",
    "    use_gradient_checkpointing=\"unsloth\",\n",
    "    random_state=3407,\n",
    ")"
   ]
  },
  {
   "cell_type": "markdown",
   "id": "b5e9a503",
   "metadata": {},
   "source": [
    "## Prepare Dataset"
   ]
  },
  {
   "cell_type": "code",
   "execution_count": 42,
   "id": "779638bf",
   "metadata": {},
   "outputs": [],
   "source": [
    "dataset = load_dataset(\"5CD-AI/Vietnamese-meta-math-MetaMathQA-40K-gg-translated\", split=\"train\")"
   ]
  },
  {
   "cell_type": "code",
   "execution_count": 43,
   "id": "f0d00746",
   "metadata": {},
   "outputs": [
    {
     "data": {
      "text/plain": [
       "{'query_en': 'John buys 10 packs of magic cards.  Each pack has x cards and 1/4 of those cards are uncommon. He got 50 uncommon cards.',\n",
       " 'response_en': \"To solve this problem, we need to determine the value of x, which represents the number of cards in each pack.\\nLet's break down the information given:\\nNumber of packs of magic cards: 10\\nFraction of uncommon cards in each pack: 1/4\\nNumber of uncommon cards obtained: 50\\nWe can set up the equation as follows:\\nNumber of packs * Number of cards per pack * Fraction of uncommon cards = Number of uncommon cards obtained\\n10 * x * 1/4 = 50\\nLet's simplify and solve for x:\\n10 * x * 1/4 = 50\\n10 * x = 50 * 4\\n10 * x = 200\\nTo isolate x, we divide both sides of the equation by 10:\\n10 * x / 10 = 200 / 10\\nx = 20\\nThe value of x is 20.\\n#### 20\\nThe answer is: 20\",\n",
       " 'type': 'GSM_SV',\n",
       " 'query_vi': 'John mua 10 gói thẻ ma thuật. Mỗi gói có x thẻ và 1/4 trong số đó là thẻ không phổ biến. Anh ta có 50 thẻ thông thường.',\n",
       " 'response_vi': 'Để giải quyết vấn đề này, chúng ta cần xác định giá trị của x, đại diện cho số lượng quân bài trong mỗi gói. Hãy chia nhỏ thông tin đã cho: Số gói thẻ ma thuật: 10 Tỷ lệ thẻ thông thường trong mỗi gói: 1/4 Số thẻ thông thường thu được: 50 Chúng ta có thể thiết lập phương trình như sau: Số gói * Số lượng thẻ mỗi gói * Tỷ lệ thẻ không phổ biến = Số thẻ không phổ biến thu được 10 * x * 1/4 = 50 Hãy đơn giản hóa và giải x: 10 * x * 1/4 = 50 10 * x = 50 * 4 10 * x = 200 To tách x, ta chia cả hai vế của phương trình cho 10: 10 * x/10 = 200/10 x = 20 Giá trị của x là 20. ####20 Đáp án là: 20'}"
      ]
     },
     "execution_count": 43,
     "metadata": {},
     "output_type": "execute_result"
    }
   ],
   "source": [
    "dataset[3000]"
   ]
  },
  {
   "cell_type": "code",
   "execution_count": 48,
   "id": "c2c3025d",
   "metadata": {},
   "outputs": [
    {
     "name": "stdout",
     "output_type": "stream",
     "text": [
      "{'question': 'cha của reggie đã cho anh ấy 48 đô la. reggie đã mua 5 cuốn sách, mỗi cuốn có giá x. reggie còn lại 38 tiền. giá trị của biến x chưa biết là bao nhiêu?', 'answer': '2'}\n"
     ]
    }
   ],
   "source": [
    "answer_pattern = re.compile(\n",
    "    # Sau đó cho phép có khoảng trắng tùy ý (\\s*). -- bắt lấy bất kỳ nội dung nào phía sau ((.*)), chính là phần câu trả lời thực sự.\n",
    "    r\"(đáp án là:|đáp án là :|câu trả lời là:|câu trả lời là :)\\s*(.*)\",\n",
    "    re.IGNORECASE\n",
    ")\n",
    "\n",
    "def extract__qanswer(example):\n",
    "    # Tách câu hỏi và câu trả lời từ văn bản\n",
    "    match = answer_pattern.search(example[\"response_vi\"].strip().lower())\n",
    "    question = example[\"query_vi\"].strip().lower()\n",
    "    if match:\n",
    "        answer = match.group(2).strip()\n",
    "    else:\n",
    "        answer = \"\"\n",
    "    return {\"question\": question, \"answer\": answer}\n",
    "\n",
    "\n",
    "print(extract__qanswer(dataset[0]))"
   ]
  },
  {
   "cell_type": "code",
   "execution_count": 54,
   "id": "5e9c71e2",
   "metadata": {},
   "outputs": [],
   "source": [
    "standardized_dataset = dataset.map(\n",
    "    extract__qanswer,\n",
    "    remove_columns=dataset.column_names, # xóa các cột hiện tại (vì nó kh cần thiết)\n",
    "    desc=\"Standardizing dataset\",\n",
    ").to_list()"
   ]
  },
  {
   "cell_type": "code",
   "execution_count": 57,
   "id": "6e10948b",
   "metadata": {},
   "outputs": [
    {
     "data": {
      "text/plain": [
       "{'question': 'cha của reggie đã cho anh ấy 48 đô la. reggie đã mua 5 cuốn sách, mỗi cuốn có giá x. reggie còn lại 38 tiền. giá trị của biến x chưa biết là bao nhiêu?',\n",
       " 'answer': '2'}"
      ]
     },
     "execution_count": 57,
     "metadata": {},
     "output_type": "execute_result"
    }
   ],
   "source": [
    "standardized_dataset[0]"
   ]
  },
  {
   "cell_type": "code",
   "execution_count": 60,
   "id": "ea82d41f",
   "metadata": {},
   "outputs": [
    {
     "name": "stderr",
     "output_type": "stream",
     "text": [
      "Map:   0%|          | 0/8000 [00:00<?, ? examples/s]"
     ]
    },
    {
     "name": "stderr",
     "output_type": "stream",
     "text": [
      "Map: 100%|██████████| 8000/8000 [00:00<00:00, 17551.26 examples/s]\n"
     ]
    }
   ],
   "source": [
    "reasoning_start = \"<thinking>\"\n",
    "reasoning_end = \"</thinking>\"\n",
    "solution_start = \"<SOLUTION>\"\n",
    "solution_end = \"</SOLUTION>\"\n",
    "\n",
    "system_prompt = \\\n",
    "    f\"\"\"You are given a problem.\n",
    "Think about the problem and provide your thought process.\n",
    "Place it between {reasoning_start} and {reasoning_end}.\n",
    "Then, provide your final answer between {solution_start}{solution_end}\"\"\"\n",
    "\n",
    "train_dataset = Dataset.from_list(standardized_dataset[:8000]) \n",
    "\n",
    "train_dataset = train_dataset.map(lambda x: {\n",
    "    \"prompt\": [\n",
    "        {\"role\": \"system\", \"content\": system_prompt},\n",
    "        {\"role\": \"user\", \"content\": x[\"question\"]},\n",
    "    ],\n",
    "    \"answer\": x[\"answer\"],\n",
    "})\n"
   ]
  },
  {
   "cell_type": "code",
   "execution_count": 64,
   "id": "d4cdb39c",
   "metadata": {},
   "outputs": [
    {
     "data": {
      "text/plain": [
       "{'question': 'cally và danny giặt quần áo. cally có 10 áo sơ mi trắng, 5 áo sơ mi màu, 7 chiếc quần đùi và 6 chiếc quần dài, trong khi danny có 6 chiếc áo sơ mi trắng, 8 chiếc áo sơ mi màu, 10 chiếc quần đùi và 6 chiếc quần dài. họ đã giặt bao nhiêu bộ quần áo?',\n",
       " 'answer': '58',\n",
       " 'prompt': [{'content': 'You are given a problem.\\nThink about the problem and provide your thought process.\\nPlace it between <thinking> and </thinking>.\\nThen, provide your final answer between <SOLUTION></SOLUTION>',\n",
       "   'role': 'system'},\n",
       "  {'content': 'cally và danny giặt quần áo. cally có 10 áo sơ mi trắng, 5 áo sơ mi màu, 7 chiếc quần đùi và 6 chiếc quần dài, trong khi danny có 6 chiếc áo sơ mi trắng, 8 chiếc áo sơ mi màu, 10 chiếc quần đùi và 6 chiếc quần dài. họ đã giặt bao nhiêu bộ quần áo?',\n",
       "   'role': 'user'}]}"
      ]
     },
     "execution_count": 64,
     "metadata": {},
     "output_type": "execute_result"
    }
   ],
   "source": [
    "train_dataset[2]"
   ]
  },
  {
   "cell_type": "markdown",
   "id": "7ff4363d",
   "metadata": {},
   "source": [
    "## Fine-tune LLM"
   ]
  },
  {
   "cell_type": "markdown",
   "id": "faf405bb",
   "metadata": {},
   "source": [
    "## Save Checkpoints"
   ]
  },
  {
   "cell_type": "markdown",
   "id": "9faedf9c",
   "metadata": {},
   "source": [
    "## Run Evaluate"
   ]
  }
 ],
 "metadata": {
  "kernelspec": {
   "display_name": "LLMs_Agents",
   "language": "python",
   "name": "python3"
  },
  "language_info": {
   "codemirror_mode": {
    "name": "ipython",
    "version": 3
   },
   "file_extension": ".py",
   "mimetype": "text/x-python",
   "name": "python",
   "nbconvert_exporter": "python",
   "pygments_lexer": "ipython3",
   "version": "3.10.16"
  }
 },
 "nbformat": 4,
 "nbformat_minor": 5
}

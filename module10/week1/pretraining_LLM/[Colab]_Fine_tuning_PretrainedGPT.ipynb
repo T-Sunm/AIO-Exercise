{
  "cells": [
    {
      "cell_type": "markdown",
      "source": [
        "## **Dataset**"
      ],
      "metadata": {
        "id": "TArYZ7MWNenX"
      },
      "id": "TArYZ7MWNenX"
    },
    {
      "cell_type": "code",
      "execution_count": null,
      "id": "ea2f1b70",
      "metadata": {
        "id": "ea2f1b70"
      },
      "outputs": [],
      "source": [
        "from datasets import load_dataset\n",
        "\n",
        "# Load IMDb dataset\n",
        "dataset = load_dataset(\"imdb\")"
      ]
    },
    {
      "cell_type": "code",
      "execution_count": null,
      "id": "605964e4",
      "metadata": {
        "id": "605964e4",
        "outputId": "92d20f2a-ceae-4985-e7fb-64d62a87fefd"
      },
      "outputs": [
        {
          "data": {
            "text/plain": [
              "{'text': 'I rented I AM CURIOUS-YELLOW from my video store because of all the controversy that surrounded it when it was first released in 1967. I also heard that at first it was seized by U.S. customs if it ever tried to enter this country, therefore being a fan of films considered \"controversial\" I really had to see this for myself.<br /><br />The plot is centered around a young Swedish drama student named Lena who wants to learn everything she can about life. In particular she wants to focus her attentions to making some sort of documentary on what the average Swede thought about certain political issues such as the Vietnam War and race issues in the United States. In between asking politicians and ordinary denizens of Stockholm about their opinions on politics, she has sex with her drama teacher, classmates, and married men.<br /><br />What kills me about I AM CURIOUS-YELLOW is that 40 years ago, this was considered pornographic. Really, the sex and nudity scenes are few and far between, even then it\\'s not shot like some cheaply made porno. While my countrymen mind find it shocking, in reality sex and nudity are a major staple in Swedish cinema. Even Ingmar Bergman, arguably their answer to good old boy John Ford, had sex scenes in his films.<br /><br />I do commend the filmmakers for the fact that any sex shown in the film is shown for artistic purposes rather than just to shock people and make money to be shown in pornographic theaters in America. I AM CURIOUS-YELLOW is a good film for anyone wanting to study the meat and potatoes (no pun intended) of Swedish cinema. But really, this film doesn\\'t have much of a plot.',\n",
              " 'label': 0}"
            ]
          },
          "execution_count": 3,
          "metadata": {},
          "output_type": "execute_result"
        }
      ],
      "source": [
        "dataset[\"train\"][0]"
      ]
    },
    {
      "cell_type": "code",
      "execution_count": null,
      "id": "77a055f9",
      "metadata": {
        "id": "77a055f9"
      },
      "outputs": [],
      "source": [
        "# With small dataset: 50% full data\n",
        "from datasets import load_dataset, concatenate_datasets\n",
        "\n",
        "# Load full dataset\n",
        "dataset = load_dataset(\"imdb\")\n",
        "\n",
        "# Tách riêng nhãn\n",
        "train_dataset = dataset[\"train\"]\n",
        "positive = train_dataset.filter(lambda x: x[\"label\"] == 1)\n",
        "negative = train_dataset.filter(lambda x: x[\"label\"] == 0)\n",
        "\n",
        "# Lấy 50% (balanced): mỗi lớp lấy 12500 * 0.5 = 6250 mẫu\n",
        "subset_pos = positive.shuffle(seed=42).select(range(6250))\n",
        "subset_neg = negative.shuffle(seed=42).select(range(6250))\n",
        "\n",
        "# Gộp lại và shuffle toàn bộ\n",
        "balanced_subset = concatenate_datasets([subset_pos, subset_neg]).shuffle(seed=42)\n",
        "\n",
        "# Thay vào tập train\n",
        "dataset[\"train\"] = balanced_subset\n"
      ]
    },
    {
      "cell_type": "code",
      "execution_count": null,
      "id": "b1c55b13",
      "metadata": {
        "id": "b1c55b13",
        "outputId": "627779f0-963f-4ae3-d80c-65b560eb53e9"
      },
      "outputs": [
        {
          "data": {
            "text/plain": [
              "DatasetDict({\n",
              "    train: Dataset({\n",
              "        features: ['text', 'label'],\n",
              "        num_rows: 12500\n",
              "    })\n",
              "    test: Dataset({\n",
              "        features: ['text', 'label'],\n",
              "        num_rows: 25000\n",
              "    })\n",
              "    unsupervised: Dataset({\n",
              "        features: ['text', 'label'],\n",
              "        num_rows: 50000\n",
              "    })\n",
              "})"
            ]
          },
          "execution_count": 2,
          "metadata": {},
          "output_type": "execute_result"
        }
      ],
      "source": [
        "dataset"
      ]
    },
    {
      "cell_type": "markdown",
      "source": [
        "## **Tokenizer**"
      ],
      "metadata": {
        "id": "0AgN7QLUN4mq"
      },
      "id": "0AgN7QLUN4mq"
    },
    {
      "cell_type": "code",
      "execution_count": null,
      "id": "77504dba",
      "metadata": {
        "id": "77504dba"
      },
      "outputs": [],
      "source": [
        "from transformers import AutoTokenizer\n",
        "\n",
        "model_name = \"thainq107/gpt-small-c4\"\n",
        "tokenizer = AutoTokenizer.from_pretrained(model_name)"
      ]
    },
    {
      "cell_type": "code",
      "execution_count": null,
      "id": "deece4f4",
      "metadata": {
        "id": "deece4f4"
      },
      "outputs": [],
      "source": [
        "# Tokenize function\n",
        "def tokenize(example):\n",
        "    return tokenizer(\n",
        "        example[\"text\"], padding=\"max_length\", truncation=True, max_length=256\n",
        "    )\n",
        "\n",
        "# Tokenize full dataset\n",
        "tokenized_ds = dataset.map(tokenize, batched=True)\n",
        "tokenized_ds = tokenized_ds.remove_columns([\"text\"])\n",
        "tokenized_ds.set_format(\"torch\")"
      ]
    },
    {
      "cell_type": "code",
      "execution_count": null,
      "id": "8024af02",
      "metadata": {
        "id": "8024af02",
        "outputId": "e20dd9fa-400e-4d84-d90e-09448cef1fa6"
      },
      "outputs": [
        {
          "data": {
            "text/plain": [
              "1"
            ]
          },
          "execution_count": 13,
          "metadata": {},
          "output_type": "execute_result"
        }
      ],
      "source": [
        "tokenizer.pad_token_id"
      ]
    },
    {
      "cell_type": "code",
      "execution_count": null,
      "id": "21b03547",
      "metadata": {
        "id": "21b03547",
        "outputId": "60160173-91d6-44ff-9a80-de9cc5248e9c"
      },
      "outputs": [
        {
          "data": {
            "text/plain": [
              "DatasetDict({\n",
              "    train: Dataset({\n",
              "        features: ['label', 'input_ids', 'token_type_ids', 'attention_mask'],\n",
              "        num_rows: 25000\n",
              "    })\n",
              "    test: Dataset({\n",
              "        features: ['label', 'input_ids', 'token_type_ids', 'attention_mask'],\n",
              "        num_rows: 25000\n",
              "    })\n",
              "    unsupervised: Dataset({\n",
              "        features: ['label', 'input_ids', 'token_type_ids', 'attention_mask'],\n",
              "        num_rows: 50000\n",
              "    })\n",
              "})"
            ]
          },
          "execution_count": 5,
          "metadata": {},
          "output_type": "execute_result"
        }
      ],
      "source": [
        "tokenized_ds"
      ]
    },
    {
      "cell_type": "markdown",
      "source": [
        "## **Model**"
      ],
      "metadata": {
        "id": "SPkernyINmFC"
      },
      "id": "SPkernyINmFC"
    },
    {
      "cell_type": "code",
      "execution_count": null,
      "id": "65f07f9b",
      "metadata": {
        "id": "65f07f9b"
      },
      "outputs": [],
      "source": [
        "from transformers import AutoConfig, AutoModelForSequenceClassification\n",
        "\n",
        "# Load config từ model pretrained (không load weight!)\n",
        "config = AutoConfig.from_pretrained(\"thainq107/gpt-small-c4\")\n",
        "config.num_labels = 2\n",
        "config.id2label = id2label = {0: 'Negative', 1: 'Positive'}\n",
        "config.label2id = {'Negative': 0, 'Positive': 1}\n",
        "\n",
        "# Khởi tạo model mới từ config (với weight ngẫu nhiên)\n",
        "model = AutoModelForSequenceClassification.from_config(config)\n",
        "\n",
        "# Thiết lập pad_token_id nếu cần\n",
        "model.config.pad_token_id = tokenizer.pad_token_id\n"
      ]
    },
    {
      "cell_type": "code",
      "execution_count": null,
      "id": "8c005ddf",
      "metadata": {
        "id": "8c005ddf",
        "outputId": "990f148f-4153-4290-dbd7-dd011969e1f2"
      },
      "outputs": [
        {
          "name": "stderr",
          "output_type": "stream",
          "text": [
            "Some weights of GPT2ForSequenceClassification were not initialized from the model checkpoint at thainq107/gpt-small-c4 and are newly initialized: ['score.weight']\n",
            "You should probably TRAIN this model on a down-stream task to be able to use it for predictions and inference.\n"
          ]
        }
      ],
      "source": [
        "from transformers import AutoModelForSequenceClassification\n",
        "\n",
        "id2label = {0: 'Negative', 1: 'Positive'}\n",
        "label2id = {'Negative': 0, 'Positive': 1}\n",
        "\n",
        "model = AutoModelForSequenceClassification.from_pretrained(\n",
        "    \"thainq107/gpt-small-c4\",\n",
        "    num_labels=2, id2label=id2label, label2id=label2id\n",
        ")\n",
        "model.config.pad_token_id = tokenizer.pad_token_id"
      ]
    },
    {
      "cell_type": "code",
      "execution_count": null,
      "id": "c5c37389",
      "metadata": {
        "id": "c5c37389",
        "outputId": "906d7cab-3604-460e-cceb-e7cfdfff7cce"
      },
      "outputs": [
        {
          "data": {
            "text/plain": [
              "GPT2ForSequenceClassification(\n",
              "  (transformer): GPT2Model(\n",
              "    (wte): Embedding(50257, 512)\n",
              "    (wpe): Embedding(512, 512)\n",
              "    (drop): Dropout(p=0.1, inplace=False)\n",
              "    (h): ModuleList(\n",
              "      (0-5): 6 x GPT2Block(\n",
              "        (ln_1): LayerNorm((512,), eps=1e-05, elementwise_affine=True)\n",
              "        (attn): GPT2Attention(\n",
              "          (c_attn): Conv1D(nf=1536, nx=512)\n",
              "          (c_proj): Conv1D(nf=512, nx=512)\n",
              "          (attn_dropout): Dropout(p=0.1, inplace=False)\n",
              "          (resid_dropout): Dropout(p=0.1, inplace=False)\n",
              "        )\n",
              "        (ln_2): LayerNorm((512,), eps=1e-05, elementwise_affine=True)\n",
              "        (mlp): GPT2MLP(\n",
              "          (c_fc): Conv1D(nf=2048, nx=512)\n",
              "          (c_proj): Conv1D(nf=512, nx=2048)\n",
              "          (act): NewGELUActivation()\n",
              "          (dropout): Dropout(p=0.1, inplace=False)\n",
              "        )\n",
              "      )\n",
              "    )\n",
              "    (ln_f): LayerNorm((512,), eps=1e-05, elementwise_affine=True)\n",
              "  )\n",
              "  (score): Linear(in_features=512, out_features=2, bias=False)\n",
              ")"
            ]
          },
          "execution_count": 6,
          "metadata": {},
          "output_type": "execute_result"
        }
      ],
      "source": [
        "model"
      ]
    },
    {
      "cell_type": "markdown",
      "source": [
        "## **Training**"
      ],
      "metadata": {
        "id": "bOyHVWISNpQB"
      },
      "id": "bOyHVWISNpQB"
    },
    {
      "cell_type": "code",
      "execution_count": null,
      "id": "ff28f278",
      "metadata": {
        "id": "ff28f278",
        "outputId": "fb839be8-c036-4fc1-f045-f92a9f7864f6"
      },
      "outputs": [
        {
          "name": "stderr",
          "output_type": "stream",
          "text": [
            "Using the latest cached version of the module from /home/s24thai/.cache/huggingface/modules/evaluate_modules/metrics/evaluate-metric--accuracy/f887c0aab52c2d38e1f8a215681126379eca617f96c447638f751434e8e65b14 (last modified on Wed Feb  5 15:33:17 2025) since it couldn't be found locally at evaluate-metric--accuracy, or remotely on the Hugging Face Hub.\n"
          ]
        }
      ],
      "source": [
        "import evaluate\n",
        "\n",
        "accuracy = evaluate.load(\"accuracy\")\n",
        "\n",
        "def compute_metrics(eval_pred):\n",
        "    logits, labels = eval_pred\n",
        "    preds = logits.argmax(axis=-1)\n",
        "    return accuracy.compute(predictions=preds, references=labels)"
      ]
    },
    {
      "cell_type": "code",
      "execution_count": null,
      "id": "6f0d29a6",
      "metadata": {
        "id": "6f0d29a6"
      },
      "outputs": [],
      "source": [
        "from transformers import TrainingArguments, Trainer\n",
        "\n",
        "training_args = TrainingArguments(\n",
        "    output_dir=\"imdb2-small-gpt2-small\",\n",
        "    eval_strategy=\"epoch\",\n",
        "    save_strategy=\"epoch\",\n",
        "    logging_strategy=\"epoch\",\n",
        "    per_device_train_batch_size=64,\n",
        "    per_device_eval_batch_size=64,\n",
        "    num_train_epochs=10,\n",
        "    weight_decay=0.01,\n",
        "    load_best_model_at_end=True,\n",
        "    metric_for_best_model=\"accuracy\",\n",
        "    greater_is_better=True,\n",
        "    save_total_limit=1,\n",
        "    fp16=True,\n",
        ")\n"
      ]
    },
    {
      "cell_type": "code",
      "execution_count": null,
      "id": "a2dcfbfa",
      "metadata": {
        "id": "a2dcfbfa",
        "outputId": "9952c772-8e99-463c-ca71-7abeff654391"
      },
      "outputs": [
        {
          "data": {
            "text/html": [
              "\n",
              "    <div>\n",
              "      \n",
              "      <progress value='3910' max='3910' style='width:300px; height:20px; vertical-align: middle;'></progress>\n",
              "      [3910/3910 10:52, Epoch 10/10]\n",
              "    </div>\n",
              "    <table border=\"1\" class=\"dataframe\">\n",
              "  <thead>\n",
              " <tr style=\"text-align: left;\">\n",
              "      <th>Epoch</th>\n",
              "      <th>Training Loss</th>\n",
              "      <th>Validation Loss</th>\n",
              "      <th>Accuracy</th>\n",
              "    </tr>\n",
              "  </thead>\n",
              "  <tbody>\n",
              "    <tr>\n",
              "      <td>1</td>\n",
              "      <td>0.420200</td>\n",
              "      <td>0.332835</td>\n",
              "      <td>0.855400</td>\n",
              "    </tr>\n",
              "    <tr>\n",
              "      <td>2</td>\n",
              "      <td>0.256300</td>\n",
              "      <td>0.410367</td>\n",
              "      <td>0.841720</td>\n",
              "    </tr>\n",
              "    <tr>\n",
              "      <td>3</td>\n",
              "      <td>0.154500</td>\n",
              "      <td>0.454666</td>\n",
              "      <td>0.846360</td>\n",
              "    </tr>\n",
              "    <tr>\n",
              "      <td>4</td>\n",
              "      <td>0.089300</td>\n",
              "      <td>0.655734</td>\n",
              "      <td>0.834960</td>\n",
              "    </tr>\n",
              "    <tr>\n",
              "      <td>5</td>\n",
              "      <td>0.057200</td>\n",
              "      <td>0.814169</td>\n",
              "      <td>0.828040</td>\n",
              "    </tr>\n",
              "    <tr>\n",
              "      <td>6</td>\n",
              "      <td>0.033100</td>\n",
              "      <td>1.457752</td>\n",
              "      <td>0.812400</td>\n",
              "    </tr>\n",
              "    <tr>\n",
              "      <td>7</td>\n",
              "      <td>0.020100</td>\n",
              "      <td>1.353611</td>\n",
              "      <td>0.811960</td>\n",
              "    </tr>\n",
              "    <tr>\n",
              "      <td>8</td>\n",
              "      <td>0.014800</td>\n",
              "      <td>1.315395</td>\n",
              "      <td>0.827000</td>\n",
              "    </tr>\n",
              "    <tr>\n",
              "      <td>9</td>\n",
              "      <td>0.007800</td>\n",
              "      <td>1.438292</td>\n",
              "      <td>0.828880</td>\n",
              "    </tr>\n",
              "    <tr>\n",
              "      <td>10</td>\n",
              "      <td>0.004700</td>\n",
              "      <td>1.453643</td>\n",
              "      <td>0.828040</td>\n",
              "    </tr>\n",
              "  </tbody>\n",
              "</table><p>"
            ],
            "text/plain": [
              "<IPython.core.display.HTML object>"
            ]
          },
          "metadata": {},
          "output_type": "display_data"
        },
        {
          "data": {
            "text/plain": [
              "TrainOutput(global_step=3910, training_loss=0.10581434989524315, metrics={'train_runtime': 652.7085, 'train_samples_per_second': 383.019, 'train_steps_per_second': 5.99, 'total_flos': 7263879168000000.0, 'train_loss': 0.10581434989524315, 'epoch': 10.0})"
            ]
          },
          "execution_count": 16,
          "metadata": {},
          "output_type": "execute_result"
        }
      ],
      "source": [
        "trainer = Trainer(\n",
        "    model=model,\n",
        "    args=training_args,\n",
        "    train_dataset=tokenized_ds[\"train\"],\n",
        "    eval_dataset=tokenized_ds[\"test\"],\n",
        "    processing_class=tokenizer,\n",
        "    compute_metrics=compute_metrics,\n",
        ")\n",
        "\n",
        "trainer.train()"
      ]
    }
  ],
  "metadata": {
    "kernelspec": {
      "display_name": "CoMA",
      "language": "python",
      "name": "python3"
    },
    "language_info": {
      "codemirror_mode": {
        "name": "ipython",
        "version": 3
      },
      "file_extension": ".py",
      "mimetype": "text/x-python",
      "name": "python",
      "nbconvert_exporter": "python",
      "pygments_lexer": "ipython3",
      "version": "3.10.14"
    },
    "colab": {
      "provenance": [],
      "toc_visible": true
    }
  },
  "nbformat": 4,
  "nbformat_minor": 5
}
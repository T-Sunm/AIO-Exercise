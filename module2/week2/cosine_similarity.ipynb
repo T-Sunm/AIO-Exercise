{
 "cells": [
  {
   "cell_type": "markdown",
   "metadata": {},
   "source": [
    "### 3. Cosine Similarity:\n",
    "\n",
    "$$\n",
    "\n",
    "\\text{\\textbf{3.1. Cosine Similarity}} \\\\\n",
    "\\text{• Data (vector } \\mathbf{x}, \\mathbf{y} \\text{): } \\mathbf{x} = \\{ 1, 2, 3, 4 \\}, \\mathbf{y} = \\{ 1, 0, 3, 0 \\} \\\\\n",
    "\\text{• Cosine Similarity: } cs(\\mathbf{x}, \\mathbf{y}) = \\frac{\\mathbf{x} \\cdot \\mathbf{y}}{\\|\\mathbf{x}\\| \\|\\mathbf{y}\\|} = \\frac{\\sum_{i=1}^{4} x_i y_i}{\\sqrt{\\sum_{i=1}^{4} x_i^2} \\sqrt{\\sum_{i=1}^{4} y_i^2}} = 0,577 \\\\\n",
    "\n",
    "$$"
   ]
  },
  {
   "cell_type": "code",
   "execution_count": 3,
   "metadata": {},
   "outputs": [
    {
     "name": "stdout",
     "output_type": "stream",
     "text": [
      "Cosine Similarity x and y 0.5773502691896257\n"
     ]
    }
   ],
   "source": [
    "import numpy as np\n",
    "\n",
    "def compute_cosine(v1, v2):\n",
    "    multi = np.einsum('i,i->',v1,v2)\n",
    "    norm_v1 = np.sqrt(np.einsum('i,i->',v1, v1))\n",
    "    norm_v2 = np.sqrt(np.einsum('i,i->',v2, v2))\n",
    "    cos_sim = multi / (norm_v1*norm_v2)\n",
    "\n",
    "    return cos_sim\n",
    "\n",
    "\n",
    "x = np.array([1, 2, 3, 4])\n",
    "y = np.array([1, 0, 3, 0])\n",
    "\n",
    "print('Cosine Similarity x and y', compute_cosine(x, y))"
   ]
  }
 ],
 "metadata": {
  "kernelspec": {
   "display_name": "40daysPython_env",
   "language": "python",
   "name": "python3"
  },
  "language_info": {
   "codemirror_mode": {
    "name": "ipython",
    "version": 3
   },
   "file_extension": ".py",
   "mimetype": "text/x-python",
   "name": "python",
   "nbconvert_exporter": "python",
   "pygments_lexer": "ipython3",
   "version": "3.10.13"
  }
 },
 "nbformat": 4,
 "nbformat_minor": 2
}

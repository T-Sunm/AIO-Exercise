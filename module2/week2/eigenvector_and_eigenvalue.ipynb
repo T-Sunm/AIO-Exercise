{
 "cells": [
  {
   "cell_type": "markdown",
   "metadata": {},
   "source": [
    "- **A** $ = \\begin{bmatrix} 0.9 & 0.2 \\\\ 0.1 & 0.8 \\end{bmatrix} \\in \\textit{R}^{\\textit{2} \\ast \\textit{2}}$ ,**I** $\\in \\textit{R}^{\\textit{2} \\ast \\textit{2}}$ , **v** $\\in \\textit{R}^{\\textit{n}}$\n",
    "\n",
    "- Eigenvalue $(\\lambda): \\begin{bmatrix} 0.9 - \\lambda & 0.2  \\\\ 0.1 & 0.8 - \\lambda \\end{bmatrix} = \\lambda ^{2} - 1,7\\lambda + 0,7 = 0 => \\lambda_1=1,\\lambda_2=0.7 $\n",
    "- Eigenvector $(\\mathbf{v}): \\mathbf{v}_1 = \\begin{bmatrix} 2 \\\\ 1\\end{bmatrix}, \\mathbf{v}_1 = \\begin{bmatrix} -1 \\\\ 1\\end{bmatrix}$\n",
    "\n",
    "- Normalize vector:  $\\mathbf{v}_1 = \\begin{bmatrix} \\frac{2}{\\sqrt{5}} \\\\ \\frac{1}{\\sqrt{5}}  \\end{bmatrix}, \\mathbf{v}_2 = \\begin{bmatrix} \\frac{-1}{\\sqrt{2}} \\\\  \\frac{1}{\\sqrt{2}}\\end{bmatrix}$"
   ]
  },
  {
   "cell_type": "code",
   "execution_count": 6,
   "metadata": {},
   "outputs": [
    {
     "name": "stdout",
     "output_type": "stream",
     "text": [
      "[1.  0.7] \n",
      " [[ 0.89442719 -0.70710678]\n",
      " [ 0.4472136   0.70710678]]\n"
     ]
    }
   ],
   "source": [
    "import numpy as np\n",
    "\n",
    "def compute_eigenvalues_eigenvectors(matrix):\n",
    "    eigenvalues, eigenvectors = np.linalg.eig(matrix)\n",
    "\n",
    "    return (eigenvalues, eigenvectors)\n",
    "\n",
    "# Ma trận A\n",
    "A = np.array([\n",
    "    [0.9, 0.2],\n",
    "    [0.1, 0.8]\n",
    "])\n",
    "\n",
    "eigenvalues, eigenvectors = compute_eigenvalues_eigenvectors(A)\n",
    "\n",
    "print(eigenvalues,'\\n', eigenvectors)"
   ]
  },
  {
   "cell_type": "code",
   "execution_count": null,
   "metadata": {},
   "outputs": [],
   "source": []
  }
 ],
 "metadata": {
  "kernelspec": {
   "display_name": "40daysPython_env",
   "language": "python",
   "name": "python3"
  },
  "language_info": {
   "codemirror_mode": {
    "name": "ipython",
    "version": 3
   },
   "file_extension": ".py",
   "mimetype": "text/x-python",
   "name": "python",
   "nbconvert_exporter": "python",
   "pygments_lexer": "ipython3",
   "version": "3.10.13"
  }
 },
 "nbformat": 4,
 "nbformat_minor": 2
}

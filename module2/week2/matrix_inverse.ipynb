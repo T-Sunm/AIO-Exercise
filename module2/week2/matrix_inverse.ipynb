{
 "cells": [
  {
   "cell_type": "markdown",
   "metadata": {},
   "source": [
    "## 1.5 Matrix inverse\n",
    "\n",
    "- **Matrix A:** \n",
    "  \\\n",
    "  $\\mathbf{A} = \\begin{bmatrix} \n",
    "  -2 & 6 \\\\ \n",
    "  8 & -4\n",
    "  \\end{bmatrix} $\n",
    "  \\, $\\mathbf{A} \\in \\mathbb{R}^{\\textit{2} \\ast \\textit{2}} \\ $\n",
    "  \n",
    "- **Determinant of** \n",
    " $\\mathbf{A} \\in \\mathbb{R}^{\\textit{2} \\ast \\textit{2}}$ : $\\textit{det}(\\mathbf{A})$ = $-2.-4 - 6.8 = -40$\n",
    "\n",
    "- $\\textit{det}(\\mathbf{A}) = -40 \\neq 0$  **A** is invertible\n",
    "- **Inverse Matrix:**  $\\mathbf{A}^{-1} = \\frac{1}{\\textit{det}(\\mathbf{A})} \\begin{bmatrix} d & -b \\\\ -c & a \\end{bmatrix} = \\frac{-1}{40} \\begin{bmatrix} -4 & -6 \\\\ -8 & -2 \\end{bmatrix} = \\begin{bmatrix} \\frac{1}{10} & \\frac{3}{20} \\\\ \\frac{1}{5} & \\frac{1}{20} \\end{bmatrix}$\n"
   ]
  },
  {
   "cell_type": "code",
   "execution_count": 1,
   "metadata": {},
   "outputs": [
    {
     "name": "stdout",
     "output_type": "stream",
     "text": [
      "matrix: \n",
      " [[-2  6]\n",
      " [ 8 -4]]\n",
      "Inverse Matrix: \n",
      " [[0.1  0.15]\n",
      " [0.2  0.05]]\n"
     ]
    }
   ],
   "source": [
    "import numpy as np\n",
    "def inverse_matrix(matrix):\n",
    " result = np.linalg.inv(matrix)\n",
    "\n",
    " return result\n",
    "\n",
    "matrix = np.array([[-2, 6],\n",
    "                   [8, -4]])\n",
    "\n",
    "print(\"matrix: \\n\", matrix)\n",
    "print(\"Inverse Matrix: \\n\", inverse_matrix(matrix))"
   ]
  }
 ],
 "metadata": {
  "kernelspec": {
   "display_name": "40daysPython_env",
   "language": "python",
   "name": "python3"
  },
  "language_info": {
   "codemirror_mode": {
    "name": "ipython",
    "version": 3
   },
   "file_extension": ".py",
   "mimetype": "text/x-python",
   "name": "python",
   "nbconvert_exporter": "python",
   "pygments_lexer": "ipython3",
   "version": "3.10.13"
  }
 },
 "nbformat": 4,
 "nbformat_minor": 2
}
